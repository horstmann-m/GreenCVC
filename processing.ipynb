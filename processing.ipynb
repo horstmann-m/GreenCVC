{
 "cells": [
  {
   "cell_type": "markdown",
   "metadata": {},
   "source": []
  },
  {
   "cell_type": "code",
   "execution_count": 4,
   "metadata": {},
   "outputs": [
    {
     "name": "stdout",
     "output_type": "stream",
     "text": [
      "\n",
      "✅ Done. Deleted 0 file(s).\n"
     ]
    }
   ],
   "source": [
    "from pathlib import Path\n",
    "\n",
    "# Define folders\n",
    "pdf_folder = Path(\"failed_pdfs\")\n",
    "txt_folder = Path(\"txt_final\")\n",
    "\n",
    "# Get list of .txt base names\n",
    "txt_basenames = {txt.stem for txt in txt_folder.glob(\"*.txt\")}\n",
    "\n",
    "# Loop over PDFs and delete if corresponding TXT exists\n",
    "deleted_count = 0\n",
    "for pdf in pdf_folder.glob(\"*.pdf\"):\n",
    "    if pdf.stem in txt_basenames:\n",
    "        print(f\"🗑 Deleting {pdf.name} (already processed)\")\n",
    "        pdf.unlink()\n",
    "        deleted_count += 1\n",
    "\n",
    "print(f\"\\n✅ Done. Deleted {deleted_count} file(s).\")"
   ]
  },
  {
   "cell_type": "markdown",
   "metadata": {},
   "source": []
  },
  {
   "cell_type": "code",
   "execution_count": 3,
   "metadata": {},
   "outputs": [
    {
     "name": "stdout",
     "output_type": "stream",
     "text": [
      "📚 Found 0 PDF(s) in proc_final\n"
     ]
    },
    {
     "name": "stderr",
     "output_type": "stream",
     "text": [
      "📦 Processing PDFs: 0it [00:00, ?it/s]"
     ]
    },
    {
     "name": "stdout",
     "output_type": "stream",
     "text": [
      "\n",
      "✅ All PDFs processed.\n"
     ]
    },
    {
     "name": "stderr",
     "output_type": "stream",
     "text": [
      "\n"
     ]
    }
   ],
   "source": [
    "# 🛠 Required packages:\n",
    "# pip install pytesseract pdf2image pillow tqdm\n",
    "\n",
    "import pytesseract\n",
    "from pdf2image import convert_from_path\n",
    "from tqdm import tqdm\n",
    "from pathlib import Path\n",
    "import shutil\n",
    "import gc  # For garbage collection\n",
    "\n",
    "# 📁 Define folders\n",
    "input_folder = Path(\"proc_final\")            # Folder with input PDFs\n",
    "output_folder = Path(\"txt_final\")            # Output folder for TXT files\n",
    "failed_folder = Path(\"failed_pdfs\")          # Optional: store failed PDFs\n",
    "\n",
    "output_folder.mkdir(parents=True, exist_ok=True)\n",
    "failed_folder.mkdir(parents=True, exist_ok=True)\n",
    "\n",
    "# 🧠 OCR Function\n",
    "def ocr_pdf_to_txt(pdf_path, txt_path):\n",
    "    try:\n",
    "        print(f\"🔍 Processing {pdf_path.name}\")\n",
    "        # Convert PDF to list of page images\n",
    "        pages = convert_from_path(pdf_path)\n",
    "\n",
    "        if not pages:\n",
    "            print(f\"⚠️ No pages found in {pdf_path.name}. Skipping.\")\n",
    "            return\n",
    "\n",
    "        with open(txt_path, \"w\", encoding=\"utf-8\") as out:\n",
    "            for page_number, page in enumerate(\n",
    "                tqdm(pages, desc=f\"OCR: {pdf_path.name}\", leave=False), start=1\n",
    "            ):\n",
    "                text = pytesseract.image_to_string(page)\n",
    "                out.write(f\"\\n\\n--- Page {page_number} ---\\n\\n\")\n",
    "                out.write(text)\n",
    "                del page\n",
    "                gc.collect()\n",
    "\n",
    "    except Exception as e:\n",
    "        print(f\"❌ Failed to process {pdf_path.name}: {e}\")\n",
    "        try:\n",
    "            shutil.move(str(pdf_path), failed_folder / pdf_path.name)\n",
    "            print(f\"📁 Moved to failed_pdfs: {pdf_path.name}\")\n",
    "        except Exception as move_error:\n",
    "            print(f\"⚠️ Could not move failed file: {move_error}\")\n",
    "\n",
    "# 🔁 Loop through all PDFs\n",
    "pdf_files = list(input_folder.glob(\"*.pdf\"))\n",
    "print(f\"📚 Found {len(pdf_files)} PDF(s) in {input_folder}\")\n",
    "\n",
    "for pdf_file in tqdm(pdf_files, desc=\"📦 Processing PDFs\"):\n",
    "    txt_file = output_folder / f\"{pdf_file.stem}.txt\"\n",
    "    ocr_pdf_to_txt(pdf_file, txt_file)\n",
    "\n",
    "print(\"\\n✅ All PDFs processed.\")"
   ]
  },
  {
   "cell_type": "markdown",
   "metadata": {},
   "source": [
    "2nd try ocr"
   ]
  },
  {
   "cell_type": "code",
   "execution_count": null,
   "metadata": {},
   "outputs": [
    {
     "name": "stdout",
     "output_type": "stream",
     "text": [
      "📚 Found 742 PDF(s) in failed_pdfs\n"
     ]
    },
    {
     "name": "stderr",
     "output_type": "stream",
     "text": [
      "📦 Processing PDFs:   0%|          | 0/742 [00:00<?, ?it/s]"
     ]
    },
    {
     "name": "stdout",
     "output_type": "stream",
     "text": [
      "🔍 Processing 2015-Dec-31 - Telecom Italia SpA.pdf\n"
     ]
    },
    {
     "name": "stderr",
     "output_type": "stream",
     "text": [
      "📦 Processing PDFs:   0%|          | 1/742 [04:36<56:53:49, 276.42s/it]"
     ]
    },
    {
     "name": "stdout",
     "output_type": "stream",
     "text": [
      "✅ Done and deleted: 2015-Dec-31 - Telecom Italia SpA.pdf\n",
      "🔍 Processing 2019-Dec-31 - Enagas SA.pdf\n"
     ]
    },
    {
     "name": "stderr",
     "output_type": "stream",
     "text": []
    },
    {
     "name": "stdout",
     "output_type": "stream",
     "text": [
      "✅ Done and deleted: 2019-Dec-31 - Enagas SA.pdf\n",
      "🔍 Processing 2018-Dec-31 - Merck KGaA.pdf\n"
     ]
    },
    {
     "name": "stderr",
     "output_type": "stream",
     "text": [
      "📦 Processing PDFs:   0%|          | 3/742 [10:41<42:30:11, 207.05s/it]"
     ]
    },
    {
     "name": "stdout",
     "output_type": "stream",
     "text": [
      "✅ Done and deleted: 2018-Dec-31 - Merck KGaA.pdf\n",
      "🔍 Processing 2020-Dec-31 - Repsol SA.pdf\n"
     ]
    },
    {
     "name": "stderr",
     "output_type": "stream",
     "text": [
      "📦 Processing PDFs:   1%|          | 4/742 [10:42<27:46:12, 135.46s/it]"
     ]
    },
    {
     "name": "stdout",
     "output_type": "stream",
     "text": [
      "✅ Done and deleted: 2020-Dec-31 - Repsol SA.pdf\n",
      "🔍 Processing 2012-Dec-31 - Orange SA.pdf\n"
     ]
    },
    {
     "name": "stderr",
     "output_type": "stream",
     "text": []
    },
    {
     "name": "stdout",
     "output_type": "stream",
     "text": [
      "MuPDF error: library error: FT_New_Memory_Face(AAAAAK+HelveticaNeueLTStd-Roman): unknown file format\n",
      "\n"
     ]
    },
    {
     "name": "stderr",
     "output_type": "stream",
     "text": [
      "📦 Processing PDFs:   1%|          | 5/742 [16:56<43:55:52, 214.59s/it]"
     ]
    },
    {
     "name": "stdout",
     "output_type": "stream",
     "text": [
      "✅ Done and deleted: 2012-Dec-31 - Orange SA.pdf\n",
      "🔍 Processing 2014-Dec-31 - Ackermans & Van Haaren NV.pdf\n"
     ]
    },
    {
     "name": "stderr",
     "output_type": "stream",
     "text": []
    },
    {
     "name": "stdout",
     "output_type": "stream",
     "text": [
      "✅ Done and deleted: 2014-Dec-31 - Ackermans & Van Haaren NV.pdf\n",
      "🔍 Processing 2016-Dec-31 - ING Groep NV.pdf\n"
     ]
    },
    {
     "name": "stderr",
     "output_type": "stream",
     "text": []
    },
    {
     "name": "stdout",
     "output_type": "stream",
     "text": [
      "✅ Done and deleted: 2016-Dec-31 - ING Groep NV.pdf\n",
      "🔍 Processing 2020-Sep-30 - Siemens Gamesa Renewable ....pdf\n"
     ]
    },
    {
     "name": "stderr",
     "output_type": "stream",
     "text": []
    },
    {
     "name": "stdout",
     "output_type": "stream",
     "text": [
      "✅ Done and deleted: 2020-Sep-30 - Siemens Gamesa Renewable ....pdf\n",
      "🔍 Processing 2016-Dec-31 - Volvo AB.pdf\n",
      "❌ Failed to process 2016-Dec-31 - Volvo AB.pdf: Failed to open file 'failed_pdfs/2016-Dec-31 - Volvo AB.pdf'.\n",
      "📁 Moved to failed_pdfs: 2016-Dec-31 - Volvo AB.pdf\n",
      "🔍 Processing 2014-Dec-31 - Commerzbank AG.pdf\n"
     ]
    },
    {
     "name": "stderr",
     "output_type": "stream",
     "text": []
    },
    {
     "name": "stdout",
     "output_type": "stream",
     "text": [
      "MuPDF error: library error: FT_New_Memory_Face(AAAAAP+CompatilFactLTPro-Rg): unknown file format\n",
      "\n"
     ]
    },
    {
     "name": "stderr",
     "output_type": "stream",
     "text": [
      "📦 Processing PDFs:   1%|▏         | 10/742 [21:55<21:31:06, 105.83s/it]"
     ]
    },
    {
     "name": "stdout",
     "output_type": "stream",
     "text": [
      "✅ Done and deleted: 2014-Dec-31 - Commerzbank AG.pdf\n",
      "🔍 Processing 2019-Dec-31 - AP Moeller - Maersk A or S.pdf\n"
     ]
    },
    {
     "name": "stderr",
     "output_type": "stream",
     "text": []
    },
    {
     "name": "stdout",
     "output_type": "stream",
     "text": [
      "✅ Done and deleted: 2019-Dec-31 - AP Moeller - Maersk A or S.pdf\n",
      "🔍 Processing 2021-Dec-31 - Ackermans & Van Haaren NV.pdf\n"
     ]
    },
    {
     "name": "stderr",
     "output_type": "stream",
     "text": []
    },
    {
     "name": "stdout",
     "output_type": "stream",
     "text": [
      "✅ Done and deleted: 2021-Dec-31 - Ackermans & Van Haaren NV.pdf\n",
      "🔍 Processing 2017-Dec-31 - Henkel AG & Co KGaA.pdf\n",
      "❌ Failed to process 2017-Dec-31 - Henkel AG & Co KGaA.pdf: Failed to open file 'failed_pdfs/2017-Dec-31 - Henkel AG & Co KGaA.pdf'.\n",
      "📁 Moved to failed_pdfs: 2017-Dec-31 - Henkel AG & Co KGaA.pdf\n",
      "🔍 Processing 2021-Dec-31 - Randstad NV.pdf\n"
     ]
    },
    {
     "name": "stderr",
     "output_type": "stream",
     "text": []
    },
    {
     "name": "stdout",
     "output_type": "stream",
     "text": [
      "✅ Done and deleted: 2021-Dec-31 - Randstad NV.pdf\n",
      "🔍 Processing 2020-Dec-31 - AP Moeller - Maersk A or S.pdf\n"
     ]
    },
    {
     "name": "stderr",
     "output_type": "stream",
     "text": [
      "📦 Processing PDFs:   2%|▏         | 15/742 [21:56<10:40:14, 52.84s/it] "
     ]
    },
    {
     "name": "stdout",
     "output_type": "stream",
     "text": [
      "✅ Done and deleted: 2020-Dec-31 - AP Moeller - Maersk A or S.pdf\n",
      "🔍 Processing 2018-Dec-31 - AP Moeller - Maersk A or S.pdf\n"
     ]
    },
    {
     "name": "stderr",
     "output_type": "stream",
     "text": []
    },
    {
     "name": "stdout",
     "output_type": "stream",
     "text": [
      "✅ Done and deleted: 2018-Dec-31 - AP Moeller - Maersk A or S.pdf\n",
      "🔍 Processing 2020-Dec-31 - Henkel AG & Co KGaA.pdf\n"
     ]
    },
    {
     "name": "stderr",
     "output_type": "stream",
     "text": []
    },
    {
     "name": "stdout",
     "output_type": "stream",
     "text": [
      "✅ Done and deleted: 2020-Dec-31 - Henkel AG & Co KGaA.pdf\n",
      "🔍 Processing 2017-Dec-31 - BASF SE.pdf\n"
     ]
    },
    {
     "name": "stderr",
     "output_type": "stream",
     "text": []
    },
    {
     "name": "stdout",
     "output_type": "stream",
     "text": [
      "✅ Done and deleted: 2017-Dec-31 - BASF SE.pdf\n",
      "🔍 Processing 2021-Nov-30 - H & M Hennes & Mauritz AB.pdf\n"
     ]
    },
    {
     "name": "stderr",
     "output_type": "stream",
     "text": []
    },
    {
     "name": "stdout",
     "output_type": "stream",
     "text": [
      "✅ Done and deleted: 2021-Nov-30 - H & M Hennes & Mauritz AB.pdf\n",
      "🔍 Processing 2018-Aug-31 - Sodexo SA.pdf\n"
     ]
    },
    {
     "name": "stderr",
     "output_type": "stream",
     "text": [
      "📦 Processing PDFs:   3%|▎         | 20/742 [21:56<6:10:45, 30.81s/it] "
     ]
    },
    {
     "name": "stdout",
     "output_type": "stream",
     "text": [
      "✅ Done and deleted: 2018-Aug-31 - Sodexo SA.pdf\n",
      "🔍 Processing 2019-Mar-31 - Prosus NV.pdf\n"
     ]
    },
    {
     "name": "stderr",
     "output_type": "stream",
     "text": []
    },
    {
     "name": "stdout",
     "output_type": "stream",
     "text": [
      "✅ Done and deleted: 2019-Mar-31 - Prosus NV.pdf\n",
      "🔍 Processing 2018-Dec-31 - Repsol SA.pdf\n",
      "❌ Failed to process 2018-Dec-31 - Repsol SA.pdf: Failed to open file 'failed_pdfs/2018-Dec-31 - Repsol SA.pdf'.\n",
      "📁 Moved to failed_pdfs: 2018-Dec-31 - Repsol SA.pdf\n",
      "🔍 Processing 2020-Dec-31 - Engie SA.pdf\n"
     ]
    },
    {
     "name": "stderr",
     "output_type": "stream",
     "text": []
    },
    {
     "name": "stdout",
     "output_type": "stream",
     "text": [
      "✅ Done and deleted: 2020-Dec-31 - Engie SA.pdf\n",
      "🔍 Processing 2018-Dec-31 - Nordea Bank Abp.pdf\n"
     ]
    },
    {
     "name": "stderr",
     "output_type": "stream",
     "text": []
    },
    {
     "name": "stdout",
     "output_type": "stream",
     "text": [
      "✅ Done and deleted: 2018-Dec-31 - Nordea Bank Abp.pdf\n",
      "🔍 Processing 2018-Dec-31 - Nestle SA.pdf\n",
      "❌ Failed to process 2018-Dec-31 - Nestle SA.pdf: Failed to open file 'failed_pdfs/2018-Dec-31 - Nestle SA.pdf'.\n",
      "📁 Moved to failed_pdfs: 2018-Dec-31 - Nestle SA.pdf\n",
      "🔍 Processing 2017-Dec-31 - Renault SA.pdf\n"
     ]
    },
    {
     "name": "stderr",
     "output_type": "stream",
     "text": []
    },
    {
     "name": "stdout",
     "output_type": "stream",
     "text": [
      "✅ Done and deleted: 2017-Dec-31 - Renault SA.pdf\n",
      "🔍 Processing 2019-Dec-31 - Repsol SA.pdf\n"
     ]
    },
    {
     "name": "stderr",
     "output_type": "stream",
     "text": []
    },
    {
     "name": "stdout",
     "output_type": "stream",
     "text": [
      "✅ Done and deleted: 2019-Dec-31 - Repsol SA.pdf\n",
      "🔍 Processing 2015-Dec-31 - Roche Holding AG.pdf\n"
     ]
    },
    {
     "name": "stderr",
     "output_type": "stream",
     "text": [
      "📦 Processing PDFs:   4%|▍         | 28/742 [21:56<3:07:47, 15.78s/it]"
     ]
    },
    {
     "name": "stdout",
     "output_type": "stream",
     "text": [
      "✅ Done and deleted: 2015-Dec-31 - Roche Holding AG.pdf\n",
      "🔍 Processing 2014-Dec-31 - ING Groep NV.pdf\n"
     ]
    },
    {
     "name": "stderr",
     "output_type": "stream",
     "text": []
    },
    {
     "name": "stdout",
     "output_type": "stream",
     "text": [
      "✅ Done and deleted: 2014-Dec-31 - ING Groep NV.pdf\n",
      "🔍 Processing 2017 ABB.pdf\n"
     ]
    },
    {
     "name": "stderr",
     "output_type": "stream",
     "text": [
      "📦 Processing PDFs:   4%|▍         | 30/742 [25:44<6:00:50, 30.41s/it]"
     ]
    },
    {
     "name": "stdout",
     "output_type": "stream",
     "text": [
      "✅ Done and deleted: 2017 ABB.pdf\n",
      "🔍 Processing 2016-Dec-31 - Swisscom AG.pdf\n"
     ]
    },
    {
     "name": "stderr",
     "output_type": "stream",
     "text": []
    },
    {
     "name": "stdout",
     "output_type": "stream",
     "text": [
      "✅ Done and deleted: 2016-Dec-31 - Swisscom AG.pdf\n",
      "🔍 Processing 2021-Dec-31 - Iberdrola SA.pdf\n"
     ]
    },
    {
     "name": "stderr",
     "output_type": "stream",
     "text": [
      "📦 Processing PDFs:   4%|▍         | 32/742 [29:30<8:50:11, 44.80s/it]"
     ]
    },
    {
     "name": "stdout",
     "output_type": "stream",
     "text": [
      "✅ Done and deleted: 2021-Dec-31 - Iberdrola SA.pdf\n",
      "🔍 Processing 2022-Nov-30 - H & M Hennes & Mauritz AB.pdf\n"
     ]
    },
    {
     "name": "stderr",
     "output_type": "stream",
     "text": []
    },
    {
     "name": "stdout",
     "output_type": "stream",
     "text": [
      "✅ Done and deleted: 2022-Nov-30 - H & M Hennes & Mauritz AB.pdf\n",
      "🔍 Processing 2016-Dec-31 - EnBW Energie Baden Wuertt....pdf\n"
     ]
    },
    {
     "name": "stderr",
     "output_type": "stream",
     "text": []
    },
    {
     "name": "stdout",
     "output_type": "stream",
     "text": [
      "✅ Done and deleted: 2016-Dec-31 - EnBW Energie Baden Wuertt....pdf\n",
      "🔍 Processing 2015-Aug-31 - Sodexo SA 1.pdf\n",
      "❌ Failed to process 2015-Aug-31 - Sodexo SA 1.pdf: Failed to open file 'failed_pdfs/2015-Aug-31 - Sodexo SA 1.pdf'.\n",
      "📁 Moved to failed_pdfs: 2015-Aug-31 - Sodexo SA 1.pdf\n",
      "🔍 Processing 2018-Dec-31 - Abb Ltd.pdf\n"
     ]
    },
    {
     "name": "stderr",
     "output_type": "stream",
     "text": []
    },
    {
     "name": "stdout",
     "output_type": "stream",
     "text": [
      "✅ Done and deleted: 2018-Dec-31 - Abb Ltd.pdf\n",
      "🔍 Processing 2020-Dec-31 - BASF SE.pdf\n"
     ]
    },
    {
     "name": "stderr",
     "output_type": "stream",
     "text": []
    },
    {
     "name": "stdout",
     "output_type": "stream",
     "text": [
      "✅ Done and deleted: 2020-Dec-31 - BASF SE.pdf\n",
      "🔍 Processing 2014-Dec-31 - Electricite De France SA (1).pdf\n"
     ]
    },
    {
     "name": "stderr",
     "output_type": "stream",
     "text": []
    },
    {
     "name": "stdout",
     "output_type": "stream",
     "text": [
      "✅ Done and deleted: 2014-Dec-31 - Electricite De France SA (1).pdf\n",
      "🔍 Processing 2012-Dec-31 - E On Se.pdf\n"
     ]
    },
    {
     "name": "stderr",
     "output_type": "stream",
     "text": []
    },
    {
     "name": "stdout",
     "output_type": "stream",
     "text": [
      "✅ Done and deleted: 2012-Dec-31 - E On Se.pdf\n",
      "🔍 Processing 2019-Dec-31 - Aperam SA.pdf\n"
     ]
    },
    {
     "name": "stderr",
     "output_type": "stream",
     "text": [
      "📦 Processing PDFs:   5%|▌         | 40/742 [29:30<4:22:12, 22.41s/it]"
     ]
    },
    {
     "name": "stdout",
     "output_type": "stream",
     "text": [
      "✅ Done and deleted: 2019-Dec-31 - Aperam SA.pdf\n",
      "🔍 Processing 2019-Dec-31 - SEB SA.pdf\n"
     ]
    },
    {
     "name": "stderr",
     "output_type": "stream",
     "text": []
    },
    {
     "name": "stdout",
     "output_type": "stream",
     "text": [
      "MuPDF error: library error: FT_New_Memory_Face(AAAAAF+HelveticaNeueLTStd-Roman): unknown file format\n",
      "\n"
     ]
    },
    {
     "name": "stderr",
     "output_type": "stream",
     "text": [
      "📦 Processing PDFs:   6%|▌         | 41/742 [32:45<7:07:17, 36.57s/it]"
     ]
    },
    {
     "name": "stdout",
     "output_type": "stream",
     "text": [
      "✅ Done and deleted: 2019-Dec-31 - SEB SA.pdf\n",
      "🔍 Processing 2018-Dec-31 - Iren SpA.pdf\n"
     ]
    },
    {
     "name": "stderr",
     "output_type": "stream",
     "text": []
    },
    {
     "name": "stdout",
     "output_type": "stream",
     "text": [
      "✅ Done and deleted: 2018-Dec-31 - Iren SpA.pdf\n",
      "🔍 Processing 2022-Dec-31 - Evonik Industries AG.pdf\n"
     ]
    },
    {
     "name": "stderr",
     "output_type": "stream",
     "text": []
    },
    {
     "name": "stdout",
     "output_type": "stream",
     "text": [
      "✅ Done and deleted: 2022-Dec-31 - Evonik Industries AG.pdf\n",
      "🔍 Processing 2021-Dec-31 - Vestas Wind Systems A or S.pdf\n"
     ]
    },
    {
     "name": "stderr",
     "output_type": "stream",
     "text": []
    },
    {
     "name": "stdout",
     "output_type": "stream",
     "text": [
      "✅ Done and deleted: 2021-Dec-31 - Vestas Wind Systems A or S.pdf\n",
      "🔍 Processing 2017-Dec-31 - EDP SA.pdf\n"
     ]
    },
    {
     "name": "stderr",
     "output_type": "stream",
     "text": []
    },
    {
     "name": "stdout",
     "output_type": "stream",
     "text": [
      "✅ Done and deleted: 2017-Dec-31 - EDP SA.pdf\n",
      "🔍 Processing 2018-Dec-31 - ABN Amro Bank NV.pdf\n"
     ]
    },
    {
     "name": "stderr",
     "output_type": "stream",
     "text": []
    },
    {
     "name": "stdout",
     "output_type": "stream",
     "text": [
      "✅ Done and deleted: 2018-Dec-31 - ABN Amro Bank NV.pdf\n",
      "🔍 Processing 2012-Dec-31 - Commerzbank AG.pdf\n"
     ]
    },
    {
     "name": "stderr",
     "output_type": "stream",
     "text": []
    },
    {
     "name": "stdout",
     "output_type": "stream",
     "text": [
      "✅ Done and deleted: 2012-Dec-31 - Commerzbank AG.pdf\n",
      "🔍 Processing 2017-Dec-31 - Gaztransport et Technigaz....pdf\n"
     ]
    },
    {
     "name": "stderr",
     "output_type": "stream",
     "text": []
    },
    {
     "name": "stdout",
     "output_type": "stream",
     "text": [
      "✅ Done and deleted: 2017-Dec-31 - Gaztransport et Technigaz....pdf\n",
      "🔍 Processing 2022-Dec-31 - Evli Oyj.pdf\n"
     ]
    },
    {
     "name": "stderr",
     "output_type": "stream",
     "text": [
      "📦 Processing PDFs:   7%|▋         | 49/742 [32:45<3:38:11, 18.89s/it]"
     ]
    },
    {
     "name": "stdout",
     "output_type": "stream",
     "text": [
      "✅ Done and deleted: 2022-Dec-31 - Evli Oyj.pdf\n",
      "🔍 Processing 2021-Dec-31 - Orlen SA.pdf\n"
     ]
    },
    {
     "name": "stderr",
     "output_type": "stream",
     "text": []
    },
    {
     "name": "stdout",
     "output_type": "stream",
     "text": [
      "✅ Done and deleted: 2021-Dec-31 - Orlen SA.pdf\n",
      "🔍 Processing 2013-Dec-31 - Bilfinger SE.pdf\n"
     ]
    },
    {
     "name": "stderr",
     "output_type": "stream",
     "text": []
    },
    {
     "name": "stdout",
     "output_type": "stream",
     "text": [
      "✅ Done and deleted: 2013-Dec-31 - Bilfinger SE.pdf\n",
      "🔍 Processing 2012-Dec-31 - Fortum Oyj.pdf\n"
     ]
    },
    {
     "name": "stderr",
     "output_type": "stream",
     "text": []
    },
    {
     "name": "stdout",
     "output_type": "stream",
     "text": [
      "✅ Done and deleted: 2012-Dec-31 - Fortum Oyj.pdf\n",
      "🔍 Processing 2017-Dec-31 - Roche Holding AG.pdf\n"
     ]
    },
    {
     "name": "stderr",
     "output_type": "stream",
     "text": []
    },
    {
     "name": "stdout",
     "output_type": "stream",
     "text": [
      "✅ Done and deleted: 2017-Dec-31 - Roche Holding AG.pdf\n",
      "🔍 Processing 2021-Dec-31 - SEMAPA Sociedade de Inves....pdf\n"
     ]
    },
    {
     "name": "stderr",
     "output_type": "stream",
     "text": []
    },
    {
     "name": "stdout",
     "output_type": "stream",
     "text": [
      "✅ Done and deleted: 2021-Dec-31 - SEMAPA Sociedade de Inves....pdf\n",
      "🔍 Processing 20210426_VIV_DEU_VIVENDI_2020_VA.pdf\n"
     ]
    },
    {
     "name": "stderr",
     "output_type": "stream",
     "text": []
    },
    {
     "name": "stdout",
     "output_type": "stream",
     "text": [
      "✅ Done and deleted: 20210426_VIV_DEU_VIVENDI_2020_VA.pdf\n",
      "🔍 Processing 2017-Dec-31 - Beiersdorf AG.pdf\n",
      "❌ Failed to process 2017-Dec-31 - Beiersdorf AG.pdf: Failed to open file 'failed_pdfs/2017-Dec-31 - Beiersdorf AG.pdf'.\n",
      "📁 Moved to failed_pdfs: 2017-Dec-31 - Beiersdorf AG.pdf\n",
      "🔍 Processing 2022 vivendi.pdf\n"
     ]
    },
    {
     "name": "stderr",
     "output_type": "stream",
     "text": [
      "📦 Processing PDFs:   8%|▊         | 57/742 [32:45<2:07:36, 11.18s/it]"
     ]
    },
    {
     "name": "stdout",
     "output_type": "stream",
     "text": [
      "✅ Done and deleted: 2022 vivendi.pdf\n",
      "🔍 Processing 2021-Dec-31 - Koninklijke Vopak NV.pdf\n"
     ]
    },
    {
     "name": "stderr",
     "output_type": "stream",
     "text": []
    },
    {
     "name": "stdout",
     "output_type": "stream",
     "text": [
      "✅ Done and deleted: 2021-Dec-31 - Koninklijke Vopak NV.pdf\n",
      "🔍 Processing 2017-Dec-31 - Bouygues SA.pdf\n"
     ]
    },
    {
     "name": "stderr",
     "output_type": "stream",
     "text": []
    },
    {
     "name": "stdout",
     "output_type": "stream",
     "text": [
      "✅ Done and deleted: 2017-Dec-31 - Bouygues SA.pdf\n",
      "🔍 Processing 2018-Dec-31 - Roche Holding AG.pdf\n"
     ]
    },
    {
     "name": "stderr",
     "output_type": "stream",
     "text": []
    },
    {
     "name": "stdout",
     "output_type": "stream",
     "text": [
      "✅ Done and deleted: 2018-Dec-31 - Roche Holding AG.pdf\n",
      "🔍 Processing 2018-Dec-31 - BASF SE.pdf\n"
     ]
    },
    {
     "name": "stderr",
     "output_type": "stream",
     "text": []
    },
    {
     "name": "stdout",
     "output_type": "stream",
     "text": [
      "✅ Done and deleted: 2018-Dec-31 - BASF SE.pdf\n",
      "🔍 Processing 2013-Dec-31 - Siemens Gamesa Renewable ....pdf\n"
     ]
    },
    {
     "name": "stderr",
     "output_type": "stream",
     "text": []
    },
    {
     "name": "stdout",
     "output_type": "stream",
     "text": [
      "✅ Done and deleted: 2013-Dec-31 - Siemens Gamesa Renewable ....pdf\n",
      "🔍 Processing 2021-Dec-31 - BASF SE.pdf\n"
     ]
    },
    {
     "name": "stderr",
     "output_type": "stream",
     "text": []
    },
    {
     "name": "stdout",
     "output_type": "stream",
     "text": [
      "✅ Done and deleted: 2021-Dec-31 - BASF SE.pdf\n",
      "🔍 Processing 2013-Dec-31 - Orlen SA.pdf\n"
     ]
    },
    {
     "name": "stderr",
     "output_type": "stream",
     "text": []
    },
    {
     "name": "stdout",
     "output_type": "stream",
     "text": [
      "✅ Done and deleted: 2013-Dec-31 - Orlen SA.pdf\n",
      "🔍 Processing 2017-Dec-31 - Metsa Board Oyj.pdf\n"
     ]
    },
    {
     "name": "stderr",
     "output_type": "stream",
     "text": [
      "📦 Processing PDFs:   9%|▉         | 65/742 [32:45<1:19:41,  7.06s/it]"
     ]
    },
    {
     "name": "stdout",
     "output_type": "stream",
     "text": [
      "✅ Done and deleted: 2017-Dec-31 - Metsa Board Oyj.pdf\n",
      "🔍 Processing 2019-Dec-31 - Sopra Steria Group SA.pdf\n"
     ]
    },
    {
     "name": "stderr",
     "output_type": "stream",
     "text": [
      "📦 Processing PDFs:   9%|▉         | 65/742 [33:02<1:19:41,  7.06s/it]"
     ]
    },
    {
     "name": "stdout",
     "output_type": "stream",
     "text": [
      "MuPDF error: library error: FT_New_Memory_Face(AAAACM+HurmeGeometricSans4-SemiBold): unknown file format\n",
      "\n"
     ]
    },
    {
     "name": "stderr",
     "output_type": "stream",
     "text": [
      "📦 Processing PDFs:   9%|▉         | 66/742 [35:23<3:04:21, 16.36s/it]"
     ]
    },
    {
     "name": "stdout",
     "output_type": "stream",
     "text": [
      "✅ Done and deleted: 2019-Dec-31 - Sopra Steria Group SA.pdf\n",
      "🔍 Processing 2020-Dec-31 - TotalEnergies SE.pdf\n"
     ]
    },
    {
     "name": "stderr",
     "output_type": "stream",
     "text": []
    },
    {
     "name": "stdout",
     "output_type": "stream",
     "text": [
      "✅ Done and deleted: 2020-Dec-31 - TotalEnergies SE.pdf\n",
      "🔍 Processing 2014-Dec-31 - Schneider Electric SE 1.pdf\n"
     ]
    },
    {
     "name": "stderr",
     "output_type": "stream",
     "text": [
      "📦 Processing PDFs:   9%|▉         | 68/742 [37:54<4:43:32, 25.24s/it]"
     ]
    },
    {
     "name": "stdout",
     "output_type": "stream",
     "text": [
      "✅ Done and deleted: 2014-Dec-31 - Schneider Electric SE 1.pdf\n",
      "🔍 Processing 2012 hm.pdf\n"
     ]
    },
    {
     "name": "stderr",
     "output_type": "stream",
     "text": []
    },
    {
     "name": "stdout",
     "output_type": "stream",
     "text": [
      "✅ Done and deleted: 2012 hm.pdf\n",
      "🔍 Processing 2020-Dec-31 - Fortum Oyj.pdf\n"
     ]
    },
    {
     "name": "stderr",
     "output_type": "stream",
     "text": []
    },
    {
     "name": "stdout",
     "output_type": "stream",
     "text": [
      "✅ Done and deleted: 2020-Dec-31 - Fortum Oyj.pdf\n",
      "🔍 Processing 2012-Dec-31 - Billerud AB (publ).pdf\n"
     ]
    },
    {
     "name": "stderr",
     "output_type": "stream",
     "text": []
    },
    {
     "name": "stdout",
     "output_type": "stream",
     "text": [
      "✅ Done and deleted: 2012-Dec-31 - Billerud AB (publ).pdf\n",
      "🔍 Processing 2014-Dec-31 - Qemetica SA.pdf\n"
     ]
    },
    {
     "name": "stderr",
     "output_type": "stream",
     "text": []
    },
    {
     "name": "stdout",
     "output_type": "stream",
     "text": [
      "✅ Done and deleted: 2014-Dec-31 - Qemetica SA.pdf\n",
      "🔍 Processing 2020-Dec-31 - Beiersdorf AG.pdf\n"
     ]
    },
    {
     "name": "stderr",
     "output_type": "stream",
     "text": []
    },
    {
     "name": "stdout",
     "output_type": "stream",
     "text": [
      "✅ Done and deleted: 2020-Dec-31 - Beiersdorf AG.pdf\n",
      "🔍 Processing 2022-Dec-31 - SEB SA.pdf\n"
     ]
    },
    {
     "name": "stderr",
     "output_type": "stream",
     "text": []
    },
    {
     "name": "stdout",
     "output_type": "stream",
     "text": [
      "✅ Done and deleted: 2022-Dec-31 - SEB SA.pdf\n",
      "🔍 Processing 2019-Dec-31 - Metsa Board Oyj.pdf\n"
     ]
    },
    {
     "name": "stderr",
     "output_type": "stream",
     "text": [
      "📦 Processing PDFs:  10%|█         | 75/742 [37:54<2:40:30, 14.44s/it]"
     ]
    },
    {
     "name": "stdout",
     "output_type": "stream",
     "text": [
      "✅ Done and deleted: 2019-Dec-31 - Metsa Board Oyj.pdf\n",
      "🔍 Processing 2017-Dec-31 - Enagas SA.pdf\n"
     ]
    },
    {
     "name": "stderr",
     "output_type": "stream",
     "text": []
    },
    {
     "name": "stdout",
     "output_type": "stream",
     "text": [
      "✅ Done and deleted: 2017-Dec-31 - Enagas SA.pdf\n",
      "🔍 Processing 2017 tf1.pdf\n"
     ]
    },
    {
     "name": "stderr",
     "output_type": "stream",
     "text": []
    },
    {
     "name": "stdout",
     "output_type": "stream",
     "text": [
      "✅ Done and deleted: 2017 tf1.pdf\n",
      "🔍 Processing 2020-Dec-31 - Qemetica SA.pdf\n"
     ]
    },
    {
     "name": "stderr",
     "output_type": "stream",
     "text": []
    },
    {
     "name": "stdout",
     "output_type": "stream",
     "text": [
      "✅ Done and deleted: 2020-Dec-31 - Qemetica SA.pdf\n",
      "🔍 Processing 2015-Dec-31 - Qemetica SA.pdf\n"
     ]
    },
    {
     "name": "stderr",
     "output_type": "stream",
     "text": []
    },
    {
     "name": "stdout",
     "output_type": "stream",
     "text": [
      "✅ Done and deleted: 2015-Dec-31 - Qemetica SA.pdf\n",
      "🔍 Processing 2020-Dec-31 - Orlen SA.pdf\n"
     ]
    },
    {
     "name": "stderr",
     "output_type": "stream",
     "text": []
    },
    {
     "name": "stdout",
     "output_type": "stream",
     "text": [
      "✅ Done and deleted: 2020-Dec-31 - Orlen SA.pdf\n",
      "🔍 Processing 2020 arcelor.pdf\n"
     ]
    },
    {
     "name": "stderr",
     "output_type": "stream",
     "text": []
    },
    {
     "name": "stdout",
     "output_type": "stream",
     "text": [
      "✅ Done and deleted: 2020 arcelor.pdf\n",
      "🔍 Processing 2015-Dec-31 - SAP SE.pdf\n"
     ]
    },
    {
     "name": "stderr",
     "output_type": "stream",
     "text": [
      "📦 Processing PDFs:  11%|█         | 82/742 [37:55<1:38:34,  8.96s/it]"
     ]
    },
    {
     "name": "stdout",
     "output_type": "stream",
     "text": [
      "✅ Done and deleted: 2015-Dec-31 - SAP SE.pdf\n",
      "🔍 Processing 2021-Dec-31 - Abb Ltd.pdf\n"
     ]
    },
    {
     "name": "stderr",
     "output_type": "stream",
     "text": []
    },
    {
     "name": "stdout",
     "output_type": "stream",
     "text": [
      "✅ Done and deleted: 2021-Dec-31 - Abb Ltd.pdf\n",
      "🔍 Processing 2020-Dec-31 - Koninklijke KPN NV.pdf\n"
     ]
    },
    {
     "name": "stderr",
     "output_type": "stream",
     "text": []
    },
    {
     "name": "stdout",
     "output_type": "stream",
     "text": [
      "✅ Done and deleted: 2020-Dec-31 - Koninklijke KPN NV.pdf\n",
      "🔍 Processing 2015-Dec-31 - EDP SA.pdf\n"
     ]
    },
    {
     "name": "stderr",
     "output_type": "stream",
     "text": []
    },
    {
     "name": "stdout",
     "output_type": "stream",
     "text": [
      "✅ Done and deleted: 2015-Dec-31 - EDP SA.pdf\n",
      "🔍 Processing 2022-Dec-31 - SAP SE.pdf\n"
     ]
    },
    {
     "name": "stderr",
     "output_type": "stream",
     "text": []
    },
    {
     "name": "stdout",
     "output_type": "stream",
     "text": [
      "✅ Done and deleted: 2022-Dec-31 - SAP SE.pdf\n",
      "🔍 Processing 2013-Dec-31 - BASF SE.pdf\n"
     ]
    },
    {
     "name": "stderr",
     "output_type": "stream",
     "text": []
    },
    {
     "name": "stdout",
     "output_type": "stream",
     "text": [
      "✅ Done and deleted: 2013-Dec-31 - BASF SE.pdf\n",
      "🔍 Processing 2018-Dec-31 - Solvay SA.pdf\n"
     ]
    },
    {
     "name": "stderr",
     "output_type": "stream",
     "text": []
    },
    {
     "name": "stdout",
     "output_type": "stream",
     "text": [
      "✅ Done and deleted: 2018-Dec-31 - Solvay SA.pdf\n",
      "🔍 Processing 2019-Dec-31 - SEMAPA Sociedade de Inves....pdf\n"
     ]
    },
    {
     "name": "stderr",
     "output_type": "stream",
     "text": []
    },
    {
     "name": "stdout",
     "output_type": "stream",
     "text": [
      "✅ Done and deleted: 2019-Dec-31 - SEMAPA Sociedade de Inves....pdf\n",
      "🔍 Processing 2021-Dec-31 - Beiersdorf AG.pdf\n"
     ]
    },
    {
     "name": "stderr",
     "output_type": "stream",
     "text": []
    },
    {
     "name": "stdout",
     "output_type": "stream",
     "text": [
      "✅ Done and deleted: 2021-Dec-31 - Beiersdorf AG.pdf\n",
      "🔍 Processing 2022-Dec-31 - Deutsche Telekom AG (2).pdf\n"
     ]
    },
    {
     "name": "stderr",
     "output_type": "stream",
     "text": [
      "📦 Processing PDFs:  12%|█▏        | 91/742 [37:55<57:20,  5.28s/it]  "
     ]
    },
    {
     "name": "stdout",
     "output_type": "stream",
     "text": [
      "✅ Done and deleted: 2022-Dec-31 - Deutsche Telekom AG (2).pdf\n",
      "🔍 Processing 2020-Dec-31 - Lotus Bakeries NV.pdf\n"
     ]
    },
    {
     "name": "stderr",
     "output_type": "stream",
     "text": []
    },
    {
     "name": "stdout",
     "output_type": "stream",
     "text": [
      "✅ Done and deleted: 2020-Dec-31 - Lotus Bakeries NV.pdf\n",
      "🔍 Processing 2021-Dec-31 - Nordea Bank Abp.pdf\n"
     ]
    },
    {
     "name": "stderr",
     "output_type": "stream",
     "text": []
    },
    {
     "name": "stdout",
     "output_type": "stream",
     "text": [
      "✅ Done and deleted: 2021-Dec-31 - Nordea Bank Abp.pdf\n",
      "🔍 Processing 2012-Dec-31 - L'Air Liquide Societe Ano....pdf\n"
     ]
    },
    {
     "name": "stderr",
     "output_type": "stream",
     "text": []
    },
    {
     "name": "stdout",
     "output_type": "stream",
     "text": [
      "✅ Done and deleted: 2012-Dec-31 - L'Air Liquide Societe Ano....pdf\n",
      "🔍 Processing 2012-Dec-31 - Fresenius Medical Care AG.pdf\n"
     ]
    },
    {
     "name": "stderr",
     "output_type": "stream",
     "text": []
    },
    {
     "name": "stdout",
     "output_type": "stream",
     "text": [
      "✅ Done and deleted: 2012-Dec-31 - Fresenius Medical Care AG.pdf\n",
      "🔍 Processing 2014-Dec-31 - Orange SA.pdf\n"
     ]
    },
    {
     "name": "stderr",
     "output_type": "stream",
     "text": [
      "📦 Processing PDFs:  12%|█▏        | 91/742 [38:12<57:20,  5.28s/it]"
     ]
    },
    {
     "name": "stdout",
     "output_type": "stream",
     "text": [
      "MuPDF error: library error: FT_New_Memory_Face(AAAABF+HelveticaNeue-Light): unknown file format\n",
      "\n"
     ]
    },
    {
     "name": "stderr",
     "output_type": "stream",
     "text": [
      "📦 Processing PDFs:  13%|█▎        | 96/742 [42:54<3:21:10, 18.68s/it]"
     ]
    },
    {
     "name": "stdout",
     "output_type": "stream",
     "text": [
      "✅ Done and deleted: 2014-Dec-31 - Orange SA.pdf\n",
      "🔍 Processing 2015-Dec-31 - Bouygues SA.pdf\n"
     ]
    },
    {
     "name": "stderr",
     "output_type": "stream",
     "text": []
    },
    {
     "name": "stdout",
     "output_type": "stream",
     "text": [
      "MuPDF error: library error: FT_New_Memory_Face(AAAAAO+HelveticaNeueLTStd-Roman): unknown file format\n",
      "\n"
     ]
    },
    {
     "name": "stderr",
     "output_type": "stream",
     "text": [
      "📦 Processing PDFs:  13%|█▎        | 97/742 [46:41<5:47:53, 32.36s/it]"
     ]
    },
    {
     "name": "stdout",
     "output_type": "stream",
     "text": [
      "✅ Done and deleted: 2015-Dec-31 - Bouygues SA.pdf\n",
      "🔍 Processing 2022-Dec-31 - Bouygues SA.pdf\n"
     ]
    },
    {
     "name": "stderr",
     "output_type": "stream",
     "text": []
    },
    {
     "name": "stdout",
     "output_type": "stream",
     "text": [
      "✅ Done and deleted: 2022-Dec-31 - Bouygues SA.pdf\n",
      "🔍 Processing 2019-Dec-31 - Nordea Bank Abp.pdf\n"
     ]
    },
    {
     "name": "stderr",
     "output_type": "stream",
     "text": []
    },
    {
     "name": "stdout",
     "output_type": "stream",
     "text": [
      "✅ Done and deleted: 2019-Dec-31 - Nordea Bank Abp.pdf\n",
      "🔍 Processing 2013-Sep-30 - Siemens AG.pdf\n"
     ]
    },
    {
     "name": "stderr",
     "output_type": "stream",
     "text": []
    },
    {
     "name": "stdout",
     "output_type": "stream",
     "text": [
      "✅ Done and deleted: 2013-Sep-30 - Siemens AG.pdf\n",
      "🔍 Processing 2014-Dec-31 - Volvo AB.pdf\n"
     ]
    },
    {
     "name": "stderr",
     "output_type": "stream",
     "text": []
    },
    {
     "name": "stdout",
     "output_type": "stream",
     "text": [
      "✅ Done and deleted: 2014-Dec-31 - Volvo AB.pdf\n",
      "🔍 Processing 2019-Dec-31 - Orlen SA.pdf\n"
     ]
    },
    {
     "name": "stderr",
     "output_type": "stream",
     "text": []
    },
    {
     "name": "stdout",
     "output_type": "stream",
     "text": [
      "✅ Done and deleted: 2019-Dec-31 - Orlen SA.pdf\n",
      "🔍 Processing 2019 tf1.pdf\n"
     ]
    },
    {
     "name": "stderr",
     "output_type": "stream",
     "text": []
    },
    {
     "name": "stdout",
     "output_type": "stream",
     "text": [
      "✅ Done and deleted: 2019 tf1.pdf\n",
      "🔍 Processing 2014-Dec-31 - Koninklijke Philips NV.pdf\n"
     ]
    },
    {
     "name": "stderr",
     "output_type": "stream",
     "text": []
    },
    {
     "name": "stdout",
     "output_type": "stream",
     "text": [
      "✅ Done and deleted: 2014-Dec-31 - Koninklijke Philips NV.pdf\n",
      "🔍 Processing 2014-Dec-31 - Bertelsmann SE & Co KgaA.pdf\n"
     ]
    },
    {
     "name": "stderr",
     "output_type": "stream",
     "text": [
      "📦 Processing PDFs:  14%|█▍        | 105/742 [46:41<3:16:21, 18.50s/it]"
     ]
    },
    {
     "name": "stdout",
     "output_type": "stream",
     "text": [
      "✅ Done and deleted: 2014-Dec-31 - Bertelsmann SE & Co KgaA.pdf\n",
      "🔍 Processing 2015-Dec-31 - Siemens Gamesa Renewable ....pdf\n"
     ]
    },
    {
     "name": "stderr",
     "output_type": "stream",
     "text": [
      "📦 Processing PDFs:  14%|█▍        | 106/742 [47:35<3:43:14, 21.06s/it]"
     ]
    },
    {
     "name": "stdout",
     "output_type": "stream",
     "text": [
      "✅ Done and deleted: 2015-Dec-31 - Siemens Gamesa Renewable ....pdf\n",
      "🔍 Processing 2017-Dec-31 - Telecom Italia SpA.pdf\n"
     ]
    },
    {
     "name": "stderr",
     "output_type": "stream",
     "text": [
      "📦 Processing PDFs:  14%|█▍        | 107/742 [49:19<5:03:32, 28.68s/it]"
     ]
    },
    {
     "name": "stdout",
     "output_type": "stream",
     "text": [
      "✅ Done and deleted: 2017-Dec-31 - Telecom Italia SpA.pdf\n",
      "🔍 Processing 2012-Dec-31 - Bilfinger SE.pdf\n"
     ]
    },
    {
     "name": "stderr",
     "output_type": "stream",
     "text": []
    },
    {
     "name": "stdout",
     "output_type": "stream",
     "text": [
      "✅ Done and deleted: 2012-Dec-31 - Bilfinger SE.pdf\n",
      "🔍 Processing 2022 sodexo.pdf\n"
     ]
    },
    {
     "name": "stderr",
     "output_type": "stream",
     "text": []
    },
    {
     "name": "stdout",
     "output_type": "stream",
     "text": [
      "✅ Done and deleted: 2022 sodexo.pdf\n",
      "🔍 Processing 2016-Dec-31 - Telecom Italia SpA.pdf\n"
     ]
    },
    {
     "name": "stderr",
     "output_type": "stream",
     "text": []
    },
    {
     "name": "stdout",
     "output_type": "stream",
     "text": [
      "✅ Done and deleted: 2016-Dec-31 - Telecom Italia SpA.pdf\n",
      "🔍 Processing 2021-Dec-31 - SAP SE.pdf\n"
     ]
    },
    {
     "name": "stderr",
     "output_type": "stream",
     "text": []
    },
    {
     "name": "stdout",
     "output_type": "stream",
     "text": [
      "✅ Done and deleted: 2021-Dec-31 - SAP SE.pdf\n",
      "🔍 Processing 2017-Dec-31 - AP Moeller - Maersk A or S.pdf\n"
     ]
    },
    {
     "name": "stderr",
     "output_type": "stream",
     "text": []
    },
    {
     "name": "stdout",
     "output_type": "stream",
     "text": [
      "✅ Done and deleted: 2017-Dec-31 - AP Moeller - Maersk A or S.pdf\n",
      "🔍 Processing 2017-Dec-31 - Novartis AG.pdf\n"
     ]
    },
    {
     "name": "stderr",
     "output_type": "stream",
     "text": []
    },
    {
     "name": "stdout",
     "output_type": "stream",
     "text": [
      "✅ Done and deleted: 2017-Dec-31 - Novartis AG.pdf\n",
      "🔍 Processing 2012-Dec-31 - Koninklijke KPN NV.pdf\n"
     ]
    },
    {
     "name": "stderr",
     "output_type": "stream",
     "text": []
    },
    {
     "name": "stdout",
     "output_type": "stream",
     "text": [
      "✅ Done and deleted: 2012-Dec-31 - Koninklijke KPN NV.pdf\n",
      "🔍 Processing 2021-Dec-31 - Equinor ASA.pdf\n"
     ]
    },
    {
     "name": "stderr",
     "output_type": "stream",
     "text": []
    },
    {
     "name": "stdout",
     "output_type": "stream",
     "text": [
      "✅ Done and deleted: 2021-Dec-31 - Equinor ASA.pdf\n",
      "🔍 Processing 2021-Dec-31 - Nestle SA.pdf\n"
     ]
    },
    {
     "name": "stderr",
     "output_type": "stream",
     "text": [
      "📦 Processing PDFs:  16%|█▌        | 116/742 [49:19<2:16:59, 13.13s/it]"
     ]
    },
    {
     "name": "stdout",
     "output_type": "stream",
     "text": [
      "✅ Done and deleted: 2021-Dec-31 - Nestle SA.pdf\n",
      "🔍 Processing 2016-Dec-31 - Abb Ltd.pdf\n"
     ]
    },
    {
     "name": "stderr",
     "output_type": "stream",
     "text": []
    },
    {
     "name": "stdout",
     "output_type": "stream",
     "text": [
      "✅ Done and deleted: 2016-Dec-31 - Abb Ltd.pdf\n",
      "🔍 Processing 2022-Dec-31 - Repsol SA (1).pdf\n"
     ]
    },
    {
     "name": "stderr",
     "output_type": "stream",
     "text": []
    },
    {
     "name": "stdout",
     "output_type": "stream",
     "text": [
      "✅ Done and deleted: 2022-Dec-31 - Repsol SA (1).pdf\n",
      "🔍 Processing 2021-Dec-31 - Billerud AB (publ).pdf\n"
     ]
    },
    {
     "name": "stderr",
     "output_type": "stream",
     "text": []
    },
    {
     "name": "stdout",
     "output_type": "stream",
     "text": [
      "✅ Done and deleted: 2021-Dec-31 - Billerud AB (publ).pdf\n",
      "🔍 Processing 2019-Dec-31 - BASF SE.pdf\n"
     ]
    },
    {
     "name": "stderr",
     "output_type": "stream",
     "text": []
    },
    {
     "name": "stdout",
     "output_type": "stream",
     "text": [
      "✅ Done and deleted: 2019-Dec-31 - BASF SE.pdf\n",
      "🔍 Processing 2022-Dec-31 - Swisscom AG.pdf\n"
     ]
    },
    {
     "name": "stderr",
     "output_type": "stream",
     "text": []
    },
    {
     "name": "stdout",
     "output_type": "stream",
     "text": [
      "✅ Done and deleted: 2022-Dec-31 - Swisscom AG.pdf\n",
      "🔍 Processing 2013-Dec-31 - Randstad NV.pdf\n"
     ]
    },
    {
     "name": "stderr",
     "output_type": "stream",
     "text": []
    },
    {
     "name": "stdout",
     "output_type": "stream",
     "text": [
      "✅ Done and deleted: 2013-Dec-31 - Randstad NV.pdf\n",
      "🔍 Processing 2020-Dec-31 - Shell PLC.pdf\n"
     ]
    },
    {
     "name": "stderr",
     "output_type": "stream",
     "text": []
    },
    {
     "name": "stdout",
     "output_type": "stream",
     "text": [
      "✅ Done and deleted: 2020-Dec-31 - Shell PLC.pdf\n",
      "🔍 Processing 2018-Dec-31 - Electricite De France SA.pdf\n"
     ]
    },
    {
     "name": "stderr",
     "output_type": "stream",
     "text": [
      "📦 Processing PDFs:  17%|█▋        | 124/742 [49:19<1:20:13,  7.79s/it]"
     ]
    },
    {
     "name": "stdout",
     "output_type": "stream",
     "text": [
      "✅ Done and deleted: 2018-Dec-31 - Electricite De France SA.pdf\n",
      "🔍 Processing 2017-Dec-31 - Ackermans & Van Haaren NV.pdf\n"
     ]
    },
    {
     "name": "stderr",
     "output_type": "stream",
     "text": []
    },
    {
     "name": "stdout",
     "output_type": "stream",
     "text": [
      "✅ Done and deleted: 2017-Dec-31 - Ackermans & Van Haaren NV.pdf\n",
      "🔍 Processing 2019-Dec-31 - Television Francaise 1 SA.pdf\n"
     ]
    },
    {
     "name": "stderr",
     "output_type": "stream",
     "text": []
    },
    {
     "name": "stdout",
     "output_type": "stream",
     "text": [
      "✅ Done and deleted: 2019-Dec-31 - Television Francaise 1 SA.pdf\n",
      "🔍 Processing 2022-Dec-31 - Billerud AB (publ).pdf\n"
     ]
    },
    {
     "name": "stderr",
     "output_type": "stream",
     "text": []
    },
    {
     "name": "stdout",
     "output_type": "stream",
     "text": [
      "✅ Done and deleted: 2022-Dec-31 - Billerud AB (publ).pdf\n",
      "🔍 Processing 2014-Dec-31 - Orlen SA.pdf\n"
     ]
    },
    {
     "name": "stderr",
     "output_type": "stream",
     "text": []
    },
    {
     "name": "stdout",
     "output_type": "stream",
     "text": [
      "✅ Done and deleted: 2014-Dec-31 - Orlen SA.pdf\n",
      "🔍 Processing 2012-Dec-31 - L'Oreal SA.pdf\n"
     ]
    },
    {
     "name": "stderr",
     "output_type": "stream",
     "text": []
    },
    {
     "name": "stdout",
     "output_type": "stream",
     "text": [
      "✅ Done and deleted: 2012-Dec-31 - L'Oreal SA.pdf\n",
      "🔍 Processing 2022-Dec-31 - EnBW Energie Baden Wuertt....pdf\n"
     ]
    },
    {
     "name": "stderr",
     "output_type": "stream",
     "text": []
    },
    {
     "name": "stdout",
     "output_type": "stream",
     "text": [
      "✅ Done and deleted: 2022-Dec-31 - EnBW Energie Baden Wuertt....pdf\n",
      "🔍 Processing 2020-Dec-31 - Swisscom AG.pdf\n"
     ]
    },
    {
     "name": "stderr",
     "output_type": "stream",
     "text": [
      "📦 Processing PDFs:  18%|█▊        | 131/742 [49:19<52:35,  5.16s/it]  "
     ]
    },
    {
     "name": "stdout",
     "output_type": "stream",
     "text": [
      "✅ Done and deleted: 2020-Dec-31 - Swisscom AG.pdf\n",
      "🔍 Processing 2014-Dec-31 - Evonik Industries AG.pdf\n"
     ]
    },
    {
     "name": "stderr",
     "output_type": "stream",
     "text": []
    },
    {
     "name": "stdout",
     "output_type": "stream",
     "text": [
      "MuPDF error: library error: FT_New_Memory_Face(AAAAAE+EvonikProkyon-Light): unknown file format\n",
      "\n"
     ]
    },
    {
     "name": "stderr",
     "output_type": "stream",
     "text": [
      "📦 Processing PDFs:  18%|█▊        | 132/742 [52:46<3:04:37, 18.16s/it]"
     ]
    },
    {
     "name": "stdout",
     "output_type": "stream",
     "text": [
      "✅ Done and deleted: 2014-Dec-31 - Evonik Industries AG.pdf\n",
      "🔍 Processing 2021-Dec-31 - Exor NV.pdf\n"
     ]
    },
    {
     "name": "stderr",
     "output_type": "stream",
     "text": []
    },
    {
     "name": "stdout",
     "output_type": "stream",
     "text": [
      "MuPDF error: library error: FT_New_Memory_Face(AAAAAG+font000000002d7c5ffc): SFNT font table missing\n",
      "\n"
     ]
    },
    {
     "name": "stderr",
     "output_type": "stream",
     "text": [
      "📦 Processing PDFs:  18%|█▊        | 133/742 [56:31<6:01:29, 35.62s/it]"
     ]
    },
    {
     "name": "stdout",
     "output_type": "stream",
     "text": [
      "✅ Done and deleted: 2021-Dec-31 - Exor NV.pdf\n",
      "🔍 Processing 2022-Dec-31 - Vestas Wind Systems A or S.pdf\n"
     ]
    },
    {
     "name": "stderr",
     "output_type": "stream",
     "text": []
    },
    {
     "name": "stdout",
     "output_type": "stream",
     "text": [
      "✅ Done and deleted: 2022-Dec-31 - Vestas Wind Systems A or S.pdf\n",
      "🔍 Processing 2015-Dec-31 - Vestas Wind Systems A or S.pdf\n"
     ]
    },
    {
     "name": "stderr",
     "output_type": "stream",
     "text": []
    },
    {
     "name": "stdout",
     "output_type": "stream",
     "text": [
      "✅ Done and deleted: 2015-Dec-31 - Vestas Wind Systems A or S.pdf\n",
      "🔍 Processing 2022-Dec-31 - Fresenius Medical Care AG.pdf\n"
     ]
    },
    {
     "name": "stderr",
     "output_type": "stream",
     "text": []
    },
    {
     "name": "stdout",
     "output_type": "stream",
     "text": [
      "MuPDF error: library error: FT_New_Memory_Face(AAAADC+Interstate-Bold): unknown file format\n",
      "\n"
     ]
    },
    {
     "name": "stderr",
     "output_type": "stream",
     "text": [
      "📦 Processing PDFs:  18%|█▊        | 136/742 [1:00:35<8:02:09, 47.74s/it]"
     ]
    },
    {
     "name": "stdout",
     "output_type": "stream",
     "text": [
      "✅ Done and deleted: 2022-Dec-31 - Fresenius Medical Care AG.pdf\n",
      "🔍 Processing 2016-Dec-31 - Repsol SA.pdf\n"
     ]
    },
    {
     "name": "stderr",
     "output_type": "stream",
     "text": []
    },
    {
     "name": "stdout",
     "output_type": "stream",
     "text": [
      "✅ Done and deleted: 2016-Dec-31 - Repsol SA.pdf\n",
      "🔍 Processing 2014-Nov-30 - H & M Hennes & Mauritz AB.pdf\n"
     ]
    },
    {
     "name": "stderr",
     "output_type": "stream",
     "text": []
    },
    {
     "name": "stdout",
     "output_type": "stream",
     "text": [
      "✅ Done and deleted: 2014-Nov-30 - H & M Hennes & Mauritz AB.pdf\n",
      "🔍 Processing 2021-Dec-31 - Metsa Board Oyj.pdf\n"
     ]
    },
    {
     "name": "stderr",
     "output_type": "stream",
     "text": []
    },
    {
     "name": "stdout",
     "output_type": "stream",
     "text": [
      "✅ Done and deleted: 2021-Dec-31 - Metsa Board Oyj.pdf\n",
      "🔍 Processing 2018-Dec-31 - Shell PLC.pdf\n"
     ]
    },
    {
     "name": "stderr",
     "output_type": "stream",
     "text": []
    },
    {
     "name": "stdout",
     "output_type": "stream",
     "text": [
      "✅ Done and deleted: 2018-Dec-31 - Shell PLC.pdf\n",
      "🔍 Processing 2021 novabase.pdf\n"
     ]
    },
    {
     "name": "stderr",
     "output_type": "stream",
     "text": []
    },
    {
     "name": "stdout",
     "output_type": "stream",
     "text": [
      "✅ Done and deleted: 2021 novabase.pdf\n",
      "🔍 Processing 2012-Dec-31 - Lotus Bakeries NV.pdf\n"
     ]
    },
    {
     "name": "stderr",
     "output_type": "stream",
     "text": []
    },
    {
     "name": "stdout",
     "output_type": "stream",
     "text": [
      "✅ Done and deleted: 2012-Dec-31 - Lotus Bakeries NV.pdf\n",
      "🔍 Processing 2013-Dec-31 - Koninklijke Philips NV.pdf\n"
     ]
    },
    {
     "name": "stderr",
     "output_type": "stream",
     "text": []
    },
    {
     "name": "stdout",
     "output_type": "stream",
     "text": [
      "✅ Done and deleted: 2013-Dec-31 - Koninklijke Philips NV.pdf\n",
      "🔍 Processing 2019-Dec-31 - Billerud AB (publ).pdf\n"
     ]
    },
    {
     "name": "stderr",
     "output_type": "stream",
     "text": [
      "📦 Processing PDFs:  20%|█▉        | 145/742 [1:00:35<3:42:15, 22.34s/it]"
     ]
    },
    {
     "name": "stdout",
     "output_type": "stream",
     "text": [
      "✅ Done and deleted: 2019-Dec-31 - Billerud AB (publ).pdf\n",
      "🔍 Processing 2020-Dec-31 - Television Francaise 1 SA.pdf\n",
      "❌ Failed to process 2020-Dec-31 - Television Francaise 1 SA.pdf: Failed to open file 'failed_pdfs/2020-Dec-31 - Television Francaise 1 SA.pdf'.\n",
      "📁 Moved to failed_pdfs: 2020-Dec-31 - Television Francaise 1 SA.pdf\n",
      "🔍 Processing 2015-Dec-31 - Compagnie de Saint Gobain....pdf\n",
      "❌ Failed to process 2015-Dec-31 - Compagnie de Saint Gobain....pdf: Failed to open file 'failed_pdfs/2015-Dec-31 - Compagnie de Saint Gobain....pdf'.\n",
      "📁 Moved to failed_pdfs: 2015-Dec-31 - Compagnie de Saint Gobain....pdf\n",
      "🔍 Processing 2020 TELEFONICA.pdf\n"
     ]
    },
    {
     "name": "stderr",
     "output_type": "stream",
     "text": []
    },
    {
     "name": "stdout",
     "output_type": "stream",
     "text": [
      "✅ Done and deleted: 2020 TELEFONICA.pdf\n",
      "🔍 Processing 2020-Dec-31 - Renault SA.pdf\n"
     ]
    },
    {
     "name": "stderr",
     "output_type": "stream",
     "text": []
    },
    {
     "name": "stdout",
     "output_type": "stream",
     "text": [
      "✅ Done and deleted: 2020-Dec-31 - Renault SA.pdf\n",
      "🔍 Processing 2020-Dec-31 - Orange SA (2).pdf\n"
     ]
    },
    {
     "name": "stderr",
     "output_type": "stream",
     "text": []
    },
    {
     "name": "stdout",
     "output_type": "stream",
     "text": [
      "✅ Done and deleted: 2020-Dec-31 - Orange SA (2).pdf\n",
      "🔍 Processing 2019-Dec-31 - Omv AG.pdf\n"
     ]
    },
    {
     "name": "stderr",
     "output_type": "stream",
     "text": []
    },
    {
     "name": "stdout",
     "output_type": "stream",
     "text": [
      "✅ Done and deleted: 2019-Dec-31 - Omv AG.pdf\n",
      "🔍 Processing 2018-Dec-31 - Sanoma Oyj.pdf\n"
     ]
    },
    {
     "name": "stderr",
     "output_type": "stream",
     "text": []
    },
    {
     "name": "stdout",
     "output_type": "stream",
     "text": [
      "✅ Done and deleted: 2018-Dec-31 - Sanoma Oyj.pdf\n",
      "🔍 Processing 2015-Dec-31 - EnBW Energie Baden Wuertt....pdf\n"
     ]
    },
    {
     "name": "stderr",
     "output_type": "stream",
     "text": [
      "📦 Processing PDFs:  20%|██        | 152/742 [1:00:36<2:18:09, 14.05s/it]"
     ]
    },
    {
     "name": "stdout",
     "output_type": "stream",
     "text": [
      "✅ Done and deleted: 2015-Dec-31 - EnBW Energie Baden Wuertt....pdf\n",
      "🔍 Processing 2019-Dec-31 - Compagnie de Saint Gobain....pdf\n"
     ]
    },
    {
     "name": "stderr",
     "output_type": "stream",
     "text": []
    },
    {
     "name": "stdout",
     "output_type": "stream",
     "text": [
      "✅ Done and deleted: 2019-Dec-31 - Compagnie de Saint Gobain....pdf\n",
      "🔍 Processing 2021-Dec-31 - Roche Holding AG.pdf\n"
     ]
    },
    {
     "name": "stderr",
     "output_type": "stream",
     "text": []
    },
    {
     "name": "stdout",
     "output_type": "stream",
     "text": [
      "✅ Done and deleted: 2021-Dec-31 - Roche Holding AG.pdf\n",
      "🔍 Processing 2022 ING.pdf\n"
     ]
    },
    {
     "name": "stderr",
     "output_type": "stream",
     "text": []
    },
    {
     "name": "stdout",
     "output_type": "stream",
     "text": [
      "✅ Done and deleted: 2022 ING.pdf\n",
      "🔍 Processing 2014-Dec-31 - ABN Amro Bank NV.pdf\n",
      "❌ Failed to process 2014-Dec-31 - ABN Amro Bank NV.pdf: Failed to open file 'failed_pdfs/2014-Dec-31 - ABN Amro Bank NV.pdf'.\n",
      "📁 Moved to failed_pdfs: 2014-Dec-31 - ABN Amro Bank NV.pdf\n",
      "🔍 Processing 2017-Dec-31 - EnBW Energie Baden Wuertt....pdf\n"
     ]
    },
    {
     "name": "stderr",
     "output_type": "stream",
     "text": []
    },
    {
     "name": "stdout",
     "output_type": "stream",
     "text": [
      "✅ Done and deleted: 2017-Dec-31 - EnBW Energie Baden Wuertt....pdf\n",
      "🔍 Processing 2014-Dec-31 - Iren SpA.pdf\n"
     ]
    },
    {
     "name": "stderr",
     "output_type": "stream",
     "text": []
    },
    {
     "name": "stdout",
     "output_type": "stream",
     "text": [
      "✅ Done and deleted: 2014-Dec-31 - Iren SpA.pdf\n",
      "🔍 Processing 2016-Dec-31 - Henkel AG & Co KGaA.pdf\n"
     ]
    },
    {
     "name": "stderr",
     "output_type": "stream",
     "text": []
    },
    {
     "name": "stdout",
     "output_type": "stream",
     "text": [
      "✅ Done and deleted: 2016-Dec-31 - Henkel AG & Co KGaA.pdf\n",
      "🔍 Processing 2021-Dec-31 - Henkel AG & Co KGaA.pdf\n"
     ]
    },
    {
     "name": "stderr",
     "output_type": "stream",
     "text": []
    },
    {
     "name": "stdout",
     "output_type": "stream",
     "text": [
      "✅ Done and deleted: 2021-Dec-31 - Henkel AG & Co KGaA.pdf\n",
      "🔍 Processing 2013-Dec-31 - Electricite De France SA.pdf\n"
     ]
    },
    {
     "name": "stderr",
     "output_type": "stream",
     "text": [
      "📦 Processing PDFs:  22%|██▏       | 161/742 [1:00:36<1:20:54,  8.36s/it]"
     ]
    },
    {
     "name": "stdout",
     "output_type": "stream",
     "text": [
      "✅ Done and deleted: 2013-Dec-31 - Electricite De France SA.pdf\n",
      "🔍 Processing 2021-Dec-31 - Evonik Industries AG.pdf\n"
     ]
    },
    {
     "name": "stderr",
     "output_type": "stream",
     "text": [
      "📦 Processing PDFs:  22%|██▏       | 161/742 [1:00:53<1:20:54,  8.36s/it]"
     ]
    },
    {
     "name": "stdout",
     "output_type": "stream",
     "text": [
      "MuPDF error: library error: FT_New_Memory_Face(AAAABA+EvonikProkyon-Bold): unknown file format\n",
      "\n"
     ]
    },
    {
     "name": "stderr",
     "output_type": "stream",
     "text": [
      "📦 Processing PDFs:  22%|██▏       | 162/742 [1:04:05<3:18:06, 20.49s/it]"
     ]
    },
    {
     "name": "stdout",
     "output_type": "stream",
     "text": [
      "✅ Done and deleted: 2021-Dec-31 - Evonik Industries AG.pdf\n",
      "🔍 Processing 2014-Dec-31 - Compagnie de Saint Gobain....pdf\n"
     ]
    },
    {
     "name": "stderr",
     "output_type": "stream",
     "text": []
    },
    {
     "name": "stdout",
     "output_type": "stream",
     "text": [
      "✅ Done and deleted: 2014-Dec-31 - Compagnie de Saint Gobain....pdf\n",
      "🔍 Processing 2013-Dec-31 - Commerzbank AG.pdf\n"
     ]
    },
    {
     "name": "stderr",
     "output_type": "stream",
     "text": []
    },
    {
     "name": "stdout",
     "output_type": "stream",
     "text": [
      "✅ Done and deleted: 2013-Dec-31 - Commerzbank AG.pdf\n",
      "🔍 Processing 2018-Dec-31 - Television Francaise 1 SA.pdf\n"
     ]
    },
    {
     "name": "stderr",
     "output_type": "stream",
     "text": []
    },
    {
     "name": "stdout",
     "output_type": "stream",
     "text": [
      "✅ Done and deleted: 2018-Dec-31 - Television Francaise 1 SA.pdf\n",
      "🔍 Processing 2015-Nov-30 - H & M Hennes & Mauritz AB.pdf\n"
     ]
    },
    {
     "name": "stderr",
     "output_type": "stream",
     "text": []
    },
    {
     "name": "stdout",
     "output_type": "stream",
     "text": [
      "✅ Done and deleted: 2015-Nov-30 - H & M Hennes & Mauritz AB.pdf\n",
      "🔍 Processing 2020-Dec-31 - ING Groep NV.pdf\n"
     ]
    },
    {
     "name": "stderr",
     "output_type": "stream",
     "text": []
    },
    {
     "name": "stdout",
     "output_type": "stream",
     "text": [
      "✅ Done and deleted: 2020-Dec-31 - ING Groep NV.pdf\n",
      "🔍 Processing 2021-Dec-31 - Enagas SA.pdf\n"
     ]
    },
    {
     "name": "stderr",
     "output_type": "stream",
     "text": []
    },
    {
     "name": "stdout",
     "output_type": "stream",
     "text": [
      "✅ Done and deleted: 2021-Dec-31 - Enagas SA.pdf\n",
      "🔍 Processing 2014-Dec-31 - Repsol SA.pdf\n"
     ]
    },
    {
     "name": "stderr",
     "output_type": "stream",
     "text": []
    },
    {
     "name": "stdout",
     "output_type": "stream",
     "text": [
      "✅ Done and deleted: 2014-Dec-31 - Repsol SA.pdf\n",
      "🔍 Processing 2022-Dec-31 - L'Oreal SA.pdf\n"
     ]
    },
    {
     "name": "stderr",
     "output_type": "stream",
     "text": [
      "📦 Processing PDFs:  23%|██▎       | 170/742 [1:04:05<1:55:33, 12.12s/it]"
     ]
    },
    {
     "name": "stdout",
     "output_type": "stream",
     "text": [
      "✅ Done and deleted: 2022-Dec-31 - L'Oreal SA.pdf\n",
      "🔍 Processing 2018-Dec-31 - Allianz SE.pdf\n",
      "❌ Failed to process 2018-Dec-31 - Allianz SE.pdf: Failed to open file 'failed_pdfs/2018-Dec-31 - Allianz SE.pdf'.\n",
      "📁 Moved to failed_pdfs: 2018-Dec-31 - Allianz SE.pdf\n",
      "🔍 Processing 2012-Dec-31 - Solvay SA.pdf\n"
     ]
    },
    {
     "name": "stderr",
     "output_type": "stream",
     "text": []
    },
    {
     "name": "stdout",
     "output_type": "stream",
     "text": [
      "✅ Done and deleted: 2012-Dec-31 - Solvay SA.pdf\n",
      "🔍 Processing 2013-Dec-31 - Bouygues SA.pdf\n"
     ]
    },
    {
     "name": "stderr",
     "output_type": "stream",
     "text": []
    },
    {
     "name": "stdout",
     "output_type": "stream",
     "text": [
      "✅ Done and deleted: 2013-Dec-31 - Bouygues SA.pdf\n",
      "🔍 Processing 2019-Dec-31 - SAP SE.pdf\n"
     ]
    },
    {
     "name": "stderr",
     "output_type": "stream",
     "text": []
    },
    {
     "name": "stdout",
     "output_type": "stream",
     "text": [
      "✅ Done and deleted: 2019-Dec-31 - SAP SE.pdf\n",
      "🔍 Processing 2014-Dec-31 - Vestas Wind Systems A or S.pdf\n"
     ]
    },
    {
     "name": "stderr",
     "output_type": "stream",
     "text": []
    },
    {
     "name": "stdout",
     "output_type": "stream",
     "text": [
      "✅ Done and deleted: 2014-Dec-31 - Vestas Wind Systems A or S.pdf\n",
      "🔍 Processing 2012-Dec-31 - Roche Holding AG.pdf\n"
     ]
    },
    {
     "name": "stderr",
     "output_type": "stream",
     "text": []
    },
    {
     "name": "stdout",
     "output_type": "stream",
     "text": [
      "✅ Done and deleted: 2012-Dec-31 - Roche Holding AG.pdf\n",
      "🔍 Processing 2015-Dec-31 - Mediahuis NL BV.pdf\n"
     ]
    },
    {
     "name": "stderr",
     "output_type": "stream",
     "text": []
    },
    {
     "name": "stdout",
     "output_type": "stream",
     "text": [
      "✅ Done and deleted: 2015-Dec-31 - Mediahuis NL BV.pdf\n",
      "🔍 Processing 2020-Dec-31 - Roche Holding AG.pdf\n"
     ]
    },
    {
     "name": "stderr",
     "output_type": "stream",
     "text": [
      "📦 Processing PDFs:  24%|██▍       | 178/742 [1:04:05<1:11:58,  7.66s/it]"
     ]
    },
    {
     "name": "stdout",
     "output_type": "stream",
     "text": [
      "✅ Done and deleted: 2020-Dec-31 - Roche Holding AG.pdf\n",
      "🔍 Processing 2016-Dec-31 - Prosiebensat 1 Media SE.pdf\n"
     ]
    },
    {
     "name": "stderr",
     "output_type": "stream",
     "text": []
    },
    {
     "name": "stdout",
     "output_type": "stream",
     "text": [
      "✅ Done and deleted: 2016-Dec-31 - Prosiebensat 1 Media SE.pdf\n",
      "🔍 Processing 2017-Dec-31 - ING Groep NV.pdf\n"
     ]
    },
    {
     "name": "stderr",
     "output_type": "stream",
     "text": []
    },
    {
     "name": "stdout",
     "output_type": "stream",
     "text": [
      "✅ Done and deleted: 2017-Dec-31 - ING Groep NV.pdf\n",
      "🔍 Processing 2020-Dec-31 - ams-OSRAM AG.pdf\n"
     ]
    },
    {
     "name": "stderr",
     "output_type": "stream",
     "text": []
    },
    {
     "name": "stdout",
     "output_type": "stream",
     "text": [
      "MuPDF error: library error: FT_New_Memory_Face(AAAAAS+MyriadPro-Regular): unknown file format\n",
      "\n"
     ]
    },
    {
     "name": "stderr",
     "output_type": "stream",
     "text": [
      "📦 Processing PDFs:  24%|██▍       | 181/742 [1:04:57<1:26:33,  9.26s/it]"
     ]
    },
    {
     "name": "stdout",
     "output_type": "stream",
     "text": [
      "✅ Done and deleted: 2020-Dec-31 - ams-OSRAM AG.pdf\n",
      "🔍 Processing 2011-Dec-31 - Merck KGaA.pdf\n"
     ]
    },
    {
     "name": "stderr",
     "output_type": "stream",
     "text": []
    },
    {
     "name": "stdout",
     "output_type": "stream",
     "text": [
      "✅ Done and deleted: 2011-Dec-31 - Merck KGaA.pdf\n",
      "🔍 Processing 2019-Dec-31 - Iren SpA.pdf\n"
     ]
    },
    {
     "name": "stderr",
     "output_type": "stream",
     "text": []
    },
    {
     "name": "stdout",
     "output_type": "stream",
     "text": [
      "✅ Done and deleted: 2019-Dec-31 - Iren SpA.pdf\n",
      "🔍 Processing 2016-Dec-31 - Somfy SA.pdf\n"
     ]
    },
    {
     "name": "stderr",
     "output_type": "stream",
     "text": [
      "📦 Processing PDFs:  25%|██▍       | 184/742 [1:07:35<2:42:51, 17.51s/it]"
     ]
    },
    {
     "name": "stdout",
     "output_type": "stream",
     "text": [
      "✅ Done and deleted: 2016-Dec-31 - Somfy SA.pdf\n",
      "🔍 Processing 2015-Dec-31 - Eurazeo SE.pdf\n"
     ]
    },
    {
     "name": "stderr",
     "output_type": "stream",
     "text": []
    },
    {
     "name": "stdout",
     "output_type": "stream",
     "text": [
      "✅ Done and deleted: 2015-Dec-31 - Eurazeo SE.pdf\n",
      "🔍 Processing 2020-Dec-31 - Schneider Electric SE.pdf\n"
     ]
    },
    {
     "name": "stderr",
     "output_type": "stream",
     "text": []
    },
    {
     "name": "stdout",
     "output_type": "stream",
     "text": [
      "✅ Done and deleted: 2020-Dec-31 - Schneider Electric SE.pdf\n",
      "🔍 Processing 2017-Dec-31 - PGE Polska Grupa Energety....pdf\n"
     ]
    },
    {
     "name": "stderr",
     "output_type": "stream",
     "text": []
    },
    {
     "name": "stdout",
     "output_type": "stream",
     "text": [
      "✅ Done and deleted: 2017-Dec-31 - PGE Polska Grupa Energety....pdf\n",
      "🔍 Processing 2017-Dec-31 - ArcelorMittal SA.pdf\n"
     ]
    },
    {
     "name": "stderr",
     "output_type": "stream",
     "text": []
    },
    {
     "name": "stdout",
     "output_type": "stream",
     "text": [
      "✅ Done and deleted: 2017-Dec-31 - ArcelorMittal SA.pdf\n",
      "🔍 Processing 2013-Dec-31 - Omv AG.pdf\n"
     ]
    },
    {
     "name": "stderr",
     "output_type": "stream",
     "text": []
    },
    {
     "name": "stdout",
     "output_type": "stream",
     "text": [
      "✅ Done and deleted: 2013-Dec-31 - Omv AG.pdf\n",
      "🔍 Processing 2016-Dec-31 - PGE Polska Grupa Energety....pdf\n"
     ]
    },
    {
     "name": "stderr",
     "output_type": "stream",
     "text": []
    },
    {
     "name": "stdout",
     "output_type": "stream",
     "text": [
      "✅ Done and deleted: 2016-Dec-31 - PGE Polska Grupa Energety....pdf\n",
      "🔍 Processing 2020-Dec-31 - EDP SA.pdf\n"
     ]
    },
    {
     "name": "stderr",
     "output_type": "stream",
     "text": []
    },
    {
     "name": "stdout",
     "output_type": "stream",
     "text": [
      "✅ Done and deleted: 2020-Dec-31 - EDP SA.pdf\n",
      "🔍 Processing 2012-Dec-31 - Orlen SA.pdf\n"
     ]
    },
    {
     "name": "stderr",
     "output_type": "stream",
     "text": [
      "📦 Processing PDFs:  26%|██▌       | 192/742 [1:07:35<1:33:01, 10.15s/it]"
     ]
    },
    {
     "name": "stdout",
     "output_type": "stream",
     "text": [
      "✅ Done and deleted: 2012-Dec-31 - Orlen SA.pdf\n",
      "🔍 Processing 2015-Dec-31 - Renault SA.pdf\n"
     ]
    },
    {
     "name": "stderr",
     "output_type": "stream",
     "text": []
    },
    {
     "name": "stdout",
     "output_type": "stream",
     "text": [
      "✅ Done and deleted: 2015-Dec-31 - Renault SA.pdf\n",
      "🔍 Processing 2021-Dec-31 - EDP SA.pdf\n"
     ]
    },
    {
     "name": "stderr",
     "output_type": "stream",
     "text": []
    },
    {
     "name": "stdout",
     "output_type": "stream",
     "text": [
      "✅ Done and deleted: 2021-Dec-31 - EDP SA.pdf\n",
      "🔍 Processing 2014-Dec-31 - EnBW Energie Baden Wuertt....pdf\n"
     ]
    },
    {
     "name": "stderr",
     "output_type": "stream",
     "text": []
    },
    {
     "name": "stdout",
     "output_type": "stream",
     "text": [
      "✅ Done and deleted: 2014-Dec-31 - EnBW Energie Baden Wuertt....pdf\n",
      "🔍 Processing 2021-Dec-31 - Thales SA.pdf\n"
     ]
    },
    {
     "name": "stderr",
     "output_type": "stream",
     "text": []
    },
    {
     "name": "stdout",
     "output_type": "stream",
     "text": [
      "✅ Done and deleted: 2021-Dec-31 - Thales SA.pdf\n",
      "🔍 Processing 2019-Dec-31 - Koninklijke KPN NV.pdf\n"
     ]
    },
    {
     "name": "stderr",
     "output_type": "stream",
     "text": []
    },
    {
     "name": "stdout",
     "output_type": "stream",
     "text": [
      "✅ Done and deleted: 2019-Dec-31 - Koninklijke KPN NV.pdf\n",
      "🔍 Processing 2021 roche.pdf\n"
     ]
    },
    {
     "name": "stderr",
     "output_type": "stream",
     "text": []
    },
    {
     "name": "stdout",
     "output_type": "stream",
     "text": [
      "✅ Done and deleted: 2021 roche.pdf\n",
      "🔍 Processing 2019-Dec-31 - Iberdrola SA.pdf\n"
     ]
    },
    {
     "name": "stderr",
     "output_type": "stream",
     "text": []
    },
    {
     "name": "stdout",
     "output_type": "stream",
     "text": [
      "✅ Done and deleted: 2019-Dec-31 - Iberdrola SA.pdf\n",
      "🔍 Processing 2020-Dec-31 - Telefonica SA.pdf\n"
     ]
    },
    {
     "name": "stderr",
     "output_type": "stream",
     "text": [
      "📦 Processing PDFs:  27%|██▋       | 200/742 [1:07:35<57:19,  6.35s/it]  "
     ]
    },
    {
     "name": "stdout",
     "output_type": "stream",
     "text": [
      "✅ Done and deleted: 2020-Dec-31 - Telefonica SA.pdf\n",
      "🔍 Processing 2013-Dec-31 - AP Moeller - Maersk A or S.pdf\n"
     ]
    },
    {
     "name": "stderr",
     "output_type": "stream",
     "text": []
    },
    {
     "name": "stdout",
     "output_type": "stream",
     "text": [
      "✅ Done and deleted: 2013-Dec-31 - AP Moeller - Maersk A or S.pdf\n",
      "🔍 Processing 2020-Aug-31 - Sodexo SA.pdf\n"
     ]
    },
    {
     "name": "stderr",
     "output_type": "stream",
     "text": []
    },
    {
     "name": "stdout",
     "output_type": "stream",
     "text": [
      "✅ Done and deleted: 2020-Aug-31 - Sodexo SA.pdf\n",
      "🔍 Processing 2019 sabadell.pdf\n"
     ]
    },
    {
     "name": "stderr",
     "output_type": "stream",
     "text": []
    },
    {
     "name": "stdout",
     "output_type": "stream",
     "text": [
      "✅ Done and deleted: 2019 sabadell.pdf\n",
      "🔍 Processing 2022-Aug-31 - Sodexo SA.pdf\n"
     ]
    },
    {
     "name": "stderr",
     "output_type": "stream",
     "text": []
    },
    {
     "name": "stdout",
     "output_type": "stream",
     "text": [
      "✅ Done and deleted: 2022-Aug-31 - Sodexo SA.pdf\n",
      "🔍 Processing 2016-Dec-31 - Nestle SA.pdf\n"
     ]
    },
    {
     "name": "stderr",
     "output_type": "stream",
     "text": []
    },
    {
     "name": "stdout",
     "output_type": "stream",
     "text": [
      "✅ Done and deleted: 2016-Dec-31 - Nestle SA.pdf\n",
      "🔍 Processing 2018-Dec-31 - NOVABASE SGPS SA.pdf\n"
     ]
    },
    {
     "name": "stderr",
     "output_type": "stream",
     "text": []
    },
    {
     "name": "stdout",
     "output_type": "stream",
     "text": [
      "✅ Done and deleted: 2018-Dec-31 - NOVABASE SGPS SA.pdf\n",
      "🔍 Processing 2013-Dec-31 - Ackermans & Van Haaren NV.pdf\n"
     ]
    },
    {
     "name": "stderr",
     "output_type": "stream",
     "text": []
    },
    {
     "name": "stdout",
     "output_type": "stream",
     "text": [
      "✅ Done and deleted: 2013-Dec-31 - Ackermans & Van Haaren NV.pdf\n",
      "🔍 Processing 2021-Dec-31 - Sopra Steria Group SA.pdf\n"
     ]
    },
    {
     "name": "stderr",
     "output_type": "stream",
     "text": [
      "📦 Processing PDFs:  27%|██▋       | 200/742 [1:07:53<57:19,  6.35s/it]"
     ]
    },
    {
     "name": "stdout",
     "output_type": "stream",
     "text": [
      "MuPDF error: library error: FT_New_Memory_Face(AAAAEO+HelveticaNeueLTStd-Roman): unknown file format\n",
      "\n"
     ]
    },
    {
     "name": "stderr",
     "output_type": "stream",
     "text": [
      "📦 Processing PDFs:  28%|██▊       | 208/742 [1:10:25<1:42:51, 11.56s/it]"
     ]
    },
    {
     "name": "stdout",
     "output_type": "stream",
     "text": [
      "✅ Done and deleted: 2021-Dec-31 - Sopra Steria Group SA.pdf\n",
      "🔍 Processing 2022-Dec-31 - Shell PLC.pdf\n"
     ]
    },
    {
     "name": "stderr",
     "output_type": "stream",
     "text": []
    },
    {
     "name": "stdout",
     "output_type": "stream",
     "text": [
      "✅ Done and deleted: 2022-Dec-31 - Shell PLC.pdf\n",
      "🔍 Processing 2018-Dec-31 - Renault SA.pdf\n"
     ]
    },
    {
     "name": "stderr",
     "output_type": "stream",
     "text": []
    },
    {
     "name": "stdout",
     "output_type": "stream",
     "text": [
      "✅ Done and deleted: 2018-Dec-31 - Renault SA.pdf\n",
      "🔍 Processing 2019 engie.pdf\n"
     ]
    },
    {
     "name": "stderr",
     "output_type": "stream",
     "text": []
    },
    {
     "name": "stdout",
     "output_type": "stream",
     "text": [
      "MuPDF error: library error: FT_New_Memory_Face(AAAAAM+ArialMT): locations (loca) table missing\n",
      "\n"
     ]
    },
    {
     "name": "stderr",
     "output_type": "stream",
     "text": [
      "📦 Processing PDFs:  28%|██▊       | 211/742 [1:11:29<1:55:54, 13.10s/it]"
     ]
    },
    {
     "name": "stdout",
     "output_type": "stream",
     "text": [
      "✅ Done and deleted: 2019 engie.pdf\n",
      "🔍 Processing 2017-Dec-31 - Eurazeo SE.pdf\n"
     ]
    },
    {
     "name": "stderr",
     "output_type": "stream",
     "text": []
    },
    {
     "name": "stdout",
     "output_type": "stream",
     "text": [
      "✅ Done and deleted: 2017-Dec-31 - Eurazeo SE.pdf\n",
      "🔍 Processing 2021-Dec-31 - Scor SE.pdf\n"
     ]
    },
    {
     "name": "stderr",
     "output_type": "stream",
     "text": []
    },
    {
     "name": "stdout",
     "output_type": "stream",
     "text": [
      "✅ Done and deleted: 2021-Dec-31 - Scor SE.pdf\n",
      "🔍 Processing 2013-Dec-31 - EDP SA.pdf\n"
     ]
    },
    {
     "name": "stderr",
     "output_type": "stream",
     "text": []
    },
    {
     "name": "stdout",
     "output_type": "stream",
     "text": [
      "✅ Done and deleted: 2013-Dec-31 - EDP SA.pdf\n",
      "🔍 Processing 2017-Dec-31 - Volvo AB.pdf\n"
     ]
    },
    {
     "name": "stderr",
     "output_type": "stream",
     "text": []
    },
    {
     "name": "stdout",
     "output_type": "stream",
     "text": [
      "✅ Done and deleted: 2017-Dec-31 - Volvo AB.pdf\n",
      "🔍 Processing 2018-Dec-31 - Somfy SA.pdf\n"
     ]
    },
    {
     "name": "stderr",
     "output_type": "stream",
     "text": [
      "📦 Processing PDFs:  29%|██▉       | 216/742 [1:13:53<2:32:35, 17.41s/it]"
     ]
    },
    {
     "name": "stdout",
     "output_type": "stream",
     "text": [
      "✅ Done and deleted: 2018-Dec-31 - Somfy SA.pdf\n",
      "🔍 Processing 2012-Dec-31 - Volvo AB.pdf\n"
     ]
    },
    {
     "name": "stderr",
     "output_type": "stream",
     "text": []
    },
    {
     "name": "stdout",
     "output_type": "stream",
     "text": [
      "✅ Done and deleted: 2012-Dec-31 - Volvo AB.pdf\n",
      "🔍 Processing 2015-Dec-31 - Allianz SE.pdf\n"
     ]
    },
    {
     "name": "stderr",
     "output_type": "stream",
     "text": []
    },
    {
     "name": "stdout",
     "output_type": "stream",
     "text": [
      "MuPDF error: library error: FT_New_Memory_Face(AAAAAW+AllianzSansF): unknown file format\n",
      "\n"
     ]
    },
    {
     "name": "stderr",
     "output_type": "stream",
     "text": [
      "📦 Processing PDFs:  29%|██▉       | 218/742 [1:18:49<5:05:40, 35.00s/it]"
     ]
    },
    {
     "name": "stdout",
     "output_type": "stream",
     "text": [
      "✅ Done and deleted: 2015-Dec-31 - Allianz SE.pdf\n",
      "🔍 Processing 2020-Dec-31 - Deutsche Telekom AG (1).pdf\n"
     ]
    },
    {
     "name": "stderr",
     "output_type": "stream",
     "text": []
    },
    {
     "name": "stdout",
     "output_type": "stream",
     "text": [
      "✅ Done and deleted: 2020-Dec-31 - Deutsche Telekom AG (1).pdf\n",
      "🔍 Processing 2022-Dec-31 - Equinor ASA.pdf\n"
     ]
    },
    {
     "name": "stderr",
     "output_type": "stream",
     "text": []
    },
    {
     "name": "stdout",
     "output_type": "stream",
     "text": [
      "✅ Done and deleted: 2022-Dec-31 - Equinor ASA.pdf\n",
      "🔍 Processing 2021-Dec-31 - Engie SA.pdf\n"
     ]
    },
    {
     "name": "stderr",
     "output_type": "stream",
     "text": []
    },
    {
     "name": "stdout",
     "output_type": "stream",
     "text": [
      "✅ Done and deleted: 2021-Dec-31 - Engie SA.pdf\n",
      "🔍 Processing 2017-Dec-31 - Omv AG.pdf\n"
     ]
    },
    {
     "name": "stderr",
     "output_type": "stream",
     "text": []
    },
    {
     "name": "stdout",
     "output_type": "stream",
     "text": [
      "✅ Done and deleted: 2017-Dec-31 - Omv AG.pdf\n",
      "🔍 Processing 2014-Dec-31 - Novo Nordisk A or S.pdf\n"
     ]
    },
    {
     "name": "stderr",
     "output_type": "stream",
     "text": []
    },
    {
     "name": "stdout",
     "output_type": "stream",
     "text": [
      "✅ Done and deleted: 2014-Dec-31 - Novo Nordisk A or S.pdf\n",
      "🔍 Processing 2016-Dec-31 - Koninklijke KPN NV.pdf\n"
     ]
    },
    {
     "name": "stderr",
     "output_type": "stream",
     "text": [
      "📦 Processing PDFs:  30%|███       | 224/742 [1:18:49<3:11:33, 22.19s/it]"
     ]
    },
    {
     "name": "stdout",
     "output_type": "stream",
     "text": [
      "✅ Done and deleted: 2016-Dec-31 - Koninklijke KPN NV.pdf\n",
      "🔍 Processing 2014-Dec-31 - Swisscom AG.pdf\n",
      "❌ Failed to process 2014-Dec-31 - Swisscom AG.pdf: Failed to open file 'failed_pdfs/2014-Dec-31 - Swisscom AG.pdf'.\n",
      "📁 Moved to failed_pdfs: 2014-Dec-31 - Swisscom AG.pdf\n",
      "🔍 Processing 2019-Dec-31 - Engie SA.pdf\n"
     ]
    },
    {
     "name": "stderr",
     "output_type": "stream",
     "text": []
    },
    {
     "name": "stdout",
     "output_type": "stream",
     "text": [
      "✅ Done and deleted: 2019-Dec-31 - Engie SA.pdf\n",
      "🔍 Processing 2015-Dec-31 - E On Se.pdf\n"
     ]
    },
    {
     "name": "stderr",
     "output_type": "stream",
     "text": []
    },
    {
     "name": "stdout",
     "output_type": "stream",
     "text": [
      "✅ Done and deleted: 2015-Dec-31 - E On Se.pdf\n",
      "🔍 Processing 2015-Dec-31 - Orlen SA.pdf\n"
     ]
    },
    {
     "name": "stderr",
     "output_type": "stream",
     "text": []
    },
    {
     "name": "stdout",
     "output_type": "stream",
     "text": [
      "✅ Done and deleted: 2015-Dec-31 - Orlen SA.pdf\n",
      "🔍 Processing 2018-Dec-31 - Qemetica SA.pdf\n"
     ]
    },
    {
     "name": "stderr",
     "output_type": "stream",
     "text": []
    },
    {
     "name": "stdout",
     "output_type": "stream",
     "text": [
      "✅ Done and deleted: 2018-Dec-31 - Qemetica SA.pdf\n",
      "🔍 Processing 2019-Dec-31 - Novartis AG (1).pdf\n"
     ]
    },
    {
     "name": "stderr",
     "output_type": "stream",
     "text": []
    },
    {
     "name": "stdout",
     "output_type": "stream",
     "text": [
      "✅ Done and deleted: 2019-Dec-31 - Novartis AG (1).pdf\n",
      "🔍 Processing 2016-Dec-31 - Electricite De France SA.pdf\n"
     ]
    },
    {
     "name": "stderr",
     "output_type": "stream",
     "text": [
      "📦 Processing PDFs:  31%|███       | 231/742 [1:18:50<1:57:28, 13.79s/it]"
     ]
    },
    {
     "name": "stdout",
     "output_type": "stream",
     "text": [
      "✅ Done and deleted: 2016-Dec-31 - Electricite De France SA.pdf\n",
      "🔍 Processing 2019-Dec-31 - Thales SA.pdf\n"
     ]
    },
    {
     "name": "stderr",
     "output_type": "stream",
     "text": []
    },
    {
     "name": "stdout",
     "output_type": "stream",
     "text": [
      "✅ Done and deleted: 2019-Dec-31 - Thales SA.pdf\n",
      "🔍 Processing 2015-Dec-31 - ING Groep NV.pdf\n"
     ]
    },
    {
     "name": "stderr",
     "output_type": "stream",
     "text": []
    },
    {
     "name": "stdout",
     "output_type": "stream",
     "text": [
      "✅ Done and deleted: 2015-Dec-31 - ING Groep NV.pdf\n",
      "🔍 Processing 2016 orlen.pdf\n"
     ]
    },
    {
     "name": "stderr",
     "output_type": "stream",
     "text": []
    },
    {
     "name": "stdout",
     "output_type": "stream",
     "text": [
      "✅ Done and deleted: 2016 orlen.pdf\n",
      "🔍 Processing 2020-Dec-31 - Husqvarna AB.pdf\n"
     ]
    },
    {
     "name": "stderr",
     "output_type": "stream",
     "text": []
    },
    {
     "name": "stdout",
     "output_type": "stream",
     "text": [
      "✅ Done and deleted: 2020-Dec-31 - Husqvarna AB.pdf\n",
      "🔍 Processing 2017 saint gobain.pdf\n"
     ]
    },
    {
     "name": "stderr",
     "output_type": "stream",
     "text": []
    },
    {
     "name": "stdout",
     "output_type": "stream",
     "text": [
      "✅ Done and deleted: 2017 saint gobain.pdf\n",
      "🔍 Processing 2017 dt telekom.pdf\n"
     ]
    },
    {
     "name": "stderr",
     "output_type": "stream",
     "text": []
    },
    {
     "name": "stdout",
     "output_type": "stream",
     "text": [
      "✅ Done and deleted: 2017 dt telekom.pdf\n",
      "🔍 Processing 2015-Dec-31 - Sopra Steria Group SA.pdf\n"
     ]
    },
    {
     "name": "stderr",
     "output_type": "stream",
     "text": [
      "📦 Processing PDFs:  31%|███       | 231/742 [1:19:03<1:57:28, 13.79s/it]"
     ]
    },
    {
     "name": "stdout",
     "output_type": "stream",
     "text": [
      "MuPDF error: library error: FT_New_Memory_Face(AAAABB+Humanist777BT-BoldCondensedB): unknown file format\n",
      "\n"
     ]
    },
    {
     "name": "stderr",
     "output_type": "stream",
     "text": [
      "📦 Processing PDFs:  32%|███▏      | 238/742 [1:20:41<2:02:04, 14.53s/it]"
     ]
    },
    {
     "name": "stdout",
     "output_type": "stream",
     "text": [
      "✅ Done and deleted: 2015-Dec-31 - Sopra Steria Group SA.pdf\n",
      "🔍 Processing 2012-Dec-31 - Vestas Wind Systems A or S.pdf\n"
     ]
    },
    {
     "name": "stderr",
     "output_type": "stream",
     "text": []
    },
    {
     "name": "stdout",
     "output_type": "stream",
     "text": [
      "✅ Done and deleted: 2012-Dec-31 - Vestas Wind Systems A or S.pdf\n",
      "🔍 Processing 2018-Dec-31 - Metsa Board Oyj.pdf\n"
     ]
    },
    {
     "name": "stderr",
     "output_type": "stream",
     "text": []
    },
    {
     "name": "stdout",
     "output_type": "stream",
     "text": [
      "✅ Done and deleted: 2018-Dec-31 - Metsa Board Oyj.pdf\n",
      "🔍 Processing 2021-Dec-31 - Merck KGaA.pdf\n"
     ]
    },
    {
     "name": "stderr",
     "output_type": "stream",
     "text": []
    },
    {
     "name": "stdout",
     "output_type": "stream",
     "text": [
      "✅ Done and deleted: 2021-Dec-31 - Merck KGaA.pdf\n",
      "🔍 Processing 2015-Dec-31 - Evonik Industries AG.pdf\n"
     ]
    },
    {
     "name": "stderr",
     "output_type": "stream",
     "text": []
    },
    {
     "name": "stdout",
     "output_type": "stream",
     "text": [
      "✅ Done and deleted: 2015-Dec-31 - Evonik Industries AG.pdf\n",
      "🔍 Processing 2016-Dec-31 - BASF SE.pdf\n"
     ]
    },
    {
     "name": "stderr",
     "output_type": "stream",
     "text": []
    },
    {
     "name": "stdout",
     "output_type": "stream",
     "text": [
      "✅ Done and deleted: 2016-Dec-31 - BASF SE.pdf\n",
      "🔍 Processing 2019-Dec-31 - L'Oreal SA.pdf\n"
     ]
    },
    {
     "name": "stderr",
     "output_type": "stream",
     "text": []
    },
    {
     "name": "stdout",
     "output_type": "stream",
     "text": [
      "✅ Done and deleted: 2019-Dec-31 - L'Oreal SA.pdf\n",
      "🔍 Processing 2022-Dec-31 - Schneider Electric SE.pdf\n"
     ]
    },
    {
     "name": "stderr",
     "output_type": "stream",
     "text": [
      "📦 Processing PDFs:  33%|███▎      | 245/742 [1:20:41<1:20:11,  9.68s/it]"
     ]
    },
    {
     "name": "stdout",
     "output_type": "stream",
     "text": [
      "✅ Done and deleted: 2022-Dec-31 - Schneider Electric SE.pdf\n",
      "🔍 Processing 2015-Dec-31 - adesso SE.pdf\n"
     ]
    },
    {
     "name": "stderr",
     "output_type": "stream",
     "text": []
    },
    {
     "name": "stdout",
     "output_type": "stream",
     "text": [
      "✅ Done and deleted: 2015-Dec-31 - adesso SE.pdf\n",
      "🔍 Processing 2019-Dec-31 - H & M Hennes & Mauritz AB.pdf\n"
     ]
    },
    {
     "name": "stderr",
     "output_type": "stream",
     "text": []
    },
    {
     "name": "stdout",
     "output_type": "stream",
     "text": [
      "✅ Done and deleted: 2019-Dec-31 - H & M Hennes & Mauritz AB.pdf\n",
      "🔍 Processing 2016-Dec-31 - Novartis AG.pdf\n"
     ]
    },
    {
     "name": "stderr",
     "output_type": "stream",
     "text": []
    },
    {
     "name": "stdout",
     "output_type": "stream",
     "text": [
      "✅ Done and deleted: 2016-Dec-31 - Novartis AG.pdf\n",
      "🔍 Processing 2015-Dec-31 - Metsa Board Oyj.pdf\n"
     ]
    },
    {
     "name": "stderr",
     "output_type": "stream",
     "text": []
    },
    {
     "name": "stdout",
     "output_type": "stream",
     "text": [
      "✅ Done and deleted: 2015-Dec-31 - Metsa Board Oyj.pdf\n",
      "🔍 Processing 2022-Dec-31 - PGE Polska Grupa Energety....pdf\n"
     ]
    },
    {
     "name": "stderr",
     "output_type": "stream",
     "text": []
    },
    {
     "name": "stdout",
     "output_type": "stream",
     "text": [
      "✅ Done and deleted: 2022-Dec-31 - PGE Polska Grupa Energety....pdf\n",
      "🔍 Processing 2019-Dec-31 - Deutsche Telekom AG.pdf\n"
     ]
    },
    {
     "name": "stderr",
     "output_type": "stream",
     "text": []
    },
    {
     "name": "stdout",
     "output_type": "stream",
     "text": [
      "✅ Done and deleted: 2019-Dec-31 - Deutsche Telekom AG.pdf\n",
      "🔍 Processing 2022-Dec-31 - Telefonica SA.pdf\n"
     ]
    },
    {
     "name": "stderr",
     "output_type": "stream",
     "text": []
    },
    {
     "name": "stdout",
     "output_type": "stream",
     "text": [
      "✅ Done and deleted: 2022-Dec-31 - Telefonica SA.pdf\n",
      "🔍 Processing 2015-Dec-31 - Swisscom AG.pdf\n"
     ]
    },
    {
     "name": "stderr",
     "output_type": "stream",
     "text": [
      "📦 Processing PDFs:  34%|███▍      | 253/742 [1:20:41<51:05,  6.27s/it]  "
     ]
    },
    {
     "name": "stdout",
     "output_type": "stream",
     "text": [
      "✅ Done and deleted: 2015-Dec-31 - Swisscom AG.pdf\n",
      "🔍 Processing 2020-Dec-31 - Thales SA.pdf\n"
     ]
    },
    {
     "name": "stderr",
     "output_type": "stream",
     "text": []
    },
    {
     "name": "stdout",
     "output_type": "stream",
     "text": [
      "✅ Done and deleted: 2020-Dec-31 - Thales SA.pdf\n",
      "🔍 Processing 2020-Dec-31 - Somfy SA.pdf\n"
     ]
    },
    {
     "name": "stderr",
     "output_type": "stream",
     "text": []
    },
    {
     "name": "stdout",
     "output_type": "stream",
     "text": [
      "✅ Done and deleted: 2020-Dec-31 - Somfy SA.pdf\n",
      "🔍 Processing 2016-Dec-31 - Aperam SA.pdf\n"
     ]
    },
    {
     "name": "stderr",
     "output_type": "stream",
     "text": []
    },
    {
     "name": "stdout",
     "output_type": "stream",
     "text": [
      "✅ Done and deleted: 2016-Dec-31 - Aperam SA.pdf\n",
      "🔍 Processing 2013-Dec-31 - Nestle SA.pdf\n"
     ]
    },
    {
     "name": "stderr",
     "output_type": "stream",
     "text": []
    },
    {
     "name": "stdout",
     "output_type": "stream",
     "text": [
      "✅ Done and deleted: 2013-Dec-31 - Nestle SA.pdf\n",
      "🔍 Processing 2012-Dec-31 - RWE AG.pdf\n"
     ]
    },
    {
     "name": "stderr",
     "output_type": "stream",
     "text": []
    },
    {
     "name": "stdout",
     "output_type": "stream",
     "text": [
      "✅ Done and deleted: 2012-Dec-31 - RWE AG.pdf\n",
      "🔍 Processing 2012-Dec-31 - Ucb SA.pdf\n"
     ]
    },
    {
     "name": "stderr",
     "output_type": "stream",
     "text": []
    },
    {
     "name": "stdout",
     "output_type": "stream",
     "text": [
      "✅ Done and deleted: 2012-Dec-31 - Ucb SA.pdf\n",
      "🔍 Processing 2012-Dec-31 - PGE Polska Grupa Energety....pdf\n"
     ]
    },
    {
     "name": "stderr",
     "output_type": "stream",
     "text": [
      "📦 Processing PDFs:  35%|███▌      | 260/742 [1:25:02<2:06:34, 15.76s/it]"
     ]
    },
    {
     "name": "stdout",
     "output_type": "stream",
     "text": [
      "✅ Done and deleted: 2012-Dec-31 - PGE Polska Grupa Energety....pdf\n",
      "🔍 Processing 2013-Dec-31 - Exor NV.pdf\n"
     ]
    },
    {
     "name": "stderr",
     "output_type": "stream",
     "text": []
    },
    {
     "name": "stdout",
     "output_type": "stream",
     "text": [
      "✅ Done and deleted: 2013-Dec-31 - Exor NV.pdf\n",
      "🔍 Processing 2013-Dec-31 - L'Air Liquide Societe Ano....pdf\n"
     ]
    },
    {
     "name": "stderr",
     "output_type": "stream",
     "text": []
    },
    {
     "name": "stdout",
     "output_type": "stream",
     "text": [
      "✅ Done and deleted: 2013-Dec-31 - L'Air Liquide Societe Ano....pdf\n",
      "🔍 Processing 2016-Dec-31 - Gaztransport et Technigaz....pdf\n"
     ]
    },
    {
     "name": "stderr",
     "output_type": "stream",
     "text": []
    },
    {
     "name": "stdout",
     "output_type": "stream",
     "text": [
      "✅ Done and deleted: 2016-Dec-31 - Gaztransport et Technigaz....pdf\n",
      "🔍 Processing 2018-Dec-31 - Omv AG.pdf\n"
     ]
    },
    {
     "name": "stderr",
     "output_type": "stream",
     "text": []
    },
    {
     "name": "stdout",
     "output_type": "stream",
     "text": [
      "✅ Done and deleted: 2018-Dec-31 - Omv AG.pdf\n",
      "🔍 Processing 2020-Dec-31 - Volvo AB.pdf\n"
     ]
    },
    {
     "name": "stderr",
     "output_type": "stream",
     "text": []
    },
    {
     "name": "stdout",
     "output_type": "stream",
     "text": [
      "✅ Done and deleted: 2020-Dec-31 - Volvo AB.pdf\n",
      "🔍 Processing 2015-Dec-31 - SEMAPA Sociedade de Inves....pdf\n"
     ]
    },
    {
     "name": "stderr",
     "output_type": "stream",
     "text": []
    },
    {
     "name": "stdout",
     "output_type": "stream",
     "text": [
      "MuPDF error: library error: FT_New_Memory_Face(AAAAAZ+Wingdings3): SFNT font table missing\n",
      "\n"
     ]
    },
    {
     "name": "stderr",
     "output_type": "stream",
     "text": [
      "📦 Processing PDFs:  36%|███▌      | 266/742 [1:27:10<2:17:13, 17.30s/it]"
     ]
    },
    {
     "name": "stdout",
     "output_type": "stream",
     "text": [
      "✅ Done and deleted: 2015-Dec-31 - SEMAPA Sociedade de Inves....pdf\n",
      "🔍 Processing 2021-Mar-31 - Prosus NV.pdf\n"
     ]
    },
    {
     "name": "stderr",
     "output_type": "stream",
     "text": []
    },
    {
     "name": "stdout",
     "output_type": "stream",
     "text": [
      "✅ Done and deleted: 2021-Mar-31 - Prosus NV.pdf\n",
      "🔍 Processing 2022-Dec-31 - adesso SE.pdf\n"
     ]
    },
    {
     "name": "stderr",
     "output_type": "stream",
     "text": []
    },
    {
     "name": "stdout",
     "output_type": "stream",
     "text": [
      "✅ Done and deleted: 2022-Dec-31 - adesso SE.pdf\n",
      "🔍 Processing 2018-Dec-31 - EDP SA.pdf\n"
     ]
    },
    {
     "name": "stderr",
     "output_type": "stream",
     "text": []
    },
    {
     "name": "stdout",
     "output_type": "stream",
     "text": [
      "✅ Done and deleted: 2018-Dec-31 - EDP SA.pdf\n",
      "🔍 Processing 2016-Dec-31 - RWE AG.pdf\n"
     ]
    },
    {
     "name": "stderr",
     "output_type": "stream",
     "text": []
    },
    {
     "name": "stdout",
     "output_type": "stream",
     "text": [
      "MuPDF error: library error: FT_New_Memory_Face(AAAADW+RWEText-RegularCondensed): unknown file format\n",
      "\n"
     ]
    },
    {
     "name": "stderr",
     "output_type": "stream",
     "text": [
      "📦 Processing PDFs:  36%|███▋      | 270/742 [1:31:08<3:24:30, 26.00s/it]"
     ]
    },
    {
     "name": "stdout",
     "output_type": "stream",
     "text": [
      "✅ Done and deleted: 2016-Dec-31 - RWE AG.pdf\n",
      "🔍 Processing 2021 vivendi.pdf\n"
     ]
    },
    {
     "name": "stderr",
     "output_type": "stream",
     "text": []
    },
    {
     "name": "stdout",
     "output_type": "stream",
     "text": [
      "✅ Done and deleted: 2021 vivendi.pdf\n",
      "🔍 Processing 2017-Dec-31 - Telia Company AB.pdf\n"
     ]
    },
    {
     "name": "stderr",
     "output_type": "stream",
     "text": []
    },
    {
     "name": "stdout",
     "output_type": "stream",
     "text": [
      "✅ Done and deleted: 2017-Dec-31 - Telia Company AB.pdf\n",
      "🔍 Processing 2022-Dec-31 - Somfy SA.pdf\n"
     ]
    },
    {
     "name": "stderr",
     "output_type": "stream",
     "text": []
    },
    {
     "name": "stdout",
     "output_type": "stream",
     "text": [
      "✅ Done and deleted: 2022-Dec-31 - Somfy SA.pdf\n",
      "🔍 Processing 2019-Dec-31 - Electricite De France SA.pdf\n"
     ]
    },
    {
     "name": "stderr",
     "output_type": "stream",
     "text": []
    },
    {
     "name": "stdout",
     "output_type": "stream",
     "text": [
      "✅ Done and deleted: 2019-Dec-31 - Electricite De France SA.pdf\n",
      "🔍 Processing 2022-Dec-31 - Banco de Sabadell SA.pdf\n"
     ]
    },
    {
     "name": "stderr",
     "output_type": "stream",
     "text": []
    },
    {
     "name": "stdout",
     "output_type": "stream",
     "text": [
      "✅ Done and deleted: 2022-Dec-31 - Banco de Sabadell SA.pdf\n",
      "🔍 Processing 2013-Sep-30 - Carl Zeiss Meditec AG.pdf\n"
     ]
    },
    {
     "name": "stderr",
     "output_type": "stream",
     "text": []
    },
    {
     "name": "stdout",
     "output_type": "stream",
     "text": [
      "✅ Done and deleted: 2013-Sep-30 - Carl Zeiss Meditec AG.pdf\n",
      "🔍 Processing 2017-Dec-31 - Bilfinger SE.pdf\n"
     ]
    },
    {
     "name": "stderr",
     "output_type": "stream",
     "text": []
    },
    {
     "name": "stdout",
     "output_type": "stream",
     "text": [
      "✅ Done and deleted: 2017-Dec-31 - Bilfinger SE.pdf\n",
      "🔍 Processing 2012-Sep-30 - Siemens AG.pdf\n"
     ]
    },
    {
     "name": "stderr",
     "output_type": "stream",
     "text": []
    },
    {
     "name": "stdout",
     "output_type": "stream",
     "text": [
      "MuPDF error: library error: FT_New_Memory_Face(AAAAAL+SiemensSans-Roman): unknown file format\n",
      "\n"
     ]
    },
    {
     "name": "stderr",
     "output_type": "stream",
     "text": [
      "📦 Processing PDFs:  37%|███▋      | 278/742 [1:39:27<5:05:20, 39.48s/it]"
     ]
    },
    {
     "name": "stdout",
     "output_type": "stream",
     "text": [
      "✅ Done and deleted: 2012-Sep-30 - Siemens AG.pdf\n",
      "🔍 Processing 2019-Dec-31 - L'Air Liquide Societe Ano....pdf\n"
     ]
    },
    {
     "name": "stderr",
     "output_type": "stream",
     "text": []
    },
    {
     "name": "stdout",
     "output_type": "stream",
     "text": [
      "✅ Done and deleted: 2019-Dec-31 - L'Air Liquide Societe Ano....pdf\n",
      "🔍 Processing 2014-Dec-31 - Husqvarna AB.pdf\n"
     ]
    },
    {
     "name": "stderr",
     "output_type": "stream",
     "text": []
    },
    {
     "name": "stdout",
     "output_type": "stream",
     "text": [
      "✅ Done and deleted: 2014-Dec-31 - Husqvarna AB.pdf\n",
      "🔍 Processing 2021-Dec-31 - Ucb SA.pdf\n"
     ]
    },
    {
     "name": "stderr",
     "output_type": "stream",
     "text": []
    },
    {
     "name": "stdout",
     "output_type": "stream",
     "text": [
      "✅ Done and deleted: 2021-Dec-31 - Ucb SA.pdf\n",
      "🔍 Processing 2021-Dec-31 - Safran SA.pdf\n"
     ]
    },
    {
     "name": "stderr",
     "output_type": "stream",
     "text": []
    },
    {
     "name": "stdout",
     "output_type": "stream",
     "text": [
      "✅ Done and deleted: 2021-Dec-31 - Safran SA.pdf\n",
      "🔍 Processing 2013-Dec-31 - Koninklijke Vopak NV.pdf\n"
     ]
    },
    {
     "name": "stderr",
     "output_type": "stream",
     "text": []
    },
    {
     "name": "stdout",
     "output_type": "stream",
     "text": [
      "✅ Done and deleted: 2013-Dec-31 - Koninklijke Vopak NV.pdf\n",
      "🔍 Processing 2022-Dec-31 - Engie SA.pdf\n",
      "❌ Failed to process 2022-Dec-31 - Engie SA.pdf: Failed to open file 'failed_pdfs/2022-Dec-31 - Engie SA.pdf'.\n",
      "📁 Moved to failed_pdfs: 2022-Dec-31 - Engie SA.pdf\n",
      "🔍 Processing 2014-Dec-31 - Henkel AG & Co KGaA (1).pdf\n"
     ]
    },
    {
     "name": "stderr",
     "output_type": "stream",
     "text": []
    },
    {
     "name": "stdout",
     "output_type": "stream",
     "text": [
      "✅ Done and deleted: 2014-Dec-31 - Henkel AG & Co KGaA (1).pdf\n",
      "🔍 Processing 2012-Dec-31 - Bayer AG.pdf\n"
     ]
    },
    {
     "name": "stderr",
     "output_type": "stream",
     "text": []
    },
    {
     "name": "stdout",
     "output_type": "stream",
     "text": [
      "✅ Done and deleted: 2012-Dec-31 - Bayer AG.pdf\n",
      "🔍 Processing 2013-Dec-31 - Qemetica SA.pdf\n"
     ]
    },
    {
     "name": "stderr",
     "output_type": "stream",
     "text": []
    },
    {
     "name": "stdout",
     "output_type": "stream",
     "text": [
      "✅ Done and deleted: 2013-Dec-31 - Qemetica SA.pdf\n",
      "🔍 Processing 2015-Dec-31 - Repsol SA.pdf\n"
     ]
    },
    {
     "name": "stderr",
     "output_type": "stream",
     "text": []
    },
    {
     "name": "stdout",
     "output_type": "stream",
     "text": [
      "✅ Done and deleted: 2015-Dec-31 - Repsol SA.pdf\n",
      "🔍 Processing 2018-Dec-31 - Mediaset Espana Comunicac....pdf\n"
     ]
    },
    {
     "name": "stderr",
     "output_type": "stream",
     "text": [
      "📦 Processing PDFs:  39%|███▉      | 289/742 [1:39:28<2:52:32, 22.85s/it]"
     ]
    },
    {
     "name": "stdout",
     "output_type": "stream",
     "text": [
      "✅ Done and deleted: 2018-Dec-31 - Mediaset Espana Comunicac....pdf\n",
      "🔍 Processing 2018-Nov-30 - H & M Hennes & Mauritz AB.pdf\n"
     ]
    },
    {
     "name": "stderr",
     "output_type": "stream",
     "text": []
    },
    {
     "name": "stdout",
     "output_type": "stream",
     "text": [
      "✅ Done and deleted: 2018-Nov-30 - H & M Hennes & Mauritz AB.pdf\n",
      "🔍 Processing 2022-Dec-31 - Omv AG.pdf\n"
     ]
    },
    {
     "name": "stderr",
     "output_type": "stream",
     "text": []
    },
    {
     "name": "stdout",
     "output_type": "stream",
     "text": [
      "✅ Done and deleted: 2022-Dec-31 - Omv AG.pdf\n",
      "🔍 Processing 2020-Dec-31 - Metsa Board Oyj.pdf\n"
     ]
    },
    {
     "name": "stderr",
     "output_type": "stream",
     "text": []
    },
    {
     "name": "stdout",
     "output_type": "stream",
     "text": [
      "✅ Done and deleted: 2020-Dec-31 - Metsa Board Oyj.pdf\n",
      "🔍 Processing 2017-Dec-31 - Aperam SA.pdf\n"
     ]
    },
    {
     "name": "stderr",
     "output_type": "stream",
     "text": []
    },
    {
     "name": "stdout",
     "output_type": "stream",
     "text": [
      "✅ Done and deleted: 2017-Dec-31 - Aperam SA.pdf\n",
      "🔍 Processing 2018-Dec-31 - Bilfinger SE.pdf\n",
      "❌ Failed to process 2018-Dec-31 - Bilfinger SE.pdf: Failed to open file 'failed_pdfs/2018-Dec-31 - Bilfinger SE.pdf'.\n",
      "📁 Moved to failed_pdfs: 2018-Dec-31 - Bilfinger SE.pdf\n",
      "🔍 Processing 2015-Dec-31 - Koninklijke Philips NV.pdf\n"
     ]
    },
    {
     "name": "stderr",
     "output_type": "stream",
     "text": []
    },
    {
     "name": "stdout",
     "output_type": "stream",
     "text": [
      "✅ Done and deleted: 2015-Dec-31 - Koninklijke Philips NV.pdf\n",
      "🔍 Processing 2018-Dec-31 - L'Air Liquide Societe Ano....pdf\n"
     ]
    },
    {
     "name": "stderr",
     "output_type": "stream",
     "text": []
    },
    {
     "name": "stdout",
     "output_type": "stream",
     "text": [
      "✅ Done and deleted: 2018-Dec-31 - L'Air Liquide Societe Ano....pdf\n",
      "🔍 Processing 2022 arcelor.pdf\n"
     ]
    },
    {
     "name": "stderr",
     "output_type": "stream",
     "text": [
      "📦 Processing PDFs:  40%|████      | 297/742 [1:39:28<1:57:55, 15.90s/it]"
     ]
    },
    {
     "name": "stdout",
     "output_type": "stream",
     "text": [
      "✅ Done and deleted: 2022 arcelor.pdf\n",
      "🔍 Processing 2015-Dec-31 - Iren SpA.pdf\n"
     ]
    },
    {
     "name": "stderr",
     "output_type": "stream",
     "text": []
    },
    {
     "name": "stdout",
     "output_type": "stream",
     "text": [
      "✅ Done and deleted: 2015-Dec-31 - Iren SpA.pdf\n",
      "🔍 Processing 2019-Dec-31 - Bayer AG (1).pdf\n"
     ]
    },
    {
     "name": "stderr",
     "output_type": "stream",
     "text": [
      "📦 Processing PDFs:  40%|████      | 297/742 [1:39:44<1:57:55, 15.90s/it]"
     ]
    },
    {
     "name": "stdout",
     "output_type": "stream",
     "text": [
      "MuPDF error: library error: FT_New_Memory_Face(AAAAAT+HelveticaNeueLTPro-Th): unknown file format\n",
      "\n"
     ]
    },
    {
     "name": "stderr",
     "output_type": "stream",
     "text": [
      "📦 Processing PDFs:  40%|████      | 299/742 [1:45:26<3:55:32, 31.90s/it]"
     ]
    },
    {
     "name": "stdout",
     "output_type": "stream",
     "text": [
      "✅ Done and deleted: 2019-Dec-31 - Bayer AG (1).pdf\n",
      "🔍 Processing 2021-Dec-31 - L'Air Liquide Societe Ano....pdf\n"
     ]
    },
    {
     "name": "stderr",
     "output_type": "stream",
     "text": []
    },
    {
     "name": "stdout",
     "output_type": "stream",
     "text": [
      "✅ Done and deleted: 2021-Dec-31 - L'Air Liquide Societe Ano....pdf\n",
      "🔍 Processing 2017-Aug-31 - Sodexo SA.pdf\n"
     ]
    },
    {
     "name": "stderr",
     "output_type": "stream",
     "text": []
    },
    {
     "name": "stdout",
     "output_type": "stream",
     "text": [
      "✅ Done and deleted: 2017-Aug-31 - Sodexo SA.pdf\n",
      "🔍 Processing 2020-Dec-31 - Ucb SA.pdf\n"
     ]
    },
    {
     "name": "stderr",
     "output_type": "stream",
     "text": []
    },
    {
     "name": "stdout",
     "output_type": "stream",
     "text": [
      "✅ Done and deleted: 2020-Dec-31 - Ucb SA.pdf\n",
      "🔍 Processing 2016-Dec-31 - Randstad NV.pdf\n"
     ]
    },
    {
     "name": "stderr",
     "output_type": "stream",
     "text": []
    },
    {
     "name": "stdout",
     "output_type": "stream",
     "text": [
      "✅ Done and deleted: 2016-Dec-31 - Randstad NV.pdf\n",
      "🔍 Processing 2020-Mar-31 - Prosus NV.pdf\n"
     ]
    },
    {
     "name": "stderr",
     "output_type": "stream",
     "text": []
    },
    {
     "name": "stdout",
     "output_type": "stream",
     "text": [
      "✅ Done and deleted: 2020-Mar-31 - Prosus NV.pdf\n",
      "🔍 Processing 2016-Dec-31 - Koninklijke Vopak NV.pdf\n"
     ]
    },
    {
     "name": "stderr",
     "output_type": "stream",
     "text": []
    },
    {
     "name": "stdout",
     "output_type": "stream",
     "text": [
      "✅ Done and deleted: 2016-Dec-31 - Koninklijke Vopak NV.pdf\n",
      "🔍 Processing 2022-Dec-31 - Aperam SA.pdf\n"
     ]
    },
    {
     "name": "stderr",
     "output_type": "stream",
     "text": []
    },
    {
     "name": "stdout",
     "output_type": "stream",
     "text": [
      "✅ Done and deleted: 2022-Dec-31 - Aperam SA.pdf\n",
      "🔍 Processing 2017-Dec-31 - Raiffeisen Bank Internati....pdf\n"
     ]
    },
    {
     "name": "stderr",
     "output_type": "stream",
     "text": []
    },
    {
     "name": "stdout",
     "output_type": "stream",
     "text": [
      "MuPDF error: library error: FT_New_Memory_Face(AAAAFZ+Futura-Lig): unknown file format\n",
      "\n"
     ]
    },
    {
     "name": "stderr",
     "output_type": "stream",
     "text": [
      "📦 Processing PDFs:  41%|████▏     | 307/742 [1:47:30<3:08:40, 26.02s/it]"
     ]
    },
    {
     "name": "stdout",
     "output_type": "stream",
     "text": [
      "✅ Done and deleted: 2017-Dec-31 - Raiffeisen Bank Internati....pdf\n",
      "🔍 Processing 2018-Dec-31 - Lotus Bakeries NV.pdf\n"
     ]
    },
    {
     "name": "stderr",
     "output_type": "stream",
     "text": []
    },
    {
     "name": "stdout",
     "output_type": "stream",
     "text": [
      "✅ Done and deleted: 2018-Dec-31 - Lotus Bakeries NV.pdf\n",
      "🔍 Processing 2014-Dec-31 - PGE Polska Grupa Energety....pdf\n"
     ]
    },
    {
     "name": "stderr",
     "output_type": "stream",
     "text": []
    },
    {
     "name": "stdout",
     "output_type": "stream",
     "text": [
      "✅ Done and deleted: 2014-Dec-31 - PGE Polska Grupa Energety....pdf\n",
      "🔍 Processing 2020-Dec-31 - Ackermans & Van Haaren NV.pdf\n"
     ]
    },
    {
     "name": "stderr",
     "output_type": "stream",
     "text": []
    },
    {
     "name": "stdout",
     "output_type": "stream",
     "text": [
      "✅ Done and deleted: 2020-Dec-31 - Ackermans & Van Haaren NV.pdf\n",
      "🔍 Processing 2018-Dec-31 - Orlen SA.pdf\n"
     ]
    },
    {
     "name": "stderr",
     "output_type": "stream",
     "text": []
    },
    {
     "name": "stdout",
     "output_type": "stream",
     "text": [
      "✅ Done and deleted: 2018-Dec-31 - Orlen SA.pdf\n",
      "🔍 Processing 2019-Dec-31 - adesso SE.pdf\n"
     ]
    },
    {
     "name": "stderr",
     "output_type": "stream",
     "text": [
      "📦 Processing PDFs:  42%|████▏     | 312/742 [1:47:30<2:21:19, 19.72s/it]"
     ]
    },
    {
     "name": "stdout",
     "output_type": "stream",
     "text": [
      "✅ Done and deleted: 2019-Dec-31 - adesso SE.pdf\n",
      "🔍 Processing 2016-Dec-31 - Qemetica SA.pdf\n"
     ]
    },
    {
     "name": "stderr",
     "output_type": "stream",
     "text": []
    },
    {
     "name": "stdout",
     "output_type": "stream",
     "text": [
      "✅ Done and deleted: 2016-Dec-31 - Qemetica SA.pdf\n",
      "🔍 Processing 2016-Dec-31 - Enagas SA.pdf\n"
     ]
    },
    {
     "name": "stderr",
     "output_type": "stream",
     "text": []
    },
    {
     "name": "stdout",
     "output_type": "stream",
     "text": [
      "✅ Done and deleted: 2016-Dec-31 - Enagas SA.pdf\n",
      "🔍 Processing 2019-Dec-31 - Bilfinger SE.pdf\n",
      "❌ Failed to process 2019-Dec-31 - Bilfinger SE.pdf: Failed to open file 'failed_pdfs/2019-Dec-31 - Bilfinger SE.pdf'.\n",
      "📁 Moved to failed_pdfs: 2019-Dec-31 - Bilfinger SE.pdf\n",
      "🔍 Processing 2017-Dec-31 - Randstad NV.pdf\n"
     ]
    },
    {
     "name": "stderr",
     "output_type": "stream",
     "text": []
    },
    {
     "name": "stdout",
     "output_type": "stream",
     "text": [
      "✅ Done and deleted: 2017-Dec-31 - Randstad NV.pdf\n",
      "🔍 Processing 2016-Aug-31 - Sodexo SA.pdf\n"
     ]
    },
    {
     "name": "stderr",
     "output_type": "stream",
     "text": []
    },
    {
     "name": "stdout",
     "output_type": "stream",
     "text": [
      "✅ Done and deleted: 2016-Aug-31 - Sodexo SA.pdf\n",
      "🔍 Processing 2014-Dec-31 - Nestle SA.pdf\n"
     ]
    },
    {
     "name": "stderr",
     "output_type": "stream",
     "text": []
    },
    {
     "name": "stdout",
     "output_type": "stream",
     "text": [
      "✅ Done and deleted: 2014-Dec-31 - Nestle SA.pdf\n",
      "🔍 Processing 2021-Sep-30 - Siemens Gamesa Renewable ....pdf\n"
     ]
    },
    {
     "name": "stderr",
     "output_type": "stream",
     "text": []
    },
    {
     "name": "stdout",
     "output_type": "stream",
     "text": [
      "✅ Done and deleted: 2021-Sep-30 - Siemens Gamesa Renewable ....pdf\n",
      "🔍 Processing 2019-Dec-31 - Telecom Italia SpA.pdf\n"
     ]
    },
    {
     "name": "stderr",
     "output_type": "stream",
     "text": [
      "📦 Processing PDFs:  43%|████▎     | 320/742 [1:51:17<2:40:16, 22.79s/it]"
     ]
    },
    {
     "name": "stdout",
     "output_type": "stream",
     "text": [
      "✅ Done and deleted: 2019-Dec-31 - Telecom Italia SpA.pdf\n",
      "🔍 Processing 2019-Dec-31 - Prosiebensat 1 Media SE.pdf\n"
     ]
    },
    {
     "name": "stderr",
     "output_type": "stream",
     "text": [
      "📦 Processing PDFs:  43%|████▎     | 321/742 [1:53:57<3:37:27, 30.99s/it]"
     ]
    },
    {
     "name": "stdout",
     "output_type": "stream",
     "text": [
      "✅ Done and deleted: 2019-Dec-31 - Prosiebensat 1 Media SE.pdf\n",
      "🔍 Processing 2019-Dec-31 - Gaztransport et Technigaz....pdf\n"
     ]
    },
    {
     "name": "stderr",
     "output_type": "stream",
     "text": []
    },
    {
     "name": "stdout",
     "output_type": "stream",
     "text": [
      "✅ Done and deleted: 2019-Dec-31 - Gaztransport et Technigaz....pdf\n",
      "🔍 Processing 2022-Dec-31 - Telecom Italia SpA.pdf\n"
     ]
    },
    {
     "name": "stderr",
     "output_type": "stream",
     "text": []
    },
    {
     "name": "stdout",
     "output_type": "stream",
     "text": [
      "✅ Done and deleted: 2022-Dec-31 - Telecom Italia SpA.pdf\n",
      "🔍 Processing 2018-Dec-31 - Koninklijke Vopak NV.pdf\n"
     ]
    },
    {
     "name": "stderr",
     "output_type": "stream",
     "text": [
      "📦 Processing PDFs:  44%|████▎     | 324/742 [1:53:57<2:51:54, 24.68s/it]"
     ]
    },
    {
     "name": "stdout",
     "output_type": "stream",
     "text": [
      "✅ Done and deleted: 2018-Dec-31 - Koninklijke Vopak NV.pdf\n",
      "🔍 Processing 2021-Dec-31 - Scania AB.pdf\n"
     ]
    },
    {
     "name": "stderr",
     "output_type": "stream",
     "text": []
    },
    {
     "name": "stdout",
     "output_type": "stream",
     "text": [
      "✅ Done and deleted: 2021-Dec-31 - Scania AB.pdf\n",
      "🔍 Processing 2022-Sep-30 - Siemens Gamesa Renewable ....pdf\n"
     ]
    },
    {
     "name": "stderr",
     "output_type": "stream",
     "text": []
    },
    {
     "name": "stdout",
     "output_type": "stream",
     "text": [
      "✅ Done and deleted: 2022-Sep-30 - Siemens Gamesa Renewable ....pdf\n",
      "🔍 Processing 2018-Dec-31 - Henkel AG & Co KGaA.pdf\n"
     ]
    },
    {
     "name": "stderr",
     "output_type": "stream",
     "text": []
    },
    {
     "name": "stdout",
     "output_type": "stream",
     "text": [
      "✅ Done and deleted: 2018-Dec-31 - Henkel AG & Co KGaA.pdf\n",
      "🔍 Processing 2022-Dec-31 - Scania AB.pdf\n"
     ]
    },
    {
     "name": "stderr",
     "output_type": "stream",
     "text": []
    },
    {
     "name": "stdout",
     "output_type": "stream",
     "text": [
      "✅ Done and deleted: 2022-Dec-31 - Scania AB.pdf\n",
      "🔍 Processing 2019-Dec-31 - Telia Company AB.pdf\n"
     ]
    },
    {
     "name": "stderr",
     "output_type": "stream",
     "text": []
    },
    {
     "name": "stdout",
     "output_type": "stream",
     "text": [
      "✅ Done and deleted: 2019-Dec-31 - Telia Company AB.pdf\n",
      "🔍 Processing 2015-Dec-31 - RWE AG.pdf\n",
      "❌ Failed to process 2015-Dec-31 - RWE AG.pdf: Failed to open file 'failed_pdfs/2015-Dec-31 - RWE AG.pdf'.\n",
      "📁 Moved to failed_pdfs: 2015-Dec-31 - RWE AG.pdf\n",
      "🔍 Processing 2016-Dec-31 - Bouygues SA.pdf\n"
     ]
    },
    {
     "name": "stderr",
     "output_type": "stream",
     "text": []
    },
    {
     "name": "stdout",
     "output_type": "stream",
     "text": [
      "✅ Done and deleted: 2016-Dec-31 - Bouygues SA.pdf\n",
      "🔍 Processing 2021-Dec-31 - Koninklijke Philips NV.pdf\n"
     ]
    },
    {
     "name": "stderr",
     "output_type": "stream",
     "text": []
    },
    {
     "name": "stdout",
     "output_type": "stream",
     "text": [
      "✅ Done and deleted: 2021-Dec-31 - Koninklijke Philips NV.pdf\n",
      "🔍 Processing 2016-Dec-31 - Roche Holding AG.pdf\n"
     ]
    },
    {
     "name": "stderr",
     "output_type": "stream",
     "text": [
      "📦 Processing PDFs:  45%|████▍     | 333/742 [1:53:57<1:29:42, 13.16s/it]"
     ]
    },
    {
     "name": "stdout",
     "output_type": "stream",
     "text": [
      "✅ Done and deleted: 2016-Dec-31 - Roche Holding AG.pdf\n",
      "🔍 Processing 2017-Dec-31 - Stellantis NV.pdf\n"
     ]
    },
    {
     "name": "stderr",
     "output_type": "stream",
     "text": []
    },
    {
     "name": "stdout",
     "output_type": "stream",
     "text": [
      "✅ Done and deleted: 2017-Dec-31 - Stellantis NV.pdf\n",
      "🔍 Processing 2021-Dec-31 - Gaztransport et Technigaz....pdf\n"
     ]
    },
    {
     "name": "stderr",
     "output_type": "stream",
     "text": []
    },
    {
     "name": "stdout",
     "output_type": "stream",
     "text": [
      "✅ Done and deleted: 2021-Dec-31 - Gaztransport et Technigaz....pdf\n",
      "🔍 Processing 2017-Dec-31 - Merck KGaA.pdf\n"
     ]
    },
    {
     "name": "stderr",
     "output_type": "stream",
     "text": [
      "📦 Processing PDFs:  45%|████▌     | 336/742 [2:00:20<3:49:50, 33.97s/it]"
     ]
    },
    {
     "name": "stdout",
     "output_type": "stream",
     "text": [
      "✅ Done and deleted: 2017-Dec-31 - Merck KGaA.pdf\n",
      "🔍 Processing 2014-Dec-31 - Deutsche Telekom AG.pdf\n",
      "❌ Failed to process 2014-Dec-31 - Deutsche Telekom AG.pdf: Failed to open file 'failed_pdfs/2014-Dec-31 - Deutsche Telekom AG.pdf'.\n",
      "📁 Moved to failed_pdfs: 2014-Dec-31 - Deutsche Telekom AG.pdf\n",
      "🔍 Processing 2013-Dec-31 - Fresenius Medical Care AG.pdf\n"
     ]
    },
    {
     "name": "stderr",
     "output_type": "stream",
     "text": []
    },
    {
     "name": "stdout",
     "output_type": "stream",
     "text": [
      "MuPDF error: library error: FT_New_Memory_Face(AAAAAI+FrutigerNextProFMC-Regular): unknown file format\n",
      "\n"
     ]
    },
    {
     "name": "stderr",
     "output_type": "stream",
     "text": [
      "📦 Processing PDFs:  46%|████▌     | 338/742 [2:06:05<6:06:35, 54.44s/it]"
     ]
    },
    {
     "name": "stdout",
     "output_type": "stream",
     "text": [
      "✅ Done and deleted: 2013-Dec-31 - Fresenius Medical Care AG.pdf\n",
      "🔍 Processing 2015-Dec-31 - Randstad NV.pdf\n"
     ]
    },
    {
     "name": "stderr",
     "output_type": "stream",
     "text": []
    },
    {
     "name": "stdout",
     "output_type": "stream",
     "text": [
      "✅ Done and deleted: 2015-Dec-31 - Randstad NV.pdf\n",
      "🔍 Processing 2014-Dec-31 - Lotus Bakeries NV.pdf\n"
     ]
    },
    {
     "name": "stderr",
     "output_type": "stream",
     "text": []
    },
    {
     "name": "stdout",
     "output_type": "stream",
     "text": [
      "✅ Done and deleted: 2014-Dec-31 - Lotus Bakeries NV.pdf\n",
      "🔍 Processing 2019-Dec-31 - Ackermans & Van Haaren NV.pdf\n"
     ]
    },
    {
     "name": "stderr",
     "output_type": "stream",
     "text": []
    },
    {
     "name": "stdout",
     "output_type": "stream",
     "text": [
      "✅ Done and deleted: 2019-Dec-31 - Ackermans & Van Haaren NV.pdf\n",
      "🔍 Processing 2018-Dec-31 - Raiffeisen Bank Internati....pdf\n"
     ]
    },
    {
     "name": "stderr",
     "output_type": "stream",
     "text": []
    },
    {
     "name": "stdout",
     "output_type": "stream",
     "text": [
      "MuPDF error: library error: FT_New_Memory_Face(AAAAEU+Futura-Lig): unknown file format\n",
      "\n"
     ]
    },
    {
     "name": "stderr",
     "output_type": "stream",
     "text": [
      "📦 Processing PDFs:  46%|████▌     | 342/742 [2:07:55<5:09:28, 46.42s/it]"
     ]
    },
    {
     "name": "stdout",
     "output_type": "stream",
     "text": [
      "✅ Done and deleted: 2018-Dec-31 - Raiffeisen Bank Internati....pdf\n",
      "🔍 Processing 2022-Dec-31 - Safran SA.pdf\n"
     ]
    },
    {
     "name": "stderr",
     "output_type": "stream",
     "text": []
    },
    {
     "name": "stdout",
     "output_type": "stream",
     "text": [
      "✅ Done and deleted: 2022-Dec-31 - Safran SA.pdf\n",
      "🔍 Processing 2019-Dec-31 - Scania AB.pdf\n"
     ]
    },
    {
     "name": "stderr",
     "output_type": "stream",
     "text": []
    },
    {
     "name": "stdout",
     "output_type": "stream",
     "text": [
      "✅ Done and deleted: 2019-Dec-31 - Scania AB.pdf\n",
      "🔍 Processing 2021-Dec-31 - Prosiebensat 1 Media SE.pdf\n",
      "❌ Failed to process 2021-Dec-31 - Prosiebensat 1 Media SE.pdf: Failed to open file 'failed_pdfs/2021-Dec-31 - Prosiebensat 1 Media SE.pdf'.\n",
      "📁 Moved to failed_pdfs: 2021-Dec-31 - Prosiebensat 1 Media SE.pdf\n",
      "🔍 Processing 2019-Dec-31 - Swisscom AG.pdf\n"
     ]
    },
    {
     "name": "stderr",
     "output_type": "stream",
     "text": []
    },
    {
     "name": "stdout",
     "output_type": "stream",
     "text": [
      "✅ Done and deleted: 2019-Dec-31 - Swisscom AG.pdf\n",
      "🔍 Processing 2019-Dec-31 - Nestle SA.pdf\n"
     ]
    },
    {
     "name": "stderr",
     "output_type": "stream",
     "text": []
    },
    {
     "name": "stdout",
     "output_type": "stream",
     "text": [
      "✅ Done and deleted: 2019-Dec-31 - Nestle SA.pdf\n",
      "🔍 Processing 2019-Dec-31 - Ucb SA.pdf\n"
     ]
    },
    {
     "name": "stderr",
     "output_type": "stream",
     "text": []
    },
    {
     "name": "stdout",
     "output_type": "stream",
     "text": [
      "✅ Done and deleted: 2019-Dec-31 - Ucb SA.pdf\n",
      "🔍 Processing 2020-Dec-31 - Novartis AG.pdf\n"
     ]
    },
    {
     "name": "stderr",
     "output_type": "stream",
     "text": []
    },
    {
     "name": "stdout",
     "output_type": "stream",
     "text": [
      "✅ Done and deleted: 2020-Dec-31 - Novartis AG.pdf\n",
      "🔍 Processing 2020-Dec-31 - Scor SE.pdf\n"
     ]
    },
    {
     "name": "stderr",
     "output_type": "stream",
     "text": [
      "📦 Processing PDFs:  47%|████▋     | 350/742 [2:07:55<2:44:11, 25.13s/it]"
     ]
    },
    {
     "name": "stdout",
     "output_type": "stream",
     "text": [
      "✅ Done and deleted: 2020-Dec-31 - Scor SE.pdf\n",
      "🔍 Processing 2019-Dec-31 - Henkel AG & Co KGaA.pdf\n"
     ]
    },
    {
     "name": "stderr",
     "output_type": "stream",
     "text": []
    },
    {
     "name": "stdout",
     "output_type": "stream",
     "text": [
      "✅ Done and deleted: 2019-Dec-31 - Henkel AG & Co KGaA.pdf\n",
      "🔍 Processing 2020-Dec-31 - Abb Ltd.pdf\n"
     ]
    },
    {
     "name": "stderr",
     "output_type": "stream",
     "text": []
    },
    {
     "name": "stdout",
     "output_type": "stream",
     "text": [
      "✅ Done and deleted: 2020-Dec-31 - Abb Ltd.pdf\n",
      "🔍 Processing 2012-Dec-31 - Scania AB.pdf\n"
     ]
    },
    {
     "name": "stderr",
     "output_type": "stream",
     "text": []
    },
    {
     "name": "stdout",
     "output_type": "stream",
     "text": [
      "✅ Done and deleted: 2012-Dec-31 - Scania AB.pdf\n",
      "🔍 Processing 2016-Nov-30 - H & M Hennes & Mauritz AB.pdf\n"
     ]
    },
    {
     "name": "stderr",
     "output_type": "stream",
     "text": []
    },
    {
     "name": "stdout",
     "output_type": "stream",
     "text": [
      "✅ Done and deleted: 2016-Nov-30 - H & M Hennes & Mauritz AB.pdf\n",
      "🔍 Processing 2012-Dec-31 - Novartis AG.pdf\n"
     ]
    },
    {
     "name": "stderr",
     "output_type": "stream",
     "text": []
    },
    {
     "name": "stdout",
     "output_type": "stream",
     "text": [
      "✅ Done and deleted: 2012-Dec-31 - Novartis AG.pdf\n",
      "🔍 Processing 2021-Dec-31 - Electricite De France SA.pdf\n"
     ]
    },
    {
     "name": "stderr",
     "output_type": "stream",
     "text": []
    },
    {
     "name": "stdout",
     "output_type": "stream",
     "text": [
      "✅ Done and deleted: 2021-Dec-31 - Electricite De France SA.pdf\n",
      "🔍 Processing 2020-Dec-31 - L'Oreal SA.pdf\n"
     ]
    },
    {
     "name": "stderr",
     "output_type": "stream",
     "text": []
    },
    {
     "name": "stdout",
     "output_type": "stream",
     "text": [
      "✅ Done and deleted: 2020-Dec-31 - L'Oreal SA.pdf\n",
      "🔍 Processing 2014-Dec-31 - BASF SE.pdf\n"
     ]
    },
    {
     "name": "stderr",
     "output_type": "stream",
     "text": [
      "📦 Processing PDFs:  47%|████▋     | 350/742 [2:08:06<2:44:11, 25.13s/it]"
     ]
    },
    {
     "name": "stdout",
     "output_type": "stream",
     "text": [
      "MuPDF error: library error: FT_New_Memory_Face(AAAABG+HelveticaFinanzStd-Medium): unknown file format\n",
      "\n"
     ]
    },
    {
     "name": "stderr",
     "output_type": "stream",
     "text": [
      "📦 Processing PDFs:  48%|████▊     | 358/742 [2:13:47<3:28:48, 32.63s/it]"
     ]
    },
    {
     "name": "stdout",
     "output_type": "stream",
     "text": [
      "✅ Done and deleted: 2014-Dec-31 - BASF SE.pdf\n",
      "🔍 Processing 2022 totalenergies.pdf\n"
     ]
    },
    {
     "name": "stderr",
     "output_type": "stream",
     "text": []
    },
    {
     "name": "stdout",
     "output_type": "stream",
     "text": [
      "✅ Done and deleted: 2022 totalenergies.pdf\n",
      "🔍 Processing 2021-Dec-31 - Husqvarna AB.pdf\n"
     ]
    },
    {
     "name": "stderr",
     "output_type": "stream",
     "text": []
    },
    {
     "name": "stdout",
     "output_type": "stream",
     "text": [
      "✅ Done and deleted: 2021-Dec-31 - Husqvarna AB.pdf\n",
      "🔍 Processing 2021-Dec-31 - Koninklijke KPN NV.pdf\n",
      "❌ Failed to process 2021-Dec-31 - Koninklijke KPN NV.pdf: Failed to open file 'failed_pdfs/2021-Dec-31 - Koninklijke KPN NV.pdf'.\n",
      "📁 Moved to failed_pdfs: 2021-Dec-31 - Koninklijke KPN NV.pdf\n",
      "🔍 Processing 2022-Dec-31 - Enagas SA.pdf\n"
     ]
    },
    {
     "name": "stderr",
     "output_type": "stream",
     "text": []
    },
    {
     "name": "stdout",
     "output_type": "stream",
     "text": [
      "✅ Done and deleted: 2022-Dec-31 - Enagas SA.pdf\n",
      "🔍 Processing 2020-Dec-31 - Nordea Bank Abp.pdf\n",
      "❌ Failed to process 2020-Dec-31 - Nordea Bank Abp.pdf: Failed to open file 'failed_pdfs/2020-Dec-31 - Nordea Bank Abp.pdf'.\n",
      "📁 Moved to failed_pdfs: 2020-Dec-31 - Nordea Bank Abp.pdf\n",
      "🔍 Processing 2016-Dec-31 - Husqvarna AB.pdf\n"
     ]
    },
    {
     "name": "stderr",
     "output_type": "stream",
     "text": []
    },
    {
     "name": "stdout",
     "output_type": "stream",
     "text": [
      "✅ Done and deleted: 2016-Dec-31 - Husqvarna AB.pdf\n",
      "🔍 Processing 2017-Dec-31 - Prosiebensat 1 Media SE.pdf\n"
     ]
    },
    {
     "name": "stderr",
     "output_type": "stream",
     "text": [
      "📦 Processing PDFs:  49%|████▉     | 365/742 [2:13:47<2:17:09, 21.83s/it]"
     ]
    },
    {
     "name": "stdout",
     "output_type": "stream",
     "text": [
      "✅ Done and deleted: 2017-Dec-31 - Prosiebensat 1 Media SE.pdf\n",
      "🔍 Processing 2018-Dec-31 - Telia Company AB.pdf\n"
     ]
    },
    {
     "name": "stderr",
     "output_type": "stream",
     "text": []
    },
    {
     "name": "stdout",
     "output_type": "stream",
     "text": [
      "✅ Done and deleted: 2018-Dec-31 - Telia Company AB.pdf\n",
      "🔍 Processing 2014-Dec-31 - Roche Holding AG.pdf\n"
     ]
    },
    {
     "name": "stderr",
     "output_type": "stream",
     "text": []
    },
    {
     "name": "stdout",
     "output_type": "stream",
     "text": [
      "✅ Done and deleted: 2014-Dec-31 - Roche Holding AG.pdf\n",
      "🔍 Processing 2019-Dec-31 - TotalEnergies SE.pdf\n"
     ]
    },
    {
     "name": "stderr",
     "output_type": "stream",
     "text": []
    },
    {
     "name": "stdout",
     "output_type": "stream",
     "text": [
      "✅ Done and deleted: 2019-Dec-31 - TotalEnergies SE.pdf\n",
      "🔍 Processing 2021-Dec-31 - Bouygues SA.pdf\n"
     ]
    },
    {
     "name": "stderr",
     "output_type": "stream",
     "text": []
    },
    {
     "name": "stdout",
     "output_type": "stream",
     "text": [
      "✅ Done and deleted: 2021-Dec-31 - Bouygues SA.pdf\n",
      "🔍 Processing 2015-Dec-31 - Telia Company AB.pdf\n"
     ]
    },
    {
     "name": "stderr",
     "output_type": "stream",
     "text": []
    },
    {
     "name": "stdout",
     "output_type": "stream",
     "text": [
      "✅ Done and deleted: 2015-Dec-31 - Telia Company AB.pdf\n",
      "🔍 Processing 2014-Dec-31 - Safran SA.pdf\n",
      "❌ Failed to process 2014-Dec-31 - Safran SA.pdf: Failed to open file 'failed_pdfs/2014-Dec-31 - Safran SA.pdf'.\n",
      "📁 Moved to failed_pdfs: 2014-Dec-31 - Safran SA.pdf\n",
      "🔍 Processing 2018-Dec-31 - Deutsche Telekom AG.pdf\n"
     ]
    },
    {
     "name": "stderr",
     "output_type": "stream",
     "text": []
    },
    {
     "name": "stdout",
     "output_type": "stream",
     "text": [
      "✅ Done and deleted: 2018-Dec-31 - Deutsche Telekom AG.pdf\n",
      "🔍 Processing 2022-Dec-31 - Allianz SE.pdf\n"
     ]
    },
    {
     "name": "stderr",
     "output_type": "stream",
     "text": [
      "📦 Processing PDFs:  50%|█████     | 373/742 [2:13:47<1:27:10, 14.18s/it]"
     ]
    },
    {
     "name": "stdout",
     "output_type": "stream",
     "text": [
      "✅ Done and deleted: 2022-Dec-31 - Allianz SE.pdf\n",
      "🔍 Processing 2017-Dec-31 - Electricite De France SA.pdf\n"
     ]
    },
    {
     "name": "stderr",
     "output_type": "stream",
     "text": []
    },
    {
     "name": "stdout",
     "output_type": "stream",
     "text": [
      "✅ Done and deleted: 2017-Dec-31 - Electricite De France SA.pdf\n",
      "🔍 Processing 2019-Dec-31 - Orange SA (2).pdf\n"
     ]
    },
    {
     "name": "stderr",
     "output_type": "stream",
     "text": []
    },
    {
     "name": "stdout",
     "output_type": "stream",
     "text": [
      "MuPDF error: library error: FT_New_Memory_Face(AAAAAI+HelveticaNeue-Roman): unknown file format\n",
      "\n"
     ]
    },
    {
     "name": "stderr",
     "output_type": "stream",
     "text": [
      "📦 Processing PDFs:  51%|█████     | 375/742 [2:22:58<4:24:25, 43.23s/it]"
     ]
    },
    {
     "name": "stdout",
     "output_type": "stream",
     "text": [
      "✅ Done and deleted: 2019-Dec-31 - Orange SA (2).pdf\n",
      "🔍 Processing 2017-Dec-31 - adesso SE.pdf\n"
     ]
    },
    {
     "name": "stderr",
     "output_type": "stream",
     "text": []
    },
    {
     "name": "stdout",
     "output_type": "stream",
     "text": [
      "✅ Done and deleted: 2017-Dec-31 - adesso SE.pdf\n",
      "🔍 Processing 2018-Dec-31 - Swisscom AG.pdf\n"
     ]
    },
    {
     "name": "stderr",
     "output_type": "stream",
     "text": []
    },
    {
     "name": "stdout",
     "output_type": "stream",
     "text": [
      "✅ Done and deleted: 2018-Dec-31 - Swisscom AG.pdf\n",
      "🔍 Processing 2015-Dec-31 - Deutsche Telekom AG.pdf\n"
     ]
    },
    {
     "name": "stderr",
     "output_type": "stream",
     "text": []
    },
    {
     "name": "stdout",
     "output_type": "stream",
     "text": [
      "✅ Done and deleted: 2015-Dec-31 - Deutsche Telekom AG.pdf\n",
      "🔍 Processing 2017-Dec-31 - Banco de Sabadell SA.pdf\n"
     ]
    },
    {
     "name": "stderr",
     "output_type": "stream",
     "text": []
    },
    {
     "name": "stdout",
     "output_type": "stream",
     "text": [
      "✅ Done and deleted: 2017-Dec-31 - Banco de Sabadell SA.pdf\n",
      "🔍 Processing 2018-Dec-31 - Koninklijke Philips NV.pdf\n",
      "❌ Failed to process 2018-Dec-31 - Koninklijke Philips NV.pdf: Failed to open file 'failed_pdfs/2018-Dec-31 - Koninklijke Philips NV.pdf'.\n",
      "📁 Moved to failed_pdfs: 2018-Dec-31 - Koninklijke Philips NV.pdf\n",
      "🔍 Processing 2017-Dec-31 - Nordea Bank Abp.pdf\n"
     ]
    },
    {
     "name": "stderr",
     "output_type": "stream",
     "text": [
      "📦 Processing PDFs:  51%|█████▏    | 381/742 [2:22:58<2:56:09, 29.28s/it]"
     ]
    },
    {
     "name": "stdout",
     "output_type": "stream",
     "text": [
      "✅ Done and deleted: 2017-Dec-31 - Nordea Bank Abp.pdf\n",
      "🔍 Processing 2016-Dec-31 - Engie SA.pdf\n"
     ]
    },
    {
     "name": "stderr",
     "output_type": "stream",
     "text": []
    },
    {
     "name": "stdout",
     "output_type": "stream",
     "text": [
      "✅ Done and deleted: 2016-Dec-31 - Engie SA.pdf\n",
      "🔍 Processing 2016-Dec-31 - L'Air Liquide Societe Ano....pdf\n"
     ]
    },
    {
     "name": "stderr",
     "output_type": "stream",
     "text": []
    },
    {
     "name": "stdout",
     "output_type": "stream",
     "text": [
      "MuPDF error: syntax error: too few sample function dimension sizes\n",
      "\n",
      "MuPDF error: syntax error: too few sample function dimension sizes\n",
      "\n",
      "MuPDF error: syntax error: too few sample function dimension sizes\n",
      "\n",
      "MuPDF error: syntax error: too few sample function dimension sizes\n",
      "\n",
      "MuPDF error: syntax error: too few sample function dimension sizes\n",
      "\n",
      "MuPDF error: syntax error: too few sample function dimension sizes\n",
      "\n",
      "MuPDF error: syntax error: too few sample function dimension sizes\n",
      "\n",
      "MuPDF error: syntax error: too few sample function dimension sizes\n",
      "\n",
      "MuPDF error: syntax error: too few sample function dimension sizes\n",
      "\n",
      "MuPDF error: syntax error: too few sample function dimension sizes\n",
      "\n",
      "MuPDF error: syntax error: too few sample function dimension sizes\n",
      "\n"
     ]
    },
    {
     "name": "stderr",
     "output_type": "stream",
     "text": []
    },
    {
     "name": "stdout",
     "output_type": "stream",
     "text": [
      "MuPDF error: syntax error: too few sample function dimension sizes\n",
      "\n",
      "MuPDF error: syntax error: too few sample function dimension sizes\n",
      "\n",
      "MuPDF error: syntax error: too few sample function dimension sizes\n",
      "\n",
      "MuPDF error: syntax error: too few sample function dimension sizes\n",
      "\n",
      "MuPDF error: syntax error: too few sample function dimension sizes\n",
      "\n",
      "MuPDF error: syntax error: too few sample function dimension sizes\n",
      "\n",
      "MuPDF error: syntax error: too few sample function dimension sizes\n",
      "\n",
      "MuPDF error: syntax error: too few sample function dimension sizes\n",
      "\n",
      "MuPDF error: syntax error: too few sample function dimension sizes\n",
      "\n",
      "MuPDF error: syntax error: too few sample function dimension sizes\n",
      "\n",
      "MuPDF error: syntax error: too few sample function dimension sizes\n",
      "\n"
     ]
    },
    {
     "name": "stderr",
     "output_type": "stream",
     "text": []
    },
    {
     "name": "stdout",
     "output_type": "stream",
     "text": [
      "MuPDF error: syntax error: too few sample function dimension sizes\n",
      "\n",
      "MuPDF error: syntax error: too few sample function dimension sizes\n",
      "\n",
      "MuPDF error: syntax error: too few sample function dimension sizes\n",
      "\n",
      "MuPDF error: syntax error: too few sample function dimension sizes\n",
      "\n",
      "MuPDF error: syntax error: too few sample function dimension sizes\n",
      "\n",
      "MuPDF error: syntax error: too few sample function dimension sizes\n",
      "\n",
      "MuPDF error: syntax error: too few sample function dimension sizes\n",
      "\n",
      "MuPDF error: syntax error: too few sample function dimension sizes\n",
      "\n",
      "MuPDF error: syntax error: too few sample function dimension sizes\n",
      "\n",
      "MuPDF error: syntax error: too few sample function dimension sizes\n",
      "\n",
      "MuPDF error: syntax error: too few sample function dimension sizes\n",
      "\n"
     ]
    },
    {
     "name": "stderr",
     "output_type": "stream",
     "text": []
    },
    {
     "name": "stdout",
     "output_type": "stream",
     "text": [
      "MuPDF error: syntax error: too few sample function dimension sizes\n",
      "\n",
      "MuPDF error: syntax error: too few sample function dimension sizes\n",
      "\n",
      "MuPDF error: syntax error: too few sample function dimension sizes\n",
      "\n",
      "MuPDF error: syntax error: too few sample function dimension sizes\n",
      "\n",
      "MuPDF error: syntax error: too few sample function dimension sizes\n",
      "\n",
      "MuPDF error: syntax error: too few sample function dimension sizes\n",
      "\n",
      "MuPDF error: syntax error: too few sample function dimension sizes\n",
      "\n"
     ]
    },
    {
     "name": "stderr",
     "output_type": "stream",
     "text": []
    },
    {
     "name": "stdout",
     "output_type": "stream",
     "text": [
      "MuPDF error: syntax error: too few sample function dimension sizes\n",
      "\n",
      "MuPDF error: syntax error: too few sample function dimension sizes\n",
      "\n",
      "MuPDF error: syntax error: too few sample function dimension sizes\n",
      "\n",
      "MuPDF error: syntax error: too few sample function dimension sizes\n",
      "\n",
      "MuPDF error: syntax error: too few sample function dimension sizes\n",
      "\n",
      "MuPDF error: syntax error: too few sample function dimension sizes\n",
      "\n",
      "MuPDF error: syntax error: too few sample function dimension sizes\n",
      "\n",
      "MuPDF error: syntax error: too few sample function dimension sizes\n",
      "\n",
      "MuPDF error: syntax error: too few sample function dimension sizes\n",
      "\n"
     ]
    },
    {
     "name": "stderr",
     "output_type": "stream",
     "text": []
    },
    {
     "name": "stdout",
     "output_type": "stream",
     "text": [
      "MuPDF error: syntax error: too few sample function dimension sizes\n",
      "\n",
      "MuPDF error: syntax error: too few sample function dimension sizes\n",
      "\n",
      "MuPDF error: syntax error: too few sample function dimension sizes\n",
      "\n",
      "MuPDF error: syntax error: too few sample function dimension sizes\n",
      "\n",
      "MuPDF error: syntax error: too few sample function dimension sizes\n",
      "\n",
      "MuPDF error: syntax error: too few sample function dimension sizes\n",
      "\n",
      "MuPDF error: syntax error: too few sample function dimension sizes\n",
      "\n",
      "MuPDF error: syntax error: too few sample function dimension sizes\n",
      "\n",
      "MuPDF error: syntax error: too few sample function dimension sizes\n",
      "\n",
      "MuPDF error: syntax error: too few sample function dimension sizes\n",
      "\n",
      "MuPDF error: syntax error: too few sample function dimension sizes\n",
      "\n",
      "MuPDF error: syntax error: too few sample function dimension sizes\n",
      "\n"
     ]
    },
    {
     "name": "stderr",
     "output_type": "stream",
     "text": [
      "📦 Processing PDFs:  51%|█████▏    | 381/742 [2:23:16<2:56:09, 29.28s/it]"
     ]
    },
    {
     "name": "stdout",
     "output_type": "stream",
     "text": [
      "MuPDF error: syntax error: too few sample function dimension sizes\n",
      "\n",
      "MuPDF error: syntax error: too few sample function dimension sizes\n",
      "\n",
      "MuPDF error: syntax error: too few sample function dimension sizes\n",
      "\n",
      "MuPDF error: syntax error: too few sample function dimension sizes\n",
      "\n",
      "MuPDF error: syntax error: too few sample function dimension sizes\n",
      "\n",
      "MuPDF error: syntax error: too few sample function dimension sizes\n",
      "\n",
      "MuPDF error: syntax error: too few sample function dimension sizes\n",
      "\n",
      "MuPDF error: syntax error: too few sample function dimension sizes\n",
      "\n"
     ]
    },
    {
     "name": "stderr",
     "output_type": "stream",
     "text": []
    },
    {
     "name": "stdout",
     "output_type": "stream",
     "text": [
      "MuPDF error: syntax error: too few sample function dimension sizes\n",
      "\n",
      "MuPDF error: syntax error: too few sample function dimension sizes\n",
      "\n",
      "MuPDF error: syntax error: too few sample function dimension sizes\n",
      "\n",
      "MuPDF error: syntax error: too few sample function dimension sizes\n",
      "\n",
      "MuPDF error: syntax error: too few sample function dimension sizes\n",
      "\n",
      "MuPDF error: syntax error: too few sample function dimension sizes\n",
      "\n"
     ]
    },
    {
     "name": "stderr",
     "output_type": "stream",
     "text": []
    },
    {
     "name": "stdout",
     "output_type": "stream",
     "text": [
      "MuPDF error: syntax error: too few sample function dimension sizes\n",
      "\n",
      "MuPDF error: syntax error: too few sample function dimension sizes\n",
      "\n",
      "MuPDF error: syntax error: too few sample function dimension sizes\n",
      "\n",
      "MuPDF error: syntax error: too few sample function dimension sizes\n",
      "\n",
      "MuPDF error: syntax error: too few sample function dimension sizes\n",
      "\n",
      "MuPDF error: syntax error: too few sample function dimension sizes\n",
      "\n",
      "MuPDF error: syntax error: too few sample function dimension sizes\n",
      "\n",
      "MuPDF error: syntax error: too few sample function dimension sizes\n",
      "\n",
      "MuPDF error: syntax error: too few sample function dimension sizes\n",
      "\n",
      "MuPDF error: syntax error: too few sample function dimension sizes\n",
      "\n",
      "MuPDF error: syntax error: too few sample function dimension sizes\n",
      "\n",
      "MuPDF error: syntax error: too few sample function dimension sizes\n",
      "\n",
      "MuPDF error: syntax error: too few sample function dimension sizes\n",
      "\n",
      "MuPDF error: syntax error: too few sample function dimension sizes\n",
      "\n",
      "MuPDF error: syntax error: too few sample function dimension sizes\n",
      "\n",
      "MuPDF error: syntax error: too few sample function dimension sizes\n",
      "\n",
      "MuPDF error: syntax error: too few sample function dimension sizes\n",
      "\n"
     ]
    },
    {
     "name": "stderr",
     "output_type": "stream",
     "text": []
    },
    {
     "name": "stdout",
     "output_type": "stream",
     "text": [
      "MuPDF error: syntax error: too few sample function dimension sizes\n",
      "\n",
      "MuPDF error: syntax error: too few sample function dimension sizes\n",
      "\n",
      "MuPDF error: syntax error: too few sample function dimension sizes\n",
      "\n",
      "MuPDF error: syntax error: too few sample function dimension sizes\n",
      "\n",
      "MuPDF error: syntax error: too few sample function dimension sizes\n",
      "\n",
      "MuPDF error: syntax error: too few sample function dimension sizes\n",
      "\n",
      "MuPDF error: syntax error: too few sample function dimension sizes\n",
      "\n",
      "MuPDF error: syntax error: too few sample function dimension sizes\n",
      "\n",
      "MuPDF error: syntax error: too few sample function dimension sizes\n",
      "\n",
      "MuPDF error: syntax error: too few sample function dimension sizes\n",
      "\n",
      "MuPDF error: syntax error: too few sample function dimension sizes\n",
      "\n"
     ]
    },
    {
     "name": "stderr",
     "output_type": "stream",
     "text": []
    },
    {
     "name": "stdout",
     "output_type": "stream",
     "text": [
      "MuPDF error: syntax error: too few sample function dimension sizes\n",
      "\n",
      "MuPDF error: syntax error: too few sample function dimension sizes\n",
      "\n",
      "MuPDF error: syntax error: too few sample function dimension sizes\n",
      "\n",
      "MuPDF error: syntax error: too few sample function dimension sizes\n",
      "\n",
      "MuPDF error: syntax error: too few sample function dimension sizes\n",
      "\n",
      "MuPDF error: syntax error: too few sample function dimension sizes\n",
      "\n",
      "MuPDF error: syntax error: too few sample function dimension sizes\n",
      "\n",
      "MuPDF error: syntax error: too few sample function dimension sizes\n",
      "\n",
      "MuPDF error: syntax error: too few sample function dimension sizes\n",
      "\n"
     ]
    },
    {
     "name": "stderr",
     "output_type": "stream",
     "text": []
    },
    {
     "name": "stdout",
     "output_type": "stream",
     "text": [
      "MuPDF error: syntax error: too few sample function dimension sizes\n",
      "\n",
      "MuPDF error: syntax error: too few sample function dimension sizes\n",
      "\n",
      "MuPDF error: syntax error: too few sample function dimension sizes\n",
      "\n",
      "MuPDF error: syntax error: too few sample function dimension sizes\n",
      "\n",
      "MuPDF error: syntax error: too few sample function dimension sizes\n",
      "\n",
      "MuPDF error: syntax error: too few sample function dimension sizes\n",
      "\n",
      "MuPDF error: syntax error: too few sample function dimension sizes\n",
      "\n"
     ]
    },
    {
     "name": "stderr",
     "output_type": "stream",
     "text": []
    },
    {
     "name": "stdout",
     "output_type": "stream",
     "text": [
      "MuPDF error: syntax error: too few sample function dimension sizes\n",
      "\n",
      "MuPDF error: syntax error: too few sample function dimension sizes\n",
      "\n",
      "MuPDF error: syntax error: too few sample function dimension sizes\n",
      "\n",
      "MuPDF error: syntax error: too few sample function dimension sizes\n",
      "\n",
      "MuPDF error: syntax error: too few sample function dimension sizes\n",
      "\n",
      "MuPDF error: syntax error: too few sample function dimension sizes\n",
      "\n",
      "MuPDF error: syntax error: too few sample function dimension sizes\n",
      "\n"
     ]
    },
    {
     "name": "stderr",
     "output_type": "stream",
     "text": []
    },
    {
     "name": "stdout",
     "output_type": "stream",
     "text": [
      "MuPDF error: syntax error: too few sample function dimension sizes\n",
      "\n",
      "MuPDF error: syntax error: too few sample function dimension sizes\n",
      "\n",
      "MuPDF error: syntax error: too few sample function dimension sizes\n",
      "\n",
      "MuPDF error: syntax error: too few sample function dimension sizes\n",
      "\n",
      "MuPDF error: syntax error: too few sample function dimension sizes\n",
      "\n",
      "MuPDF error: syntax error: too few sample function dimension sizes\n",
      "\n",
      "MuPDF error: syntax error: too few sample function dimension sizes\n",
      "\n",
      "MuPDF error: syntax error: too few sample function dimension sizes\n",
      "\n",
      "MuPDF error: syntax error: too few sample function dimension sizes\n",
      "\n",
      "MuPDF error: syntax error: too few sample function dimension sizes\n",
      "\n"
     ]
    },
    {
     "name": "stderr",
     "output_type": "stream",
     "text": []
    },
    {
     "name": "stdout",
     "output_type": "stream",
     "text": [
      "MuPDF error: syntax error: too few sample function dimension sizes\n",
      "\n",
      "MuPDF error: syntax error: too few sample function dimension sizes\n",
      "\n",
      "MuPDF error: syntax error: too few sample function dimension sizes\n",
      "\n",
      "MuPDF error: syntax error: too few sample function dimension sizes\n",
      "\n",
      "MuPDF error: syntax error: too few sample function dimension sizes\n",
      "\n",
      "MuPDF error: syntax error: cannot load shading function (512 0 R)\n",
      "\n",
      "MuPDF error: syntax error: cannot load shading function (513 0 R)\n",
      "\n",
      "MuPDF error: syntax error: cannot load shading function (514 0 R)\n",
      "\n",
      "MuPDF error: syntax error: cannot load shading function (515 0 R)\n",
      "\n",
      "MuPDF error: syntax error: cannot load shading function (516 0 R)\n",
      "\n",
      "MuPDF error: syntax error: cannot load shading function (517 0 R)\n",
      "\n",
      "MuPDF error: syntax error: cannot load shading function (518 0 R)\n",
      "\n",
      "MuPDF error: syntax error: cannot load shading function (519 0 R)\n",
      "\n",
      "MuPDF error: syntax error: cannot load shading function (520 0 R)\n",
      "\n",
      "MuPDF error: syntax error: cannot load shading function (521 0 R)\n",
      "\n",
      "MuPDF error: syntax error: cannot load shading function (522 0 R)\n",
      "\n",
      "MuPDF error: syntax error: cannot load shading function (523 0 R)\n",
      "\n",
      "MuPDF error: syntax error: cannot load shading function (524 0 R)\n",
      "\n",
      "MuPDF error: syntax error: cannot load shading function (525 0 R)\n",
      "\n",
      "MuPDF error: syntax error: cannot load shading function (526 0 R)\n",
      "\n",
      "MuPDF error: syntax error: cannot load shading function (527 0 R)\n",
      "\n",
      "MuPDF error: syntax error: cannot load shading function (528 0 R)\n",
      "\n",
      "MuPDF error: syntax error: cannot load shading function (529 0 R)\n",
      "\n",
      "MuPDF error: syntax error: cannot load shading function (530 0 R)\n",
      "\n",
      "MuPDF error: syntax error: cannot load shading function (531 0 R)\n",
      "\n",
      "MuPDF error: syntax error: cannot load shading function (532 0 R)\n",
      "\n",
      "MuPDF error: syntax error: cannot load shading function (533 0 R)\n",
      "\n",
      "MuPDF error: syntax error: cannot load shading function (534 0 R)\n",
      "\n",
      "MuPDF error: syntax error: cannot load shading function (535 0 R)\n",
      "\n",
      "MuPDF error: syntax error: cannot load shading function (536 0 R)\n",
      "\n",
      "MuPDF error: syntax error: cannot load shading function (537 0 R)\n",
      "\n",
      "MuPDF error: syntax error: cannot load shading function (538 0 R)\n",
      "\n",
      "MuPDF error: syntax error: cannot load shading function (539 0 R)\n",
      "\n",
      "MuPDF error: syntax error: cannot load shading function (540 0 R)\n",
      "\n",
      "MuPDF error: syntax error: cannot load shading function (541 0 R)\n",
      "\n",
      "MuPDF error: syntax error: cannot load shading function (542 0 R)\n",
      "\n",
      "MuPDF error: syntax error: cannot load shading function (543 0 R)\n",
      "\n",
      "MuPDF error: syntax error: cannot load shading function (544 0 R)\n",
      "\n",
      "MuPDF error: syntax error: cannot load shading function (545 0 R)\n",
      "\n",
      "MuPDF error: syntax error: cannot load shading function (546 0 R)\n",
      "\n",
      "MuPDF error: syntax error: cannot load shading function (547 0 R)\n",
      "\n",
      "MuPDF error: syntax error: cannot load shading function (548 0 R)\n",
      "\n",
      "MuPDF error: syntax error: cannot load shading function (549 0 R)\n",
      "\n",
      "MuPDF error: syntax error: cannot load shading function (550 0 R)\n",
      "\n",
      "MuPDF error: syntax error: cannot load shading function (551 0 R)\n",
      "\n",
      "MuPDF error: syntax error: cannot load shading function (552 0 R)\n",
      "\n",
      "MuPDF error: syntax error: cannot load shading function (553 0 R)\n",
      "\n",
      "MuPDF error: syntax error: cannot load shading function (554 0 R)\n",
      "\n",
      "MuPDF error: syntax error: cannot load shading function (555 0 R)\n",
      "\n",
      "MuPDF error: syntax error: cannot load shading function (556 0 R)\n",
      "\n",
      "MuPDF error: syntax error: cannot load shading function (557 0 R)\n",
      "\n",
      "MuPDF error: syntax error: cannot load shading function (558 0 R)\n",
      "\n",
      "MuPDF error: syntax error: cannot load shading function (559 0 R)\n",
      "\n",
      "MuPDF error: syntax error: cannot load shading function (560 0 R)\n",
      "\n",
      "MuPDF error: syntax error: cannot load shading function (561 0 R)\n",
      "\n",
      "MuPDF error: syntax error: cannot load shading function (562 0 R)\n",
      "\n",
      "MuPDF error: syntax error: cannot load shading function (563 0 R)\n",
      "\n",
      "MuPDF error: syntax error: cannot load shading function (564 0 R)\n",
      "\n",
      "MuPDF error: syntax error: cannot load shading function (565 0 R)\n",
      "\n",
      "MuPDF error: syntax error: cannot load shading function (566 0 R)\n",
      "\n",
      "MuPDF error: syntax error: cannot load shading function (567 0 R)\n",
      "\n",
      "MuPDF error: syntax error: cannot load shading function (568 0 R)\n",
      "\n",
      "MuPDF error: syntax error: cannot load shading function (569 0 R)\n",
      "\n",
      "MuPDF error: syntax error: cannot load shading function (570 0 R)\n",
      "\n",
      "MuPDF error: syntax error: cannot load shading function (571 0 R)\n",
      "\n",
      "MuPDF error: syntax error: cannot load shading function (572 0 R)\n",
      "\n",
      "MuPDF error: syntax error: cannot load shading function (573 0 R)\n",
      "\n",
      "MuPDF error: syntax error: cannot load shading function (574 0 R)\n",
      "\n",
      "MuPDF error: syntax error: cannot load shading function (575 0 R)\n",
      "\n",
      "MuPDF error: syntax error: cannot load shading function (576 0 R)\n",
      "\n",
      "MuPDF error: syntax error: cannot load shading function (577 0 R)\n",
      "\n",
      "MuPDF error: syntax error: cannot load shading function (578 0 R)\n",
      "\n",
      "MuPDF error: syntax error: cannot load shading function (579 0 R)\n",
      "\n",
      "MuPDF error: syntax error: cannot load shading function (580 0 R)\n",
      "\n",
      "MuPDF error: syntax error: cannot load shading function (581 0 R)\n",
      "\n",
      "MuPDF error: syntax error: cannot load shading function (582 0 R)\n",
      "\n",
      "MuPDF error: syntax error: cannot load shading function (583 0 R)\n",
      "\n",
      "MuPDF error: syntax error: cannot load shading function (584 0 R)\n",
      "\n",
      "MuPDF error: syntax error: cannot load shading function (585 0 R)\n",
      "\n",
      "MuPDF error: syntax error: cannot load shading function (586 0 R)\n",
      "\n",
      "MuPDF error: syntax error: cannot load shading function (587 0 R)\n",
      "\n",
      "MuPDF error: syntax error: cannot load shading function (588 0 R)\n",
      "\n",
      "MuPDF error: syntax error: cannot load shading function (589 0 R)\n",
      "\n",
      "MuPDF error: syntax error: cannot load shading function (590 0 R)\n",
      "\n",
      "MuPDF error: syntax error: cannot load shading function (591 0 R)\n",
      "\n",
      "MuPDF error: syntax error: cannot load shading function (592 0 R)\n",
      "\n",
      "MuPDF error: syntax error: cannot load shading function (593 0 R)\n",
      "\n",
      "MuPDF error: syntax error: cannot load shading function (594 0 R)\n",
      "\n",
      "MuPDF error: syntax error: cannot load shading function (595 0 R)\n",
      "\n",
      "MuPDF error: syntax error: cannot load shading function (596 0 R)\n",
      "\n",
      "MuPDF error: syntax error: cannot load shading function (597 0 R)\n",
      "\n",
      "MuPDF error: syntax error: cannot load shading function (598 0 R)\n",
      "\n",
      "MuPDF error: syntax error: cannot load shading function (599 0 R)\n",
      "\n",
      "MuPDF error: syntax error: cannot load shading function (600 0 R)\n",
      "\n",
      "MuPDF error: syntax error: cannot load shading function (601 0 R)\n",
      "\n",
      "MuPDF error: syntax error: cannot load shading function (602 0 R)\n",
      "\n",
      "MuPDF error: syntax error: cannot load shading function (603 0 R)\n",
      "\n",
      "MuPDF error: syntax error: cannot load shading function (604 0 R)\n",
      "\n",
      "MuPDF error: syntax error: cannot load shading function (605 0 R)\n",
      "\n",
      "MuPDF error: syntax error: cannot load shading function (606 0 R)\n",
      "\n"
     ]
    },
    {
     "name": "stderr",
     "output_type": "stream",
     "text": []
    },
    {
     "name": "stdout",
     "output_type": "stream",
     "text": [
      "MuPDF error: syntax error: too few sample function dimension sizes\n",
      "\n",
      "MuPDF error: syntax error: too few sample function dimension sizes\n",
      "\n",
      "MuPDF error: syntax error: too few sample function dimension sizes\n",
      "\n",
      "MuPDF error: syntax error: too few sample function dimension sizes\n",
      "\n",
      "MuPDF error: syntax error: cannot load shading function (1090 0 R)\n",
      "\n",
      "MuPDF error: syntax error: cannot load shading function (1091 0 R)\n",
      "\n",
      "MuPDF error: syntax error: cannot load shading function (1092 0 R)\n",
      "\n",
      "MuPDF error: syntax error: cannot load shading function (1093 0 R)\n",
      "\n",
      "MuPDF error: syntax error: cannot load shading function (1094 0 R)\n",
      "\n",
      "MuPDF error: syntax error: cannot load shading function (1095 0 R)\n",
      "\n",
      "MuPDF error: syntax error: cannot load shading function (1096 0 R)\n",
      "\n",
      "MuPDF error: syntax error: cannot load shading function (1097 0 R)\n",
      "\n",
      "MuPDF error: syntax error: cannot load shading function (1098 0 R)\n",
      "\n",
      "MuPDF error: syntax error: cannot load shading function (1099 0 R)\n",
      "\n",
      "MuPDF error: syntax error: cannot load shading function (1100 0 R)\n",
      "\n",
      "MuPDF error: syntax error: cannot load shading function (1101 0 R)\n",
      "\n",
      "MuPDF error: syntax error: cannot load shading function (1102 0 R)\n",
      "\n",
      "MuPDF error: syntax error: cannot load shading function (1103 0 R)\n",
      "\n",
      "MuPDF error: syntax error: cannot load shading function (1104 0 R)\n",
      "\n",
      "MuPDF error: syntax error: cannot load shading function (1105 0 R)\n",
      "\n",
      "MuPDF error: syntax error: cannot load shading function (1106 0 R)\n",
      "\n",
      "MuPDF error: syntax error: cannot load shading function (1107 0 R)\n",
      "\n",
      "MuPDF error: syntax error: cannot load shading function (1108 0 R)\n",
      "\n",
      "MuPDF error: syntax error: cannot load shading function (1109 0 R)\n",
      "\n",
      "MuPDF error: syntax error: cannot load shading function (1110 0 R)\n",
      "\n",
      "MuPDF error: syntax error: cannot load shading function (1111 0 R)\n",
      "\n",
      "MuPDF error: syntax error: cannot load shading function (1112 0 R)\n",
      "\n",
      "MuPDF error: syntax error: cannot load shading function (1113 0 R)\n",
      "\n",
      "MuPDF error: syntax error: cannot load shading function (1114 0 R)\n",
      "\n",
      "MuPDF error: syntax error: cannot load shading function (1115 0 R)\n",
      "\n",
      "MuPDF error: syntax error: cannot load shading function (1116 0 R)\n",
      "\n",
      "MuPDF error: syntax error: cannot load shading function (1117 0 R)\n",
      "\n",
      "MuPDF error: syntax error: cannot load shading function (1118 0 R)\n",
      "\n",
      "MuPDF error: syntax error: cannot load shading function (1119 0 R)\n",
      "\n",
      "MuPDF error: syntax error: cannot load shading function (1120 0 R)\n",
      "\n",
      "MuPDF error: syntax error: cannot load shading function (1121 0 R)\n",
      "\n",
      "MuPDF error: syntax error: cannot load shading function (1122 0 R)\n",
      "\n",
      "MuPDF error: syntax error: cannot load shading function (1123 0 R)\n",
      "\n",
      "MuPDF error: syntax error: cannot load shading function (1124 0 R)\n",
      "\n",
      "MuPDF error: syntax error: cannot load shading function (1125 0 R)\n",
      "\n",
      "MuPDF error: syntax error: cannot load shading function (1126 0 R)\n",
      "\n",
      "MuPDF error: syntax error: cannot load shading function (1127 0 R)\n",
      "\n",
      "MuPDF error: syntax error: cannot load shading function (1128 0 R)\n",
      "\n",
      "MuPDF error: syntax error: cannot load shading function (1129 0 R)\n",
      "\n",
      "MuPDF error: syntax error: cannot load shading function (1130 0 R)\n",
      "\n",
      "MuPDF error: syntax error: cannot load shading function (1131 0 R)\n",
      "\n",
      "MuPDF error: syntax error: cannot load shading function (1132 0 R)\n",
      "\n",
      "MuPDF error: syntax error: cannot load shading function (1133 0 R)\n",
      "\n",
      "MuPDF error: syntax error: cannot load shading function (1134 0 R)\n",
      "\n",
      "MuPDF error: syntax error: cannot load shading function (1135 0 R)\n",
      "\n",
      "MuPDF error: syntax error: cannot load shading function (1136 0 R)\n",
      "\n",
      "MuPDF error: syntax error: cannot load shading function (1137 0 R)\n",
      "\n",
      "MuPDF error: syntax error: cannot load shading function (1138 0 R)\n",
      "\n",
      "MuPDF error: syntax error: cannot load shading function (1139 0 R)\n",
      "\n",
      "MuPDF error: syntax error: cannot load shading function (1140 0 R)\n",
      "\n",
      "MuPDF error: syntax error: cannot load shading function (1141 0 R)\n",
      "\n",
      "MuPDF error: syntax error: cannot load shading function (1142 0 R)\n",
      "\n",
      "MuPDF error: syntax error: cannot load shading function (1143 0 R)\n",
      "\n",
      "MuPDF error: syntax error: cannot load shading function (1144 0 R)\n",
      "\n",
      "MuPDF error: syntax error: cannot load shading function (1145 0 R)\n",
      "\n",
      "MuPDF error: syntax error: cannot load shading function (1146 0 R)\n",
      "\n",
      "MuPDF error: syntax error: cannot load shading function (1147 0 R)\n",
      "\n",
      "MuPDF error: syntax error: cannot load shading function (1148 0 R)\n",
      "\n",
      "MuPDF error: syntax error: cannot load shading function (1149 0 R)\n",
      "\n",
      "MuPDF error: syntax error: cannot load shading function (1150 0 R)\n",
      "\n",
      "MuPDF error: syntax error: cannot load shading function (1151 0 R)\n",
      "\n",
      "MuPDF error: syntax error: cannot load shading function (1152 0 R)\n",
      "\n",
      "MuPDF error: syntax error: cannot load shading function (1153 0 R)\n",
      "\n",
      "MuPDF error: syntax error: cannot load shading function (1154 0 R)\n",
      "\n",
      "MuPDF error: syntax error: cannot load shading function (1155 0 R)\n",
      "\n",
      "MuPDF error: syntax error: cannot load shading function (1156 0 R)\n",
      "\n",
      "MuPDF error: syntax error: cannot load shading function (1157 0 R)\n",
      "\n",
      "MuPDF error: syntax error: cannot load shading function (1158 0 R)\n",
      "\n",
      "MuPDF error: syntax error: cannot load shading function (1159 0 R)\n",
      "\n",
      "MuPDF error: syntax error: cannot load shading function (1160 0 R)\n",
      "\n",
      "MuPDF error: syntax error: cannot load shading function (1161 0 R)\n",
      "\n",
      "MuPDF error: syntax error: cannot load shading function (1162 0 R)\n",
      "\n",
      "MuPDF error: syntax error: cannot load shading function (1163 0 R)\n",
      "\n",
      "MuPDF error: syntax error: cannot load shading function (1164 0 R)\n",
      "\n",
      "MuPDF error: syntax error: cannot load shading function (1165 0 R)\n",
      "\n",
      "MuPDF error: syntax error: cannot load shading function (1166 0 R)\n",
      "\n",
      "MuPDF error: syntax error: cannot load shading function (1167 0 R)\n",
      "\n",
      "MuPDF error: syntax error: cannot load shading function (1168 0 R)\n",
      "\n",
      "MuPDF error: syntax error: cannot load shading function (1169 0 R)\n",
      "\n",
      "MuPDF error: syntax error: cannot load shading function (1170 0 R)\n",
      "\n",
      "MuPDF error: syntax error: cannot load shading function (1171 0 R)\n",
      "\n",
      "MuPDF error: syntax error: cannot load shading function (1172 0 R)\n",
      "\n",
      "MuPDF error: syntax error: cannot load shading function (1173 0 R)\n",
      "\n",
      "MuPDF error: syntax error: cannot load shading function (1174 0 R)\n",
      "\n",
      "MuPDF error: syntax error: cannot load shading function (1175 0 R)\n",
      "\n",
      "MuPDF error: syntax error: cannot load shading function (1176 0 R)\n",
      "\n",
      "MuPDF error: syntax error: cannot load shading function (1177 0 R)\n",
      "\n",
      "MuPDF error: syntax error: cannot load shading function (1178 0 R)\n",
      "\n",
      "MuPDF error: syntax error: cannot load shading function (1179 0 R)\n",
      "\n",
      "MuPDF error: syntax error: cannot load shading function (1180 0 R)\n",
      "\n",
      "MuPDF error: syntax error: cannot load shading function (1181 0 R)\n",
      "\n",
      "MuPDF error: syntax error: cannot load shading function (1182 0 R)\n",
      "\n",
      "MuPDF error: syntax error: cannot load shading function (1183 0 R)\n",
      "\n",
      "MuPDF error: syntax error: cannot load shading function (1184 0 R)\n",
      "\n",
      "MuPDF error: syntax error: cannot load shading function (1185 0 R)\n",
      "\n"
     ]
    },
    {
     "name": "stderr",
     "output_type": "stream",
     "text": []
    },
    {
     "name": "stdout",
     "output_type": "stream",
     "text": [
      "MuPDF error: syntax error: too few sample function dimension sizes\n",
      "\n",
      "MuPDF error: syntax error: too few sample function dimension sizes\n",
      "\n",
      "MuPDF error: syntax error: too few sample function dimension sizes\n",
      "\n",
      "MuPDF error: syntax error: too few sample function dimension sizes\n",
      "\n",
      "MuPDF error: syntax error: too few sample function dimension sizes\n",
      "\n",
      "MuPDF error: syntax error: too few sample function dimension sizes\n",
      "\n",
      "MuPDF error: syntax error: too few sample function dimension sizes\n",
      "\n",
      "MuPDF error: syntax error: too few sample function dimension sizes\n",
      "\n",
      "MuPDF error: syntax error: too few sample function dimension sizes\n",
      "\n",
      "MuPDF error: syntax error: too few sample function dimension sizes\n",
      "\n"
     ]
    },
    {
     "name": "stderr",
     "output_type": "stream",
     "text": []
    },
    {
     "name": "stdout",
     "output_type": "stream",
     "text": [
      "MuPDF error: syntax error: too few sample function dimension sizes\n",
      "\n",
      "MuPDF error: syntax error: too few sample function dimension sizes\n",
      "\n",
      "MuPDF error: syntax error: too few sample function dimension sizes\n",
      "\n",
      "MuPDF error: syntax error: too few sample function dimension sizes\n",
      "\n",
      "MuPDF error: syntax error: too few sample function dimension sizes\n",
      "\n",
      "MuPDF error: syntax error: too few sample function dimension sizes\n",
      "\n"
     ]
    },
    {
     "name": "stderr",
     "output_type": "stream",
     "text": []
    },
    {
     "name": "stdout",
     "output_type": "stream",
     "text": [
      "MuPDF error: syntax error: too few sample function dimension sizes\n",
      "\n",
      "MuPDF error: syntax error: too few sample function dimension sizes\n",
      "\n",
      "MuPDF error: syntax error: too few sample function dimension sizes\n",
      "\n",
      "MuPDF error: syntax error: too few sample function dimension sizes\n",
      "\n",
      "MuPDF error: syntax error: too few sample function dimension sizes\n",
      "\n",
      "MuPDF error: syntax error: too few sample function dimension sizes\n",
      "\n",
      "MuPDF error: syntax error: too few sample function dimension sizes\n",
      "\n",
      "MuPDF error: syntax error: too few sample function dimension sizes\n",
      "\n",
      "MuPDF error: syntax error: too few sample function dimension sizes\n",
      "\n",
      "MuPDF error: syntax error: too few sample function dimension sizes\n",
      "\n",
      "MuPDF error: syntax error: too few sample function dimension sizes\n",
      "\n",
      "MuPDF error: syntax error: too few sample function dimension sizes\n",
      "\n",
      "MuPDF error: syntax error: too few sample function dimension sizes\n",
      "\n",
      "MuPDF error: syntax error: too few sample function dimension sizes\n",
      "\n",
      "MuPDF error: syntax error: too few sample function dimension sizes\n",
      "\n"
     ]
    },
    {
     "name": "stderr",
     "output_type": "stream",
     "text": []
    },
    {
     "name": "stdout",
     "output_type": "stream",
     "text": [
      "MuPDF error: syntax error: too few sample function dimension sizes\n",
      "\n",
      "MuPDF error: syntax error: too few sample function dimension sizes\n",
      "\n",
      "MuPDF error: syntax error: too few sample function dimension sizes\n",
      "\n",
      "MuPDF error: syntax error: too few sample function dimension sizes\n",
      "\n",
      "MuPDF error: syntax error: too few sample function dimension sizes\n",
      "\n",
      "MuPDF error: syntax error: too few sample function dimension sizes\n",
      "\n",
      "MuPDF error: syntax error: too few sample function dimension sizes\n",
      "\n",
      "MuPDF error: syntax error: too few sample function dimension sizes\n",
      "\n",
      "MuPDF error: syntax error: too few sample function dimension sizes\n",
      "\n",
      "MuPDF error: syntax error: too few sample function dimension sizes\n",
      "\n",
      "MuPDF error: syntax error: too few sample function dimension sizes\n",
      "\n",
      "MuPDF error: syntax error: too few sample function dimension sizes\n",
      "\n",
      "MuPDF error: syntax error: too few sample function dimension sizes\n",
      "\n",
      "MuPDF error: syntax error: too few sample function dimension sizes\n",
      "\n",
      "MuPDF error: syntax error: too few sample function dimension sizes\n",
      "\n"
     ]
    },
    {
     "name": "stderr",
     "output_type": "stream",
     "text": []
    },
    {
     "name": "stdout",
     "output_type": "stream",
     "text": [
      "MuPDF error: syntax error: too few sample function dimension sizes\n",
      "\n",
      "MuPDF error: syntax error: too few sample function dimension sizes\n",
      "\n",
      "MuPDF error: syntax error: too few sample function dimension sizes\n",
      "\n",
      "MuPDF error: syntax error: too few sample function dimension sizes\n",
      "\n",
      "MuPDF error: syntax error: too few sample function dimension sizes\n",
      "\n",
      "MuPDF error: syntax error: too few sample function dimension sizes\n",
      "\n",
      "MuPDF error: syntax error: too few sample function dimension sizes\n",
      "\n",
      "MuPDF error: syntax error: too few sample function dimension sizes\n",
      "\n",
      "MuPDF error: syntax error: too few sample function dimension sizes\n",
      "\n",
      "MuPDF error: syntax error: too few sample function dimension sizes\n",
      "\n",
      "MuPDF error: syntax error: too few sample function dimension sizes\n",
      "\n"
     ]
    },
    {
     "name": "stderr",
     "output_type": "stream",
     "text": []
    },
    {
     "name": "stdout",
     "output_type": "stream",
     "text": [
      "MuPDF error: syntax error: too few sample function dimension sizes\n",
      "\n",
      "MuPDF error: syntax error: too few sample function dimension sizes\n",
      "\n",
      "MuPDF error: syntax error: too few sample function dimension sizes\n",
      "\n",
      "MuPDF error: syntax error: too few sample function dimension sizes\n",
      "\n",
      "MuPDF error: syntax error: too few sample function dimension sizes\n",
      "\n",
      "MuPDF error: syntax error: too few sample function dimension sizes\n",
      "\n",
      "MuPDF error: syntax error: too few sample function dimension sizes\n",
      "\n",
      "MuPDF error: syntax error: too few sample function dimension sizes\n",
      "\n",
      "MuPDF error: syntax error: too few sample function dimension sizes\n",
      "\n",
      "MuPDF error: syntax error: too few sample function dimension sizes\n",
      "\n",
      "MuPDF error: syntax error: too few sample function dimension sizes\n",
      "\n"
     ]
    },
    {
     "name": "stderr",
     "output_type": "stream",
     "text": []
    },
    {
     "name": "stdout",
     "output_type": "stream",
     "text": [
      "MuPDF error: syntax error: too few sample function dimension sizes\n",
      "\n",
      "MuPDF error: syntax error: too few sample function dimension sizes\n",
      "\n",
      "MuPDF error: syntax error: too few sample function dimension sizes\n",
      "\n",
      "MuPDF error: syntax error: too few sample function dimension sizes\n",
      "\n",
      "MuPDF error: syntax error: too few sample function dimension sizes\n",
      "\n",
      "MuPDF error: syntax error: too few sample function dimension sizes\n",
      "\n",
      "MuPDF error: syntax error: too few sample function dimension sizes\n",
      "\n",
      "MuPDF error: syntax error: too few sample function dimension sizes\n",
      "\n",
      "MuPDF error: syntax error: too few sample function dimension sizes\n",
      "\n",
      "MuPDF error: syntax error: too few sample function dimension sizes\n",
      "\n",
      "MuPDF error: syntax error: too few sample function dimension sizes\n",
      "\n"
     ]
    },
    {
     "name": "stderr",
     "output_type": "stream",
     "text": []
    },
    {
     "name": "stdout",
     "output_type": "stream",
     "text": [
      "MuPDF error: syntax error: too few sample function dimension sizes\n",
      "\n",
      "MuPDF error: syntax error: too few sample function dimension sizes\n",
      "\n",
      "MuPDF error: syntax error: too few sample function dimension sizes\n",
      "\n",
      "MuPDF error: syntax error: too few sample function dimension sizes\n",
      "\n",
      "MuPDF error: syntax error: too few sample function dimension sizes\n",
      "\n",
      "MuPDF error: syntax error: too few sample function dimension sizes\n",
      "\n",
      "MuPDF error: syntax error: too few sample function dimension sizes\n",
      "\n",
      "MuPDF error: syntax error: too few sample function dimension sizes\n",
      "\n",
      "MuPDF error: syntax error: too few sample function dimension sizes\n",
      "\n",
      "MuPDF error: syntax error: too few sample function dimension sizes\n",
      "\n",
      "MuPDF error: syntax error: too few sample function dimension sizes\n",
      "\n",
      "MuPDF error: syntax error: too few sample function dimension sizes\n",
      "\n"
     ]
    },
    {
     "name": "stderr",
     "output_type": "stream",
     "text": []
    },
    {
     "name": "stdout",
     "output_type": "stream",
     "text": [
      "MuPDF error: syntax error: too few sample function dimension sizes\n",
      "\n",
      "MuPDF error: syntax error: too few sample function dimension sizes\n",
      "\n",
      "MuPDF error: syntax error: too few sample function dimension sizes\n",
      "\n",
      "MuPDF error: syntax error: too few sample function dimension sizes\n",
      "\n",
      "MuPDF error: syntax error: too few sample function dimension sizes\n",
      "\n",
      "MuPDF error: syntax error: too few sample function dimension sizes\n",
      "\n",
      "MuPDF error: syntax error: too few sample function dimension sizes\n",
      "\n",
      "MuPDF error: syntax error: too few sample function dimension sizes\n",
      "\n",
      "MuPDF error: syntax error: too few sample function dimension sizes\n",
      "\n"
     ]
    },
    {
     "name": "stderr",
     "output_type": "stream",
     "text": []
    },
    {
     "name": "stdout",
     "output_type": "stream",
     "text": [
      "MuPDF error: syntax error: too few sample function dimension sizes\n",
      "\n",
      "MuPDF error: syntax error: too few sample function dimension sizes\n",
      "\n",
      "MuPDF error: syntax error: too few sample function dimension sizes\n",
      "\n",
      "MuPDF error: syntax error: too few sample function dimension sizes\n",
      "\n",
      "MuPDF error: syntax error: too few sample function dimension sizes\n",
      "\n",
      "MuPDF error: syntax error: too few sample function dimension sizes\n",
      "\n",
      "MuPDF error: syntax error: too few sample function dimension sizes\n",
      "\n",
      "MuPDF error: syntax error: too few sample function dimension sizes\n",
      "\n",
      "MuPDF error: syntax error: too few sample function dimension sizes\n",
      "\n",
      "MuPDF error: syntax error: too few sample function dimension sizes\n",
      "\n",
      "MuPDF error: syntax error: too few sample function dimension sizes\n",
      "\n",
      "MuPDF error: syntax error: too few sample function dimension sizes\n",
      "\n",
      "MuPDF error: syntax error: too few sample function dimension sizes\n",
      "\n",
      "MuPDF error: syntax error: too few sample function dimension sizes\n",
      "\n",
      "MuPDF error: syntax error: too few sample function dimension sizes\n",
      "\n",
      "MuPDF error: syntax error: too few sample function dimension sizes\n",
      "\n"
     ]
    },
    {
     "name": "stderr",
     "output_type": "stream",
     "text": []
    },
    {
     "name": "stdout",
     "output_type": "stream",
     "text": [
      "MuPDF error: syntax error: too few sample function dimension sizes\n",
      "\n",
      "MuPDF error: syntax error: too few sample function dimension sizes\n",
      "\n",
      "MuPDF error: syntax error: too few sample function dimension sizes\n",
      "\n",
      "MuPDF error: syntax error: too few sample function dimension sizes\n",
      "\n",
      "MuPDF error: syntax error: too few sample function dimension sizes\n",
      "\n",
      "MuPDF error: syntax error: too few sample function dimension sizes\n",
      "\n",
      "MuPDF error: syntax error: too few sample function dimension sizes\n",
      "\n",
      "MuPDF error: syntax error: too few sample function dimension sizes\n",
      "\n",
      "MuPDF error: syntax error: too few sample function dimension sizes\n",
      "\n",
      "MuPDF error: syntax error: too few sample function dimension sizes\n",
      "\n",
      "MuPDF error: syntax error: too few sample function dimension sizes\n",
      "\n",
      "MuPDF error: syntax error: too few sample function dimension sizes\n",
      "\n",
      "MuPDF error: syntax error: too few sample function dimension sizes\n",
      "\n"
     ]
    },
    {
     "name": "stderr",
     "output_type": "stream",
     "text": []
    },
    {
     "name": "stdout",
     "output_type": "stream",
     "text": [
      "MuPDF error: syntax error: too few sample function dimension sizes\n",
      "\n",
      "MuPDF error: syntax error: too few sample function dimension sizes\n",
      "\n",
      "MuPDF error: syntax error: too few sample function dimension sizes\n",
      "\n",
      "MuPDF error: syntax error: too few sample function dimension sizes\n",
      "\n",
      "MuPDF error: syntax error: too few sample function dimension sizes\n",
      "\n",
      "MuPDF error: syntax error: too few sample function dimension sizes\n",
      "\n",
      "MuPDF error: syntax error: too few sample function dimension sizes\n",
      "\n",
      "MuPDF error: syntax error: too few sample function dimension sizes\n",
      "\n",
      "MuPDF error: syntax error: too few sample function dimension sizes\n",
      "\n",
      "MuPDF error: syntax error: too few sample function dimension sizes\n",
      "\n",
      "MuPDF error: syntax error: too few sample function dimension sizes\n",
      "\n",
      "MuPDF error: syntax error: too few sample function dimension sizes\n",
      "\n",
      "MuPDF error: syntax error: too few sample function dimension sizes\n",
      "\n",
      "MuPDF error: syntax error: too few sample function dimension sizes\n",
      "\n",
      "MuPDF error: syntax error: too few sample function dimension sizes\n",
      "\n"
     ]
    },
    {
     "name": "stderr",
     "output_type": "stream",
     "text": []
    },
    {
     "name": "stdout",
     "output_type": "stream",
     "text": [
      "MuPDF error: syntax error: too few sample function dimension sizes\n",
      "\n",
      "MuPDF error: syntax error: too few sample function dimension sizes\n",
      "\n",
      "MuPDF error: syntax error: too few sample function dimension sizes\n",
      "\n",
      "MuPDF error: syntax error: too few sample function dimension sizes\n",
      "\n",
      "MuPDF error: syntax error: too few sample function dimension sizes\n",
      "\n",
      "MuPDF error: syntax error: too few sample function dimension sizes\n",
      "\n",
      "MuPDF error: syntax error: too few sample function dimension sizes\n",
      "\n",
      "MuPDF error: syntax error: too few sample function dimension sizes\n",
      "\n",
      "MuPDF error: syntax error: too few sample function dimension sizes\n",
      "\n",
      "MuPDF error: syntax error: too few sample function dimension sizes\n",
      "\n",
      "MuPDF error: syntax error: too few sample function dimension sizes\n",
      "\n",
      "MuPDF error: syntax error: too few sample function dimension sizes\n",
      "\n",
      "MuPDF error: syntax error: too few sample function dimension sizes\n",
      "\n",
      "MuPDF error: syntax error: too few sample function dimension sizes\n",
      "\n",
      "MuPDF error: syntax error: too few sample function dimension sizes\n",
      "\n",
      "MuPDF error: syntax error: too few sample function dimension sizes\n",
      "\n"
     ]
    },
    {
     "name": "stderr",
     "output_type": "stream",
     "text": []
    },
    {
     "name": "stdout",
     "output_type": "stream",
     "text": [
      "MuPDF error: syntax error: too few sample function dimension sizes\n",
      "\n",
      "MuPDF error: syntax error: too few sample function dimension sizes\n",
      "\n",
      "MuPDF error: syntax error: too few sample function dimension sizes\n",
      "\n",
      "MuPDF error: syntax error: too few sample function dimension sizes\n",
      "\n",
      "MuPDF error: syntax error: too few sample function dimension sizes\n",
      "\n",
      "MuPDF error: syntax error: too few sample function dimension sizes\n",
      "\n",
      "MuPDF error: syntax error: too few sample function dimension sizes\n",
      "\n",
      "MuPDF error: syntax error: too few sample function dimension sizes\n",
      "\n",
      "MuPDF error: syntax error: too few sample function dimension sizes\n",
      "\n",
      "MuPDF error: syntax error: too few sample function dimension sizes\n",
      "\n",
      "MuPDF error: syntax error: too few sample function dimension sizes\n",
      "\n",
      "MuPDF error: syntax error: too few sample function dimension sizes\n",
      "\n",
      "MuPDF error: syntax error: too few sample function dimension sizes\n",
      "\n"
     ]
    },
    {
     "name": "stderr",
     "output_type": "stream",
     "text": []
    },
    {
     "name": "stdout",
     "output_type": "stream",
     "text": [
      "MuPDF error: syntax error: too few sample function dimension sizes\n",
      "\n",
      "MuPDF error: syntax error: too few sample function dimension sizes\n",
      "\n",
      "MuPDF error: syntax error: too few sample function dimension sizes\n",
      "\n",
      "MuPDF error: syntax error: too few sample function dimension sizes\n",
      "\n",
      "MuPDF error: syntax error: too few sample function dimension sizes\n",
      "\n",
      "MuPDF error: syntax error: too few sample function dimension sizes\n",
      "\n",
      "MuPDF error: syntax error: too few sample function dimension sizes\n",
      "\n",
      "MuPDF error: syntax error: too few sample function dimension sizes\n",
      "\n",
      "MuPDF error: syntax error: too few sample function dimension sizes\n",
      "\n",
      "MuPDF error: syntax error: too few sample function dimension sizes\n",
      "\n",
      "MuPDF error: syntax error: too few sample function dimension sizes\n",
      "\n",
      "MuPDF error: syntax error: too few sample function dimension sizes\n",
      "\n"
     ]
    },
    {
     "name": "stderr",
     "output_type": "stream",
     "text": []
    },
    {
     "name": "stdout",
     "output_type": "stream",
     "text": [
      "MuPDF error: syntax error: too few sample function dimension sizes\n",
      "\n",
      "MuPDF error: syntax error: too few sample function dimension sizes\n",
      "\n",
      "MuPDF error: syntax error: too few sample function dimension sizes\n",
      "\n",
      "MuPDF error: syntax error: too few sample function dimension sizes\n",
      "\n",
      "MuPDF error: syntax error: too few sample function dimension sizes\n",
      "\n",
      "MuPDF error: syntax error: too few sample function dimension sizes\n",
      "\n",
      "MuPDF error: syntax error: too few sample function dimension sizes\n",
      "\n",
      "MuPDF error: syntax error: too few sample function dimension sizes\n",
      "\n",
      "MuPDF error: syntax error: too few sample function dimension sizes\n",
      "\n",
      "MuPDF error: syntax error: too few sample function dimension sizes\n",
      "\n",
      "MuPDF error: syntax error: too few sample function dimension sizes\n",
      "\n",
      "MuPDF error: syntax error: too few sample function dimension sizes\n",
      "\n",
      "MuPDF error: syntax error: too few sample function dimension sizes\n",
      "\n"
     ]
    },
    {
     "name": "stderr",
     "output_type": "stream",
     "text": []
    },
    {
     "name": "stdout",
     "output_type": "stream",
     "text": [
      "MuPDF error: syntax error: too few sample function dimension sizes\n",
      "\n",
      "MuPDF error: syntax error: too few sample function dimension sizes\n",
      "\n",
      "MuPDF error: syntax error: too few sample function dimension sizes\n",
      "\n",
      "MuPDF error: syntax error: too few sample function dimension sizes\n",
      "\n",
      "MuPDF error: syntax error: too few sample function dimension sizes\n",
      "\n",
      "MuPDF error: syntax error: too few sample function dimension sizes\n",
      "\n",
      "MuPDF error: syntax error: too few sample function dimension sizes\n",
      "\n",
      "MuPDF error: syntax error: too few sample function dimension sizes\n",
      "\n",
      "MuPDF error: syntax error: too few sample function dimension sizes\n",
      "\n"
     ]
    },
    {
     "name": "stderr",
     "output_type": "stream",
     "text": []
    },
    {
     "name": "stdout",
     "output_type": "stream",
     "text": [
      "MuPDF error: syntax error: too few sample function dimension sizes\n",
      "\n",
      "MuPDF error: syntax error: too few sample function dimension sizes\n",
      "\n",
      "MuPDF error: syntax error: too few sample function dimension sizes\n",
      "\n",
      "MuPDF error: syntax error: too few sample function dimension sizes\n",
      "\n",
      "MuPDF error: syntax error: too few sample function dimension sizes\n",
      "\n",
      "MuPDF error: syntax error: too few sample function dimension sizes\n",
      "\n",
      "MuPDF error: syntax error: too few sample function dimension sizes\n",
      "\n",
      "MuPDF error: syntax error: too few sample function dimension sizes\n",
      "\n",
      "MuPDF error: syntax error: too few sample function dimension sizes\n",
      "\n",
      "MuPDF error: syntax error: too few sample function dimension sizes\n",
      "\n",
      "MuPDF error: syntax error: too few sample function dimension sizes\n",
      "\n",
      "MuPDF error: syntax error: too few sample function dimension sizes\n",
      "\n"
     ]
    },
    {
     "name": "stderr",
     "output_type": "stream",
     "text": []
    },
    {
     "name": "stdout",
     "output_type": "stream",
     "text": [
      "MuPDF error: syntax error: too few sample function dimension sizes\n",
      "\n",
      "MuPDF error: syntax error: too few sample function dimension sizes\n",
      "\n",
      "MuPDF error: syntax error: too few sample function dimension sizes\n",
      "\n",
      "MuPDF error: syntax error: too few sample function dimension sizes\n",
      "\n",
      "MuPDF error: syntax error: too few sample function dimension sizes\n",
      "\n",
      "MuPDF error: syntax error: too few sample function dimension sizes\n",
      "\n",
      "MuPDF error: syntax error: too few sample function dimension sizes\n",
      "\n",
      "MuPDF error: syntax error: too few sample function dimension sizes\n",
      "\n",
      "MuPDF error: syntax error: too few sample function dimension sizes\n",
      "\n",
      "MuPDF error: syntax error: too few sample function dimension sizes\n",
      "\n",
      "MuPDF error: syntax error: too few sample function dimension sizes\n",
      "\n"
     ]
    },
    {
     "name": "stderr",
     "output_type": "stream",
     "text": []
    },
    {
     "name": "stdout",
     "output_type": "stream",
     "text": [
      "MuPDF error: syntax error: too few sample function dimension sizes\n",
      "\n",
      "MuPDF error: syntax error: too few sample function dimension sizes\n",
      "\n",
      "MuPDF error: syntax error: too few sample function dimension sizes\n",
      "\n",
      "MuPDF error: syntax error: too few sample function dimension sizes\n",
      "\n",
      "MuPDF error: syntax error: too few sample function dimension sizes\n",
      "\n",
      "MuPDF error: syntax error: too few sample function dimension sizes\n",
      "\n",
      "MuPDF error: syntax error: too few sample function dimension sizes\n",
      "\n",
      "MuPDF error: syntax error: too few sample function dimension sizes\n",
      "\n",
      "MuPDF error: syntax error: too few sample function dimension sizes\n",
      "\n",
      "MuPDF error: syntax error: too few sample function dimension sizes\n",
      "\n",
      "MuPDF error: syntax error: too few sample function dimension sizes\n",
      "\n",
      "MuPDF error: syntax error: too few sample function dimension sizes\n",
      "\n",
      "MuPDF error: syntax error: too few sample function dimension sizes\n",
      "\n",
      "MuPDF error: syntax error: too few sample function dimension sizes\n",
      "\n"
     ]
    },
    {
     "name": "stderr",
     "output_type": "stream",
     "text": []
    },
    {
     "name": "stdout",
     "output_type": "stream",
     "text": [
      "MuPDF error: syntax error: too few sample function dimension sizes\n",
      "\n",
      "MuPDF error: syntax error: too few sample function dimension sizes\n",
      "\n",
      "MuPDF error: syntax error: too few sample function dimension sizes\n",
      "\n",
      "MuPDF error: syntax error: too few sample function dimension sizes\n",
      "\n",
      "MuPDF error: syntax error: too few sample function dimension sizes\n",
      "\n",
      "MuPDF error: syntax error: too few sample function dimension sizes\n",
      "\n",
      "MuPDF error: syntax error: too few sample function dimension sizes\n",
      "\n",
      "MuPDF error: syntax error: too few sample function dimension sizes\n",
      "\n",
      "MuPDF error: syntax error: too few sample function dimension sizes\n",
      "\n",
      "MuPDF error: syntax error: too few sample function dimension sizes\n",
      "\n",
      "MuPDF error: syntax error: too few sample function dimension sizes\n",
      "\n"
     ]
    },
    {
     "name": "stderr",
     "output_type": "stream",
     "text": []
    },
    {
     "name": "stdout",
     "output_type": "stream",
     "text": [
      "MuPDF error: syntax error: too few sample function dimension sizes\n",
      "\n",
      "MuPDF error: syntax error: too few sample function dimension sizes\n",
      "\n",
      "MuPDF error: syntax error: too few sample function dimension sizes\n",
      "\n",
      "MuPDF error: syntax error: too few sample function dimension sizes\n",
      "\n",
      "MuPDF error: syntax error: too few sample function dimension sizes\n",
      "\n",
      "MuPDF error: syntax error: too few sample function dimension sizes\n",
      "\n",
      "MuPDF error: syntax error: too few sample function dimension sizes\n",
      "\n",
      "MuPDF error: syntax error: too few sample function dimension sizes\n",
      "\n",
      "MuPDF error: syntax error: too few sample function dimension sizes\n",
      "\n",
      "MuPDF error: syntax error: too few sample function dimension sizes\n",
      "\n",
      "MuPDF error: syntax error: too few sample function dimension sizes\n",
      "\n",
      "MuPDF error: syntax error: too few sample function dimension sizes\n",
      "\n",
      "MuPDF error: syntax error: too few sample function dimension sizes\n",
      "\n",
      "MuPDF error: syntax error: too few sample function dimension sizes\n",
      "\n",
      "MuPDF error: syntax error: too few sample function dimension sizes\n",
      "\n",
      "MuPDF error: syntax error: too few sample function dimension sizes\n",
      "\n"
     ]
    },
    {
     "name": "stderr",
     "output_type": "stream",
     "text": []
    },
    {
     "name": "stdout",
     "output_type": "stream",
     "text": [
      "MuPDF error: syntax error: too few sample function dimension sizes\n",
      "\n",
      "MuPDF error: syntax error: too few sample function dimension sizes\n",
      "\n",
      "MuPDF error: syntax error: too few sample function dimension sizes\n",
      "\n",
      "MuPDF error: syntax error: too few sample function dimension sizes\n",
      "\n",
      "MuPDF error: syntax error: too few sample function dimension sizes\n",
      "\n",
      "MuPDF error: syntax error: too few sample function dimension sizes\n",
      "\n",
      "MuPDF error: syntax error: too few sample function dimension sizes\n",
      "\n",
      "MuPDF error: syntax error: too few sample function dimension sizes\n",
      "\n",
      "MuPDF error: syntax error: too few sample function dimension sizes\n",
      "\n",
      "MuPDF error: syntax error: too few sample function dimension sizes\n",
      "\n",
      "MuPDF error: syntax error: too few sample function dimension sizes\n",
      "\n"
     ]
    },
    {
     "name": "stderr",
     "output_type": "stream",
     "text": []
    },
    {
     "name": "stdout",
     "output_type": "stream",
     "text": [
      "MuPDF error: syntax error: too few sample function dimension sizes\n",
      "\n",
      "MuPDF error: syntax error: too few sample function dimension sizes\n",
      "\n",
      "MuPDF error: syntax error: too few sample function dimension sizes\n",
      "\n",
      "MuPDF error: syntax error: too few sample function dimension sizes\n",
      "\n",
      "MuPDF error: syntax error: too few sample function dimension sizes\n",
      "\n",
      "MuPDF error: syntax error: too few sample function dimension sizes\n",
      "\n",
      "MuPDF error: syntax error: too few sample function dimension sizes\n",
      "\n",
      "MuPDF error: syntax error: too few sample function dimension sizes\n",
      "\n",
      "MuPDF error: syntax error: too few sample function dimension sizes\n",
      "\n",
      "MuPDF error: syntax error: too few sample function dimension sizes\n",
      "\n",
      "MuPDF error: syntax error: too few sample function dimension sizes\n",
      "\n",
      "MuPDF error: syntax error: too few sample function dimension sizes\n",
      "\n",
      "MuPDF error: syntax error: too few sample function dimension sizes\n",
      "\n",
      "MuPDF error: syntax error: too few sample function dimension sizes\n",
      "\n",
      "MuPDF error: syntax error: too few sample function dimension sizes\n",
      "\n",
      "MuPDF error: syntax error: too few sample function dimension sizes\n",
      "\n"
     ]
    },
    {
     "name": "stderr",
     "output_type": "stream",
     "text": []
    },
    {
     "name": "stdout",
     "output_type": "stream",
     "text": [
      "MuPDF error: syntax error: too few sample function dimension sizes\n",
      "\n",
      "MuPDF error: syntax error: too few sample function dimension sizes\n",
      "\n",
      "MuPDF error: syntax error: too few sample function dimension sizes\n",
      "\n",
      "MuPDF error: syntax error: too few sample function dimension sizes\n",
      "\n",
      "MuPDF error: syntax error: too few sample function dimension sizes\n",
      "\n",
      "MuPDF error: syntax error: too few sample function dimension sizes\n",
      "\n",
      "MuPDF error: syntax error: too few sample function dimension sizes\n",
      "\n",
      "MuPDF error: syntax error: too few sample function dimension sizes\n",
      "\n",
      "MuPDF error: syntax error: too few sample function dimension sizes\n",
      "\n"
     ]
    },
    {
     "name": "stderr",
     "output_type": "stream",
     "text": []
    },
    {
     "name": "stdout",
     "output_type": "stream",
     "text": [
      "MuPDF error: syntax error: too few sample function dimension sizes\n",
      "\n",
      "MuPDF error: syntax error: too few sample function dimension sizes\n",
      "\n",
      "MuPDF error: syntax error: too few sample function dimension sizes\n",
      "\n",
      "MuPDF error: syntax error: too few sample function dimension sizes\n",
      "\n",
      "MuPDF error: syntax error: too few sample function dimension sizes\n",
      "\n",
      "MuPDF error: syntax error: too few sample function dimension sizes\n",
      "\n",
      "MuPDF error: syntax error: too few sample function dimension sizes\n",
      "\n",
      "MuPDF error: syntax error: too few sample function dimension sizes\n",
      "\n",
      "MuPDF error: syntax error: too few sample function dimension sizes\n",
      "\n",
      "MuPDF error: syntax error: too few sample function dimension sizes\n",
      "\n",
      "MuPDF error: syntax error: too few sample function dimension sizes\n",
      "\n",
      "MuPDF error: syntax error: too few sample function dimension sizes\n",
      "\n",
      "MuPDF error: syntax error: too few sample function dimension sizes\n",
      "\n",
      "MuPDF error: syntax error: too few sample function dimension sizes\n",
      "\n",
      "MuPDF error: syntax error: too few sample function dimension sizes\n",
      "\n",
      "MuPDF error: syntax error: too few sample function dimension sizes\n",
      "\n"
     ]
    },
    {
     "name": "stderr",
     "output_type": "stream",
     "text": []
    },
    {
     "name": "stdout",
     "output_type": "stream",
     "text": [
      "MuPDF error: syntax error: too few sample function dimension sizes\n",
      "\n",
      "MuPDF error: syntax error: too few sample function dimension sizes\n",
      "\n",
      "MuPDF error: syntax error: too few sample function dimension sizes\n",
      "\n",
      "MuPDF error: syntax error: too few sample function dimension sizes\n",
      "\n",
      "MuPDF error: syntax error: too few sample function dimension sizes\n",
      "\n",
      "MuPDF error: syntax error: too few sample function dimension sizes\n",
      "\n",
      "MuPDF error: syntax error: too few sample function dimension sizes\n",
      "\n",
      "MuPDF error: syntax error: too few sample function dimension sizes\n",
      "\n",
      "MuPDF error: syntax error: too few sample function dimension sizes\n",
      "\n",
      "MuPDF error: syntax error: too few sample function dimension sizes\n",
      "\n"
     ]
    },
    {
     "name": "stderr",
     "output_type": "stream",
     "text": []
    },
    {
     "name": "stdout",
     "output_type": "stream",
     "text": [
      "MuPDF error: syntax error: too few sample function dimension sizes\n",
      "\n",
      "MuPDF error: syntax error: too few sample function dimension sizes\n",
      "\n",
      "MuPDF error: syntax error: too few sample function dimension sizes\n",
      "\n",
      "MuPDF error: syntax error: too few sample function dimension sizes\n",
      "\n",
      "MuPDF error: syntax error: too few sample function dimension sizes\n",
      "\n",
      "MuPDF error: syntax error: too few sample function dimension sizes\n",
      "\n",
      "MuPDF error: syntax error: too few sample function dimension sizes\n",
      "\n",
      "MuPDF error: syntax error: too few sample function dimension sizes\n",
      "\n"
     ]
    },
    {
     "name": "stderr",
     "output_type": "stream",
     "text": []
    },
    {
     "name": "stdout",
     "output_type": "stream",
     "text": [
      "MuPDF error: syntax error: too few sample function dimension sizes\n",
      "\n",
      "MuPDF error: syntax error: too few sample function dimension sizes\n",
      "\n",
      "MuPDF error: syntax error: too few sample function dimension sizes\n",
      "\n",
      "MuPDF error: syntax error: too few sample function dimension sizes\n",
      "\n",
      "MuPDF error: syntax error: too few sample function dimension sizes\n",
      "\n",
      "MuPDF error: syntax error: too few sample function dimension sizes\n",
      "\n",
      "MuPDF error: syntax error: too few sample function dimension sizes\n",
      "\n",
      "MuPDF error: syntax error: too few sample function dimension sizes\n",
      "\n",
      "MuPDF error: syntax error: too few sample function dimension sizes\n",
      "\n",
      "MuPDF error: syntax error: too few sample function dimension sizes\n",
      "\n",
      "MuPDF error: syntax error: too few sample function dimension sizes\n",
      "\n",
      "MuPDF error: syntax error: too few sample function dimension sizes\n",
      "\n",
      "MuPDF error: syntax error: too few sample function dimension sizes\n",
      "\n",
      "MuPDF error: syntax error: too few sample function dimension sizes\n",
      "\n"
     ]
    },
    {
     "name": "stderr",
     "output_type": "stream",
     "text": []
    },
    {
     "name": "stdout",
     "output_type": "stream",
     "text": [
      "MuPDF error: syntax error: too few sample function dimension sizes\n",
      "\n",
      "MuPDF error: syntax error: too few sample function dimension sizes\n",
      "\n",
      "MuPDF error: syntax error: too few sample function dimension sizes\n",
      "\n",
      "MuPDF error: syntax error: too few sample function dimension sizes\n",
      "\n",
      "MuPDF error: syntax error: too few sample function dimension sizes\n",
      "\n",
      "MuPDF error: syntax error: too few sample function dimension sizes\n",
      "\n",
      "MuPDF error: syntax error: too few sample function dimension sizes\n",
      "\n",
      "MuPDF error: syntax error: too few sample function dimension sizes\n",
      "\n",
      "MuPDF error: syntax error: too few sample function dimension sizes\n",
      "\n",
      "MuPDF error: syntax error: too few sample function dimension sizes\n",
      "\n",
      "MuPDF error: syntax error: too few sample function dimension sizes\n",
      "\n",
      "MuPDF error: syntax error: too few sample function dimension sizes\n",
      "\n",
      "MuPDF error: syntax error: too few sample function dimension sizes\n",
      "\n",
      "MuPDF error: syntax error: too few sample function dimension sizes\n",
      "\n"
     ]
    },
    {
     "name": "stderr",
     "output_type": "stream",
     "text": []
    },
    {
     "name": "stdout",
     "output_type": "stream",
     "text": [
      "MuPDF error: syntax error: too few sample function dimension sizes\n",
      "\n",
      "MuPDF error: syntax error: too few sample function dimension sizes\n",
      "\n",
      "MuPDF error: syntax error: too few sample function dimension sizes\n",
      "\n",
      "MuPDF error: syntax error: too few sample function dimension sizes\n",
      "\n",
      "MuPDF error: syntax error: too few sample function dimension sizes\n",
      "\n",
      "MuPDF error: syntax error: too few sample function dimension sizes\n",
      "\n",
      "MuPDF error: syntax error: too few sample function dimension sizes\n",
      "\n",
      "MuPDF error: syntax error: too few sample function dimension sizes\n",
      "\n",
      "MuPDF error: syntax error: too few sample function dimension sizes\n",
      "\n",
      "MuPDF error: syntax error: too few sample function dimension sizes\n",
      "\n",
      "MuPDF error: syntax error: too few sample function dimension sizes\n",
      "\n",
      "MuPDF error: syntax error: too few sample function dimension sizes\n",
      "\n",
      "MuPDF error: syntax error: too few sample function dimension sizes\n",
      "\n",
      "MuPDF error: syntax error: too few sample function dimension sizes\n",
      "\n",
      "MuPDF error: syntax error: too few sample function dimension sizes\n",
      "\n"
     ]
    },
    {
     "name": "stderr",
     "output_type": "stream",
     "text": []
    },
    {
     "name": "stdout",
     "output_type": "stream",
     "text": [
      "MuPDF error: syntax error: too few sample function dimension sizes\n",
      "\n",
      "MuPDF error: syntax error: too few sample function dimension sizes\n",
      "\n",
      "MuPDF error: syntax error: too few sample function dimension sizes\n",
      "\n",
      "MuPDF error: syntax error: too few sample function dimension sizes\n",
      "\n",
      "MuPDF error: syntax error: too few sample function dimension sizes\n",
      "\n",
      "MuPDF error: syntax error: too few sample function dimension sizes\n",
      "\n",
      "MuPDF error: syntax error: too few sample function dimension sizes\n",
      "\n",
      "MuPDF error: syntax error: too few sample function dimension sizes\n",
      "\n",
      "MuPDF error: syntax error: too few sample function dimension sizes\n",
      "\n",
      "MuPDF error: syntax error: too few sample function dimension sizes\n",
      "\n",
      "MuPDF error: syntax error: too few sample function dimension sizes\n",
      "\n",
      "MuPDF error: syntax error: too few sample function dimension sizes\n",
      "\n",
      "MuPDF error: syntax error: too few sample function dimension sizes\n",
      "\n",
      "MuPDF error: syntax error: too few sample function dimension sizes\n",
      "\n",
      "MuPDF error: syntax error: too few sample function dimension sizes\n",
      "\n"
     ]
    },
    {
     "name": "stderr",
     "output_type": "stream",
     "text": []
    },
    {
     "name": "stdout",
     "output_type": "stream",
     "text": [
      "MuPDF error: syntax error: too few sample function dimension sizes\n",
      "\n",
      "MuPDF error: syntax error: too few sample function dimension sizes\n",
      "\n",
      "MuPDF error: syntax error: too few sample function dimension sizes\n",
      "\n",
      "MuPDF error: syntax error: too few sample function dimension sizes\n",
      "\n",
      "MuPDF error: syntax error: too few sample function dimension sizes\n",
      "\n",
      "MuPDF error: syntax error: too few sample function dimension sizes\n",
      "\n"
     ]
    },
    {
     "name": "stderr",
     "output_type": "stream",
     "text": []
    },
    {
     "name": "stdout",
     "output_type": "stream",
     "text": [
      "MuPDF error: syntax error: too few sample function dimension sizes\n",
      "\n",
      "MuPDF error: syntax error: too few sample function dimension sizes\n",
      "\n",
      "MuPDF error: syntax error: too few sample function dimension sizes\n",
      "\n",
      "MuPDF error: syntax error: too few sample function dimension sizes\n",
      "\n",
      "MuPDF error: syntax error: too few sample function dimension sizes\n",
      "\n",
      "MuPDF error: syntax error: too few sample function dimension sizes\n",
      "\n",
      "MuPDF error: syntax error: too few sample function dimension sizes\n",
      "\n",
      "MuPDF error: syntax error: too few sample function dimension sizes\n",
      "\n",
      "MuPDF error: syntax error: too few sample function dimension sizes\n",
      "\n"
     ]
    },
    {
     "name": "stderr",
     "output_type": "stream",
     "text": []
    },
    {
     "name": "stdout",
     "output_type": "stream",
     "text": [
      "MuPDF error: syntax error: too few sample function dimension sizes\n",
      "\n",
      "MuPDF error: syntax error: too few sample function dimension sizes\n",
      "\n",
      "MuPDF error: syntax error: too few sample function dimension sizes\n",
      "\n",
      "MuPDF error: syntax error: too few sample function dimension sizes\n",
      "\n",
      "MuPDF error: syntax error: too few sample function dimension sizes\n",
      "\n",
      "MuPDF error: syntax error: too few sample function dimension sizes\n",
      "\n",
      "MuPDF error: syntax error: too few sample function dimension sizes\n",
      "\n",
      "MuPDF error: syntax error: too few sample function dimension sizes\n",
      "\n",
      "MuPDF error: syntax error: too few sample function dimension sizes\n",
      "\n",
      "MuPDF error: syntax error: too few sample function dimension sizes\n",
      "\n"
     ]
    },
    {
     "name": "stderr",
     "output_type": "stream",
     "text": []
    },
    {
     "name": "stdout",
     "output_type": "stream",
     "text": [
      "MuPDF error: syntax error: too few sample function dimension sizes\n",
      "\n",
      "MuPDF error: syntax error: too few sample function dimension sizes\n",
      "\n",
      "MuPDF error: syntax error: too few sample function dimension sizes\n",
      "\n",
      "MuPDF error: syntax error: too few sample function dimension sizes\n",
      "\n",
      "MuPDF error: syntax error: too few sample function dimension sizes\n",
      "\n",
      "MuPDF error: syntax error: too few sample function dimension sizes\n",
      "\n",
      "MuPDF error: syntax error: too few sample function dimension sizes\n",
      "\n",
      "MuPDF error: syntax error: too few sample function dimension sizes\n",
      "\n",
      "MuPDF error: syntax error: too few sample function dimension sizes\n",
      "\n"
     ]
    },
    {
     "name": "stderr",
     "output_type": "stream",
     "text": []
    },
    {
     "name": "stdout",
     "output_type": "stream",
     "text": [
      "MuPDF error: syntax error: too few sample function dimension sizes\n",
      "\n",
      "MuPDF error: syntax error: too few sample function dimension sizes\n",
      "\n",
      "MuPDF error: syntax error: too few sample function dimension sizes\n",
      "\n",
      "MuPDF error: syntax error: too few sample function dimension sizes\n",
      "\n",
      "MuPDF error: syntax error: too few sample function dimension sizes\n",
      "\n",
      "MuPDF error: syntax error: too few sample function dimension sizes\n",
      "\n",
      "MuPDF error: syntax error: too few sample function dimension sizes\n",
      "\n",
      "MuPDF error: syntax error: too few sample function dimension sizes\n",
      "\n"
     ]
    },
    {
     "name": "stderr",
     "output_type": "stream",
     "text": []
    },
    {
     "name": "stdout",
     "output_type": "stream",
     "text": [
      "MuPDF error: syntax error: too few sample function dimension sizes\n",
      "\n",
      "MuPDF error: syntax error: too few sample function dimension sizes\n",
      "\n",
      "MuPDF error: syntax error: too few sample function dimension sizes\n",
      "\n",
      "MuPDF error: syntax error: too few sample function dimension sizes\n",
      "\n",
      "MuPDF error: syntax error: too few sample function dimension sizes\n",
      "\n",
      "MuPDF error: syntax error: too few sample function dimension sizes\n",
      "\n",
      "MuPDF error: syntax error: too few sample function dimension sizes\n",
      "\n",
      "MuPDF error: syntax error: too few sample function dimension sizes\n",
      "\n",
      "MuPDF error: syntax error: too few sample function dimension sizes\n",
      "\n",
      "MuPDF error: syntax error: too few sample function dimension sizes\n",
      "\n",
      "MuPDF error: syntax error: too few sample function dimension sizes\n",
      "\n",
      "MuPDF error: syntax error: too few sample function dimension sizes\n",
      "\n",
      "MuPDF error: syntax error: too few sample function dimension sizes\n",
      "\n"
     ]
    },
    {
     "name": "stderr",
     "output_type": "stream",
     "text": []
    },
    {
     "name": "stdout",
     "output_type": "stream",
     "text": [
      "MuPDF error: syntax error: too few sample function dimension sizes\n",
      "\n",
      "MuPDF error: syntax error: too few sample function dimension sizes\n",
      "\n",
      "MuPDF error: syntax error: too few sample function dimension sizes\n",
      "\n",
      "MuPDF error: syntax error: too few sample function dimension sizes\n",
      "\n",
      "MuPDF error: syntax error: too few sample function dimension sizes\n",
      "\n",
      "MuPDF error: syntax error: too few sample function dimension sizes\n",
      "\n",
      "MuPDF error: syntax error: too few sample function dimension sizes\n",
      "\n",
      "MuPDF error: syntax error: too few sample function dimension sizes\n",
      "\n",
      "MuPDF error: syntax error: too few sample function dimension sizes\n",
      "\n"
     ]
    },
    {
     "name": "stderr",
     "output_type": "stream",
     "text": [
      "📦 Processing PDFs:  52%|█████▏    | 383/742 [2:26:04<3:46:05, 37.79s/it]"
     ]
    },
    {
     "name": "stdout",
     "output_type": "stream",
     "text": [
      "✅ Done and deleted: 2016-Dec-31 - L'Air Liquide Societe Ano....pdf\n",
      "🔍 Processing 2021-Dec-31 - Lotus Bakeries NV.pdf\n"
     ]
    },
    {
     "name": "stderr",
     "output_type": "stream",
     "text": []
    },
    {
     "name": "stdout",
     "output_type": "stream",
     "text": [
      "✅ Done and deleted: 2021-Dec-31 - Lotus Bakeries NV.pdf\n",
      "🔍 Processing 2020-Dec-31 - ABN Amro Bank NV.pdf\n"
     ]
    },
    {
     "name": "stderr",
     "output_type": "stream",
     "text": []
    },
    {
     "name": "stdout",
     "output_type": "stream",
     "text": [
      "MuPDF error: library error: FT_New_Memory_Face(AAAAAD+UniversLTStd-Light): unknown file format\n",
      "\n"
     ]
    },
    {
     "name": "stderr",
     "output_type": "stream",
     "text": [
      "📦 Processing PDFs:  52%|█████▏    | 385/742 [2:34:38<7:13:24, 72.84s/it]"
     ]
    },
    {
     "name": "stdout",
     "output_type": "stream",
     "text": [
      "✅ Done and deleted: 2020-Dec-31 - ABN Amro Bank NV.pdf\n",
      "🔍 Processing 2021-Dec-31 - Repsol SA (2).pdf\n"
     ]
    },
    {
     "name": "stderr",
     "output_type": "stream",
     "text": []
    },
    {
     "name": "stdout",
     "output_type": "stream",
     "text": [
      "✅ Done and deleted: 2021-Dec-31 - Repsol SA (2).pdf\n",
      "🔍 Processing 2016-Dec-31 - adesso SE.pdf\n"
     ]
    },
    {
     "name": "stderr",
     "output_type": "stream",
     "text": [
      "📦 Processing PDFs:  52%|█████▏    | 387/742 [2:36:54<7:05:56, 71.99s/it]"
     ]
    },
    {
     "name": "stdout",
     "output_type": "stream",
     "text": [
      "✅ Done and deleted: 2016-Dec-31 - adesso SE.pdf\n",
      "🔍 Processing 2022-Dec-31 - Solvay SA.pdf\n"
     ]
    },
    {
     "name": "stderr",
     "output_type": "stream",
     "text": []
    },
    {
     "name": "stdout",
     "output_type": "stream",
     "text": [
      "✅ Done and deleted: 2022-Dec-31 - Solvay SA.pdf\n",
      "🔍 Processing 2020-Nov-30 - H & M Hennes & Mauritz AB.pdf\n"
     ]
    },
    {
     "name": "stderr",
     "output_type": "stream",
     "text": []
    },
    {
     "name": "stdout",
     "output_type": "stream",
     "text": [
      "✅ Done and deleted: 2020-Nov-30 - H & M Hennes & Mauritz AB.pdf\n",
      "🔍 Processing 2015-Dec-31 - Ackermans & Van Haaren NV.pdf\n"
     ]
    },
    {
     "name": "stderr",
     "output_type": "stream",
     "text": []
    },
    {
     "name": "stdout",
     "output_type": "stream",
     "text": [
      "✅ Done and deleted: 2015-Dec-31 - Ackermans & Van Haaren NV.pdf\n",
      "🔍 Processing 2022-Dec-31 - Henkel AG & Co KGaA.pdf\n"
     ]
    },
    {
     "name": "stderr",
     "output_type": "stream",
     "text": []
    },
    {
     "name": "stdout",
     "output_type": "stream",
     "text": [
      "✅ Done and deleted: 2022-Dec-31 - Henkel AG & Co KGaA.pdf\n",
      "🔍 Processing 2021-Dec-31 - Orange SA (1).pdf\n"
     ]
    },
    {
     "name": "stderr",
     "output_type": "stream",
     "text": []
    },
    {
     "name": "stdout",
     "output_type": "stream",
     "text": [
      "✅ Done and deleted: 2021-Dec-31 - Orange SA (1).pdf\n",
      "🔍 Processing 2019-Dec-31 - Banco de Sabadell SA.pdf\n"
     ]
    },
    {
     "name": "stderr",
     "output_type": "stream",
     "text": []
    },
    {
     "name": "stdout",
     "output_type": "stream",
     "text": [
      "✅ Done and deleted: 2019-Dec-31 - Banco de Sabadell SA.pdf\n",
      "🔍 Processing 2018-Dec-31 - Randstad NV.pdf\n"
     ]
    },
    {
     "name": "stderr",
     "output_type": "stream",
     "text": []
    },
    {
     "name": "stdout",
     "output_type": "stream",
     "text": [
      "✅ Done and deleted: 2018-Dec-31 - Randstad NV.pdf\n",
      "🔍 Processing 2021-Dec-31 - Novo Nordisk A or S.pdf\n"
     ]
    },
    {
     "name": "stderr",
     "output_type": "stream",
     "text": [
      "📦 Processing PDFs:  53%|█████▎    | 395/742 [2:36:54<3:21:50, 34.90s/it]"
     ]
    },
    {
     "name": "stdout",
     "output_type": "stream",
     "text": [
      "✅ Done and deleted: 2021-Dec-31 - Novo Nordisk A or S.pdf\n",
      "🔍 Processing 2022-Dec-31 - Beiersdorf AG.pdf\n"
     ]
    },
    {
     "name": "stderr",
     "output_type": "stream",
     "text": [
      "📦 Processing PDFs:  53%|█████▎    | 396/742 [2:40:27<4:47:39, 49.88s/it]"
     ]
    },
    {
     "name": "stdout",
     "output_type": "stream",
     "text": [
      "✅ Done and deleted: 2022-Dec-31 - Beiersdorf AG.pdf\n",
      "🔍 Processing 2018-Dec-31 - Banco de Sabadell SA.pdf\n"
     ]
    },
    {
     "name": "stderr",
     "output_type": "stream",
     "text": []
    },
    {
     "name": "stdout",
     "output_type": "stream",
     "text": [
      "✅ Done and deleted: 2018-Dec-31 - Banco de Sabadell SA.pdf\n",
      "🔍 Processing 2015-Dec-31 - Abb Ltd.pdf\n"
     ]
    },
    {
     "name": "stderr",
     "output_type": "stream",
     "text": []
    },
    {
     "name": "stdout",
     "output_type": "stream",
     "text": [
      "✅ Done and deleted: 2015-Dec-31 - Abb Ltd.pdf\n",
      "🔍 Processing 2021-Dec-31 - PGE Polska Grupa Energety....pdf\n"
     ]
    },
    {
     "name": "stderr",
     "output_type": "stream",
     "text": []
    },
    {
     "name": "stdout",
     "output_type": "stream",
     "text": [
      "✅ Done and deleted: 2021-Dec-31 - PGE Polska Grupa Energety....pdf\n",
      "🔍 Processing 2013-Dec-31 - Lotus Bakeries NV.pdf\n"
     ]
    },
    {
     "name": "stderr",
     "output_type": "stream",
     "text": []
    },
    {
     "name": "stdout",
     "output_type": "stream",
     "text": [
      "✅ Done and deleted: 2013-Dec-31 - Lotus Bakeries NV.pdf\n",
      "🔍 Processing 2021-Dec-31 - Shell PLC.pdf\n"
     ]
    },
    {
     "name": "stderr",
     "output_type": "stream",
     "text": []
    },
    {
     "name": "stdout",
     "output_type": "stream",
     "text": [
      "✅ Done and deleted: 2021-Dec-31 - Shell PLC.pdf\n",
      "🔍 Processing 2016-Dec-31 - Novo Nordisk A or S.pdf\n"
     ]
    },
    {
     "name": "stderr",
     "output_type": "stream",
     "text": []
    },
    {
     "name": "stdout",
     "output_type": "stream",
     "text": [
      "✅ Done and deleted: 2016-Dec-31 - Novo Nordisk A or S.pdf\n",
      "🔍 Processing 2019-Dec-31 - Renault SA.pdf\n"
     ]
    },
    {
     "name": "stderr",
     "output_type": "stream",
     "text": []
    },
    {
     "name": "stdout",
     "output_type": "stream",
     "text": [
      "✅ Done and deleted: 2019-Dec-31 - Renault SA.pdf\n",
      "🔍 Processing 2014-Dec-31 - Bilfinger SE.pdf\n"
     ]
    },
    {
     "name": "stderr",
     "output_type": "stream",
     "text": [
      "📦 Processing PDFs:  54%|█████▍    | 404/742 [2:41:42<2:48:58, 30.00s/it]"
     ]
    },
    {
     "name": "stdout",
     "output_type": "stream",
     "text": [
      "✅ Done and deleted: 2014-Dec-31 - Bilfinger SE.pdf\n",
      "🔍 Processing 2022 orlen.pdf\n"
     ]
    },
    {
     "name": "stderr",
     "output_type": "stream",
     "text": []
    },
    {
     "name": "stdout",
     "output_type": "stream",
     "text": [
      "✅ Done and deleted: 2022 orlen.pdf\n",
      "🔍 Processing 2013-Dec-31 - Renault SA.pdf\n"
     ]
    },
    {
     "name": "stderr",
     "output_type": "stream",
     "text": []
    },
    {
     "name": "stdout",
     "output_type": "stream",
     "text": [
      "✅ Done and deleted: 2013-Dec-31 - Renault SA.pdf\n",
      "🔍 Processing 2012-Dec-31 - EDP SA.pdf\n"
     ]
    },
    {
     "name": "stderr",
     "output_type": "stream",
     "text": []
    },
    {
     "name": "stdout",
     "output_type": "stream",
     "text": [
      "✅ Done and deleted: 2012-Dec-31 - EDP SA.pdf\n",
      "🔍 Processing 2019-Sep-30 - Siemens Gamesa Renewable ....pdf\n"
     ]
    },
    {
     "name": "stderr",
     "output_type": "stream",
     "text": []
    },
    {
     "name": "stdout",
     "output_type": "stream",
     "text": [
      "✅ Done and deleted: 2019-Sep-30 - Siemens Gamesa Renewable ....pdf\n",
      "🔍 Processing 2018-Dec-31 - Aperam SA.pdf\n"
     ]
    },
    {
     "name": "stderr",
     "output_type": "stream",
     "text": []
    },
    {
     "name": "stdout",
     "output_type": "stream",
     "text": [
      "✅ Done and deleted: 2018-Dec-31 - Aperam SA.pdf\n",
      "🔍 Processing 2021-Dec-31 - AP Moeller - Maersk A or S.pdf\n"
     ]
    },
    {
     "name": "stderr",
     "output_type": "stream",
     "text": []
    },
    {
     "name": "stdout",
     "output_type": "stream",
     "text": [
      "✅ Done and deleted: 2021-Dec-31 - AP Moeller - Maersk A or S.pdf\n",
      "🔍 Processing 2020-Dec-31 - PGE Polska Grupa Energety....pdf\n"
     ]
    },
    {
     "name": "stderr",
     "output_type": "stream",
     "text": []
    },
    {
     "name": "stdout",
     "output_type": "stream",
     "text": [
      "✅ Done and deleted: 2020-Dec-31 - PGE Polska Grupa Energety....pdf\n",
      "🔍 Processing 2017-Dec-31 - TotalEnergies SE.pdf\n"
     ]
    },
    {
     "name": "stderr",
     "output_type": "stream",
     "text": [
      "📦 Processing PDFs:  56%|█████▌    | 412/742 [2:41:42<1:37:02, 17.64s/it]"
     ]
    },
    {
     "name": "stdout",
     "output_type": "stream",
     "text": [
      "✅ Done and deleted: 2017-Dec-31 - TotalEnergies SE.pdf\n",
      "🔍 Processing 2021-Dec-31 - AP Moeller - Maersk A or S (1).pdf\n"
     ]
    },
    {
     "name": "stderr",
     "output_type": "stream",
     "text": []
    },
    {
     "name": "stdout",
     "output_type": "stream",
     "text": [
      "✅ Done and deleted: 2021-Dec-31 - AP Moeller - Maersk A or S (1).pdf\n",
      "🔍 Processing 2019-Dec-31 - EDP SA.pdf\n"
     ]
    },
    {
     "name": "stderr",
     "output_type": "stream",
     "text": []
    },
    {
     "name": "stdout",
     "output_type": "stream",
     "text": [
      "✅ Done and deleted: 2019-Dec-31 - EDP SA.pdf\n",
      "🔍 Processing 2012-Dec-31 - Iren SpA.pdf\n"
     ]
    },
    {
     "name": "stderr",
     "output_type": "stream",
     "text": []
    },
    {
     "name": "stdout",
     "output_type": "stream",
     "text": [
      "✅ Done and deleted: 2012-Dec-31 - Iren SpA.pdf\n",
      "🔍 Processing 2018 tf1.pdf\n"
     ]
    },
    {
     "name": "stderr",
     "output_type": "stream",
     "text": []
    },
    {
     "name": "stdout",
     "output_type": "stream",
     "text": [
      "✅ Done and deleted: 2018 tf1.pdf\n",
      "🔍 Processing 2013-Dec-31 - PGE Polska Grupa Energety....pdf\n"
     ]
    },
    {
     "name": "stderr",
     "output_type": "stream",
     "text": []
    },
    {
     "name": "stdout",
     "output_type": "stream",
     "text": [
      "MuPDF error: library error: FT_New_Memory_Face(AAAAAJ+Arial-BoldMT): locations (loca) table missing\n",
      "\n"
     ]
    },
    {
     "name": "stderr",
     "output_type": "stream",
     "text": [
      "📦 Processing PDFs:  56%|█████▌    | 417/742 [2:47:32<2:51:46, 31.71s/it]"
     ]
    },
    {
     "name": "stdout",
     "output_type": "stream",
     "text": [
      "✅ Done and deleted: 2013-Dec-31 - PGE Polska Grupa Energety....pdf\n",
      "🔍 Processing 2017-Dec-31 - L'Oreal SA.pdf\n"
     ]
    },
    {
     "name": "stderr",
     "output_type": "stream",
     "text": []
    },
    {
     "name": "stdout",
     "output_type": "stream",
     "text": [
      "MuPDF error: library error: FT_New_Memory_Face(AAAAAJ+ITCAvantGardeStd-Demi): unknown file format\n",
      "\n"
     ]
    },
    {
     "name": "stderr",
     "output_type": "stream",
     "text": [
      "📦 Processing PDFs:  56%|█████▋    | 418/742 [2:49:30<3:24:25, 37.86s/it]"
     ]
    },
    {
     "name": "stdout",
     "output_type": "stream",
     "text": [
      "✅ Done and deleted: 2017-Dec-31 - L'Oreal SA.pdf\n",
      "🔍 Processing 2018 dt telekom.pdf\n"
     ]
    },
    {
     "name": "stderr",
     "output_type": "stream",
     "text": []
    },
    {
     "name": "stdout",
     "output_type": "stream",
     "text": [
      "✅ Done and deleted: 2018 dt telekom.pdf\n",
      "🔍 Processing 2016-Dec-31 - Merck KGaA.pdf\n"
     ]
    },
    {
     "name": "stderr",
     "output_type": "stream",
     "text": []
    },
    {
     "name": "stdout",
     "output_type": "stream",
     "text": [
      "MuPDF error: library error: FT_New_Memory_Face(AAAABX+Merck-Regular): unknown file format\n",
      "\n"
     ]
    },
    {
     "name": "stderr",
     "output_type": "stream",
     "text": [
      "📦 Processing PDFs:  57%|█████▋    | 420/742 [2:55:41<5:37:33, 62.90s/it]"
     ]
    },
    {
     "name": "stdout",
     "output_type": "stream",
     "text": [
      "✅ Done and deleted: 2016-Dec-31 - Merck KGaA.pdf\n",
      "🔍 Processing 2022-Dec-31 - Koninklijke KPN NV.pdf\n"
     ]
    },
    {
     "name": "stderr",
     "output_type": "stream",
     "text": []
    },
    {
     "name": "stdout",
     "output_type": "stream",
     "text": [
      "✅ Done and deleted: 2022-Dec-31 - Koninklijke KPN NV.pdf\n",
      "🔍 Processing 2022-Dec-31 - EDP SA.pdf\n"
     ]
    },
    {
     "name": "stderr",
     "output_type": "stream",
     "text": []
    },
    {
     "name": "stdout",
     "output_type": "stream",
     "text": [
      "✅ Done and deleted: 2022-Dec-31 - EDP SA.pdf\n",
      "🔍 Processing 2013-Dec-31 - Deutsche Telekom AG.pdf\n"
     ]
    },
    {
     "name": "stderr",
     "output_type": "stream",
     "text": []
    },
    {
     "name": "stdout",
     "output_type": "stream",
     "text": [
      "✅ Done and deleted: 2013-Dec-31 - Deutsche Telekom AG.pdf\n",
      "🔍 Processing 2015-Dec-31 - Volvo AB.pdf\n"
     ]
    },
    {
     "name": "stderr",
     "output_type": "stream",
     "text": []
    },
    {
     "name": "stdout",
     "output_type": "stream",
     "text": [
      "✅ Done and deleted: 2015-Dec-31 - Volvo AB.pdf\n",
      "🔍 Processing 2013-Dec-31 - Abb Ltd.pdf\n"
     ]
    },
    {
     "name": "stderr",
     "output_type": "stream",
     "text": []
    },
    {
     "name": "stdout",
     "output_type": "stream",
     "text": [
      "✅ Done and deleted: 2013-Dec-31 - Abb Ltd.pdf\n",
      "🔍 Processing 2019-Dec-31 - Roche Holding AG.pdf\n"
     ]
    },
    {
     "name": "stderr",
     "output_type": "stream",
     "text": []
    },
    {
     "name": "stdout",
     "output_type": "stream",
     "text": [
      "✅ Done and deleted: 2019-Dec-31 - Roche Holding AG.pdf\n",
      "🔍 Processing 2012 bayer.pdf\n"
     ]
    },
    {
     "name": "stderr",
     "output_type": "stream",
     "text": []
    },
    {
     "name": "stdout",
     "output_type": "stream",
     "text": [
      "MuPDF error: library error: FT_New_Memory_Face(AAAABC+CompatilLetterLTPro-Bd): unknown file format\n",
      "\n"
     ]
    },
    {
     "name": "stderr",
     "output_type": "stream",
     "text": [
      "📦 Processing PDFs:  58%|█████▊    | 427/742 [3:00:48<4:44:28, 54.19s/it]"
     ]
    },
    {
     "name": "stdout",
     "output_type": "stream",
     "text": [
      "✅ Done and deleted: 2012 bayer.pdf\n",
      "🔍 Processing 2019-Dec-31 - Somfy SA.pdf\n"
     ]
    },
    {
     "name": "stderr",
     "output_type": "stream",
     "text": [
      "📦 Processing PDFs:  58%|█████▊    | 428/742 [3:03:16<5:25:28, 62.19s/it]"
     ]
    },
    {
     "name": "stdout",
     "output_type": "stream",
     "text": [
      "✅ Done and deleted: 2019-Dec-31 - Somfy SA.pdf\n",
      "🔍 Processing 2018-Dec-31 - Koninklijke KPN NV.pdf\n"
     ]
    },
    {
     "name": "stderr",
     "output_type": "stream",
     "text": []
    },
    {
     "name": "stdout",
     "output_type": "stream",
     "text": [
      "✅ Done and deleted: 2018-Dec-31 - Koninklijke KPN NV.pdf\n",
      "🔍 Processing 2022 siemens gamesa.pdf\n",
      "❌ Failed to process 2022 siemens gamesa.pdf: Failed to open file 'failed_pdfs/2022 siemens gamesa.pdf'.\n",
      "📁 Moved to failed_pdfs: 2022 siemens gamesa.pdf\n",
      "🔍 Processing 2022-Dec-31 - Novartis AG.pdf\n"
     ]
    },
    {
     "name": "stderr",
     "output_type": "stream",
     "text": []
    },
    {
     "name": "stdout",
     "output_type": "stream",
     "text": [
      "✅ Done and deleted: 2022-Dec-31 - Novartis AG.pdf\n",
      "🔍 Processing 2012-Sep-30 - Carl Zeiss Meditec AG.pdf\n"
     ]
    },
    {
     "name": "stderr",
     "output_type": "stream",
     "text": []
    },
    {
     "name": "stdout",
     "output_type": "stream",
     "text": [
      "✅ Done and deleted: 2012-Sep-30 - Carl Zeiss Meditec AG.pdf\n",
      "🔍 Processing 2022 adesso copy.pdf\n"
     ]
    },
    {
     "name": "stderr",
     "output_type": "stream",
     "text": []
    },
    {
     "name": "stdout",
     "output_type": "stream",
     "text": [
      "✅ Done and deleted: 2022 adesso copy.pdf\n",
      "🔍 Processing 2021-Dec-31 - EnBW Energie Baden Wuertt....pdf\n"
     ]
    },
    {
     "name": "stderr",
     "output_type": "stream",
     "text": []
    },
    {
     "name": "stdout",
     "output_type": "stream",
     "text": [
      "✅ Done and deleted: 2021-Dec-31 - EnBW Energie Baden Wuertt....pdf\n",
      "🔍 Processing 2022 adesso.pdf\n"
     ]
    },
    {
     "name": "stderr",
     "output_type": "stream",
     "text": []
    },
    {
     "name": "stdout",
     "output_type": "stream",
     "text": [
      "✅ Done and deleted: 2022 adesso.pdf\n",
      "🔍 Processing 2018-Dec-31 - adesso SE.pdf\n"
     ]
    },
    {
     "name": "stderr",
     "output_type": "stream",
     "text": [
      "📦 Processing PDFs:  59%|█████▉    | 436/742 [3:03:16<2:40:24, 31.45s/it]"
     ]
    },
    {
     "name": "stdout",
     "output_type": "stream",
     "text": [
      "✅ Done and deleted: 2018-Dec-31 - adesso SE.pdf\n",
      "🔍 Processing 2012-Dec-31 - Electricite De France SA.pdf\n"
     ]
    },
    {
     "name": "stderr",
     "output_type": "stream",
     "text": []
    },
    {
     "name": "stdout",
     "output_type": "stream",
     "text": [
      "✅ Done and deleted: 2012-Dec-31 - Electricite De France SA.pdf\n",
      "🔍 Processing 2022-Dec-31 - Television Francaise 1 SA.pdf\n"
     ]
    },
    {
     "name": "stderr",
     "output_type": "stream",
     "text": []
    },
    {
     "name": "stdout",
     "output_type": "stream",
     "text": [
      "✅ Done and deleted: 2022-Dec-31 - Television Francaise 1 SA.pdf\n",
      "🔍 Processing 2014-Dec-31 - ams-OSRAM AG.pdf\n"
     ]
    },
    {
     "name": "stderr",
     "output_type": "stream",
     "text": []
    },
    {
     "name": "stdout",
     "output_type": "stream",
     "text": [
      "✅ Done and deleted: 2014-Dec-31 - ams-OSRAM AG.pdf\n",
      "🔍 Processing 2018-Dec-31 - Bayer AG.pdf\n"
     ]
    },
    {
     "name": "stderr",
     "output_type": "stream",
     "text": []
    },
    {
     "name": "stdout",
     "output_type": "stream",
     "text": [
      "✅ Done and deleted: 2018-Dec-31 - Bayer AG.pdf\n",
      "🔍 Processing 2022 siemens gamesa:energy.pdf\n",
      "❌ Failed to process 2022 siemens gamesa:energy.pdf: Failed to open file 'failed_pdfs/2022 siemens gamesa:energy.pdf'.\n",
      "📁 Moved to failed_pdfs: 2022 siemens gamesa:energy.pdf\n",
      "🔍 Processing 2019-Dec-31 - ABN Amro Bank NV.pdf\n"
     ]
    },
    {
     "name": "stderr",
     "output_type": "stream",
     "text": []
    },
    {
     "name": "stdout",
     "output_type": "stream",
     "text": [
      "✅ Done and deleted: 2019-Dec-31 - ABN Amro Bank NV.pdf\n",
      "🔍 Processing 2015-Dec-31 - Scor SE.pdf\n"
     ]
    },
    {
     "name": "stderr",
     "output_type": "stream",
     "text": [
      "📦 Processing PDFs:  60%|█████▉    | 443/742 [3:03:16<1:36:53, 19.44s/it]"
     ]
    },
    {
     "name": "stdout",
     "output_type": "stream",
     "text": [
      "❌ Failed to process 2015-Dec-31 - Scor SE.pdf: Failed to open file 'failed_pdfs/2015-Dec-31 - Scor SE.pdf'.\n",
      "📁 Moved to failed_pdfs: 2015-Dec-31 - Scor SE.pdf\n",
      "🔍 Processing 2020-Dec-31 - Telecom Italia SpA.pdf\n"
     ]
    },
    {
     "name": "stderr",
     "output_type": "stream",
     "text": []
    },
    {
     "name": "stdout",
     "output_type": "stream",
     "text": [
      "✅ Done and deleted: 2020-Dec-31 - Telecom Italia SpA.pdf\n",
      "🔍 Processing 2012-Dec-31 - Nestle SA.pdf\n"
     ]
    },
    {
     "name": "stderr",
     "output_type": "stream",
     "text": []
    },
    {
     "name": "stdout",
     "output_type": "stream",
     "text": [
      "✅ Done and deleted: 2012-Dec-31 - Nestle SA.pdf\n",
      "🔍 Processing 2022-Dec-31 - Husqvarna AB.pdf\n"
     ]
    },
    {
     "name": "stderr",
     "output_type": "stream",
     "text": []
    },
    {
     "name": "stdout",
     "output_type": "stream",
     "text": [
      "✅ Done and deleted: 2022-Dec-31 - Husqvarna AB.pdf\n",
      "🔍 Processing 2014-Dec-31 - Novartis AG.pdf\n"
     ]
    },
    {
     "name": "stderr",
     "output_type": "stream",
     "text": []
    },
    {
     "name": "stdout",
     "output_type": "stream",
     "text": [
      "✅ Done and deleted: 2014-Dec-31 - Novartis AG.pdf\n",
      "🔍 Processing 2013-Dec-31 - Scor SE.pdf\n"
     ]
    },
    {
     "name": "stderr",
     "output_type": "stream",
     "text": []
    },
    {
     "name": "stdout",
     "output_type": "stream",
     "text": [
      "✅ Done and deleted: 2013-Dec-31 - Scor SE.pdf\n",
      "🔍 Processing 2012-Dec-31 - Husqvarna AB.pdf\n"
     ]
    },
    {
     "name": "stderr",
     "output_type": "stream",
     "text": []
    },
    {
     "name": "stdout",
     "output_type": "stream",
     "text": [
      "✅ Done and deleted: 2012-Dec-31 - Husqvarna AB.pdf\n",
      "🔍 Processing 2016-Dec-31 - Billerud AB (publ).pdf\n"
     ]
    },
    {
     "name": "stderr",
     "output_type": "stream",
     "text": []
    },
    {
     "name": "stdout",
     "output_type": "stream",
     "text": [
      "✅ Done and deleted: 2016-Dec-31 - Billerud AB (publ).pdf\n",
      "🔍 Processing 2012-Dec-31 - ING Groep NV.pdf\n"
     ]
    },
    {
     "name": "stderr",
     "output_type": "stream",
     "text": []
    },
    {
     "name": "stdout",
     "output_type": "stream",
     "text": [
      "✅ Done and deleted: 2012-Dec-31 - ING Groep NV.pdf\n",
      "🔍 Processing 2013-Dec-31 - Novo Nordisk A or S.pdf\n"
     ]
    },
    {
     "name": "stderr",
     "output_type": "stream",
     "text": []
    },
    {
     "name": "stdout",
     "output_type": "stream",
     "text": [
      "✅ Done and deleted: 2013-Dec-31 - Novo Nordisk A or S.pdf\n",
      "🔍 Processing 2020-Dec-31 - Electricite De France SA (1).pdf\n"
     ]
    },
    {
     "name": "stderr",
     "output_type": "stream",
     "text": [
      "📦 Processing PDFs:  61%|██████    | 453/742 [3:03:17<52:39, 10.93s/it]  "
     ]
    },
    {
     "name": "stdout",
     "output_type": "stream",
     "text": [
      "✅ Done and deleted: 2020-Dec-31 - Electricite De France SA (1).pdf\n",
      "🔍 Processing 2014-Dec-31 - Scania AB.pdf\n"
     ]
    },
    {
     "name": "stderr",
     "output_type": "stream",
     "text": []
    },
    {
     "name": "stdout",
     "output_type": "stream",
     "text": [
      "✅ Done and deleted: 2014-Dec-31 - Scania AB.pdf\n",
      "🔍 Processing 2021-Dec-31 - NOVABASE SGPS SA.pdf\n"
     ]
    },
    {
     "name": "stderr",
     "output_type": "stream",
     "text": []
    },
    {
     "name": "stdout",
     "output_type": "stream",
     "text": [
      "✅ Done and deleted: 2021-Dec-31 - NOVABASE SGPS SA.pdf\n",
      "🔍 Processing 2014 schneideer.pdf\n"
     ]
    },
    {
     "name": "stderr",
     "output_type": "stream",
     "text": [
      "📦 Processing PDFs:  61%|██████    | 453/742 [3:03:28<52:39, 10.93s/it]"
     ]
    },
    {
     "name": "stdout",
     "output_type": "stream",
     "text": [
      "MuPDF error: library error: FT_New_Memory_Face(AAAAAM+HelveticaNeueLTStd-MdIt): unknown file format\n",
      "\n"
     ]
    },
    {
     "name": "stderr",
     "output_type": "stream",
     "text": [
      "📦 Processing PDFs:  61%|██████▏   | 456/742 [3:06:26<1:31:27, 19.19s/it]"
     ]
    },
    {
     "name": "stdout",
     "output_type": "stream",
     "text": [
      "✅ Done and deleted: 2014 schneideer.pdf\n",
      "🔍 Processing 2014-Dec-31 - Amadeus IT Group SA.pdf\n"
     ]
    },
    {
     "name": "stderr",
     "output_type": "stream",
     "text": []
    },
    {
     "name": "stdout",
     "output_type": "stream",
     "text": [
      "✅ Done and deleted: 2014-Dec-31 - Amadeus IT Group SA.pdf\n",
      "🔍 Processing 2017-Dec-31 - Television Francaise 1 SA.pdf\n"
     ]
    },
    {
     "name": "stderr",
     "output_type": "stream",
     "text": []
    },
    {
     "name": "stdout",
     "output_type": "stream",
     "text": [
      "✅ Done and deleted: 2017-Dec-31 - Television Francaise 1 SA.pdf\n",
      "🔍 Processing 2021-Dec-31 - Schneider Electric SE.pdf\n"
     ]
    },
    {
     "name": "stderr",
     "output_type": "stream",
     "text": []
    },
    {
     "name": "stdout",
     "output_type": "stream",
     "text": [
      "✅ Done and deleted: 2021-Dec-31 - Schneider Electric SE.pdf\n",
      "🔍 Processing 2022-Mar-31 - Prosus NV.pdf\n"
     ]
    },
    {
     "name": "stderr",
     "output_type": "stream",
     "text": []
    },
    {
     "name": "stdout",
     "output_type": "stream",
     "text": [
      "✅ Done and deleted: 2022-Mar-31 - Prosus NV.pdf\n",
      "🔍 Processing 2022-Dec-31 - Koninklijke Philips NV.pdf\n"
     ]
    },
    {
     "name": "stderr",
     "output_type": "stream",
     "text": []
    },
    {
     "name": "stdout",
     "output_type": "stream",
     "text": [
      "✅ Done and deleted: 2022-Dec-31 - Koninklijke Philips NV.pdf\n",
      "🔍 Processing 2014-Dec-31 - Renault SA.pdf\n"
     ]
    },
    {
     "name": "stderr",
     "output_type": "stream",
     "text": []
    },
    {
     "name": "stdout",
     "output_type": "stream",
     "text": [
      "✅ Done and deleted: 2014-Dec-31 - Renault SA.pdf\n",
      "🔍 Processing 2013-Dec-31 - ArcelorMittal SA.pdf\n"
     ]
    },
    {
     "name": "stderr",
     "output_type": "stream",
     "text": [
      "📦 Processing PDFs:  62%|██████▏   | 463/742 [3:06:26<58:27, 12.57s/it]  "
     ]
    },
    {
     "name": "stdout",
     "output_type": "stream",
     "text": [
      "✅ Done and deleted: 2013-Dec-31 - ArcelorMittal SA.pdf\n",
      "🔍 Processing 2015-Dec-31 - Scania AB.pdf\n"
     ]
    },
    {
     "name": "stderr",
     "output_type": "stream",
     "text": []
    },
    {
     "name": "stdout",
     "output_type": "stream",
     "text": [
      "✅ Done and deleted: 2015-Dec-31 - Scania AB.pdf\n",
      "🔍 Processing 2016-Dec-31 - Electricite De France SA 1.pdf\n",
      "❌ Failed to process 2016-Dec-31 - Electricite De France SA 1.pdf: Failed to open file 'failed_pdfs/2016-Dec-31 - Electricite De France SA 1.pdf'.\n",
      "📁 Moved to failed_pdfs: 2016-Dec-31 - Electricite De France SA 1.pdf\n",
      "🔍 Processing 2019-Aug-31 - Sodexo SA.pdf\n"
     ]
    },
    {
     "name": "stderr",
     "output_type": "stream",
     "text": []
    },
    {
     "name": "stdout",
     "output_type": "stream",
     "text": [
      "✅ Done and deleted: 2019-Aug-31 - Sodexo SA.pdf\n",
      "🔍 Processing 2018-Dec-31 - SEB SA.pdf\n"
     ]
    },
    {
     "name": "stderr",
     "output_type": "stream",
     "text": [
      "📦 Processing PDFs:  63%|██████▎   | 467/742 [3:09:17<1:27:54, 19.18s/it]"
     ]
    },
    {
     "name": "stdout",
     "output_type": "stream",
     "text": [
      "✅ Done and deleted: 2018-Dec-31 - SEB SA.pdf\n",
      "🔍 Processing 2022-Dec-31 - Ucb SA.pdf\n"
     ]
    },
    {
     "name": "stderr",
     "output_type": "stream",
     "text": []
    },
    {
     "name": "stdout",
     "output_type": "stream",
     "text": [
      "✅ Done and deleted: 2022-Dec-31 - Ucb SA.pdf\n",
      "🔍 Processing 2015-Sep-30 - Carl Zeiss Meditec AG.pdf\n"
     ]
    },
    {
     "name": "stderr",
     "output_type": "stream",
     "text": []
    },
    {
     "name": "stdout",
     "output_type": "stream",
     "text": [
      "✅ Done and deleted: 2015-Sep-30 - Carl Zeiss Meditec AG.pdf\n",
      "🔍 Processing 2016-Dec-31 - Mediahuis NL BV.pdf\n"
     ]
    },
    {
     "name": "stderr",
     "output_type": "stream",
     "text": []
    },
    {
     "name": "stdout",
     "output_type": "stream",
     "text": [
      "✅ Done and deleted: 2016-Dec-31 - Mediahuis NL BV.pdf\n",
      "🔍 Processing 2019-Dec-31 - Solvay SA.pdf\n"
     ]
    },
    {
     "name": "stderr",
     "output_type": "stream",
     "text": [
      "📦 Processing PDFs:  63%|██████▎   | 471/742 [3:09:17<1:05:58, 14.61s/it]"
     ]
    },
    {
     "name": "stdout",
     "output_type": "stream",
     "text": [
      "✅ Done and deleted: 2019-Dec-31 - Solvay SA.pdf\n",
      "🔍 Processing 2017-Dec-31 - Koninklijke Vopak NV.pdf\n"
     ]
    },
    {
     "name": "stderr",
     "output_type": "stream",
     "text": []
    },
    {
     "name": "stdout",
     "output_type": "stream",
     "text": [
      "✅ Done and deleted: 2017-Dec-31 - Koninklijke Vopak NV.pdf\n",
      "🔍 Processing 2022-Dec-31 - L'Air Liquide Societe Ano....pdf\n"
     ]
    },
    {
     "name": "stderr",
     "output_type": "stream",
     "text": []
    },
    {
     "name": "stdout",
     "output_type": "stream",
     "text": [
      "✅ Done and deleted: 2022-Dec-31 - L'Air Liquide Societe Ano....pdf\n",
      "🔍 Processing 2020-Dec-31 - Kongsberg Gruppen ASA.pdf\n"
     ]
    },
    {
     "name": "stderr",
     "output_type": "stream",
     "text": []
    },
    {
     "name": "stdout",
     "output_type": "stream",
     "text": [
      "✅ Done and deleted: 2020-Dec-31 - Kongsberg Gruppen ASA.pdf\n",
      "🔍 Processing 2022-Dec-31 - ING Groep NV.pdf\n"
     ]
    },
    {
     "name": "stderr",
     "output_type": "stream",
     "text": []
    },
    {
     "name": "stdout",
     "output_type": "stream",
     "text": [
      "✅ Done and deleted: 2022-Dec-31 - ING Groep NV.pdf\n",
      "🔍 Processing 2019-Dec-31 - EnBW Energie Baden Wuertt....pdf\n"
     ]
    },
    {
     "name": "stderr",
     "output_type": "stream",
     "text": []
    },
    {
     "name": "stdout",
     "output_type": "stream",
     "text": [
      "✅ Done and deleted: 2019-Dec-31 - EnBW Energie Baden Wuertt....pdf\n",
      "🔍 Processing 2022-Dec-31 - Orange SA.pdf\n"
     ]
    },
    {
     "name": "stderr",
     "output_type": "stream",
     "text": []
    },
    {
     "name": "stdout",
     "output_type": "stream",
     "text": [
      "✅ Done and deleted: 2022-Dec-31 - Orange SA.pdf\n",
      "🔍 Processing 2020-Dec-31 - EnBW Energie Baden Wuertt....pdf\n"
     ]
    },
    {
     "name": "stderr",
     "output_type": "stream",
     "text": [
      "📦 Processing PDFs:  64%|██████▍   | 478/742 [3:09:17<40:16,  9.15s/it]  "
     ]
    },
    {
     "name": "stdout",
     "output_type": "stream",
     "text": [
      "✅ Done and deleted: 2020-Dec-31 - EnBW Energie Baden Wuertt....pdf\n",
      "🔍 Processing 2022-Dec-31 - ArcelorMittal SA.pdf\n"
     ]
    },
    {
     "name": "stderr",
     "output_type": "stream",
     "text": []
    },
    {
     "name": "stdout",
     "output_type": "stream",
     "text": [
      "✅ Done and deleted: 2022-Dec-31 - ArcelorMittal SA.pdf\n",
      "🔍 Processing 2013-Dec-31 - Swisscom AG.pdf\n"
     ]
    },
    {
     "name": "stderr",
     "output_type": "stream",
     "text": []
    },
    {
     "name": "stdout",
     "output_type": "stream",
     "text": [
      "✅ Done and deleted: 2013-Dec-31 - Swisscom AG.pdf\n",
      "🔍 Processing 2014-Dec-31 - L'Oreal SA.pdf\n"
     ]
    },
    {
     "name": "stderr",
     "output_type": "stream",
     "text": [
      "📦 Processing PDFs:  64%|██████▍   | 478/742 [3:09:28<40:16,  9.15s/it]"
     ]
    },
    {
     "name": "stdout",
     "output_type": "stream",
     "text": [
      "MuPDF error: library error: FT_New_Memory_Face(AAAABS+BodoniStd-Italic): unknown file format\n",
      "\n"
     ]
    },
    {
     "name": "stderr",
     "output_type": "stream",
     "text": [
      "📦 Processing PDFs:  65%|██████▍   | 481/742 [3:11:06<1:01:50, 14.21s/it]"
     ]
    },
    {
     "name": "stdout",
     "output_type": "stream",
     "text": [
      "✅ Done and deleted: 2014-Dec-31 - L'Oreal SA.pdf\n",
      "🔍 Processing 2021 novartis.pdf\n",
      "❌ Failed to process 2021 novartis.pdf: Failed to open file 'failed_pdfs/2021 novartis.pdf'.\n",
      "📁 Moved to failed_pdfs: 2021 novartis.pdf\n",
      "🔍 Processing 2016-Dec-31 - Metsa Board Oyj.pdf\n"
     ]
    },
    {
     "name": "stderr",
     "output_type": "stream",
     "text": []
    },
    {
     "name": "stdout",
     "output_type": "stream",
     "text": [
      "✅ Done and deleted: 2016-Dec-31 - Metsa Board Oyj.pdf\n",
      "🔍 Processing 2021-Dec-31 - adesso SE.pdf\n"
     ]
    },
    {
     "name": "stderr",
     "output_type": "stream",
     "text": []
    },
    {
     "name": "stdout",
     "output_type": "stream",
     "text": [
      "✅ Done and deleted: 2021-Dec-31 - adesso SE.pdf\n",
      "🔍 Processing 2016-Dec-31 - ABN Amro Bank NV.pdf\n",
      "❌ Failed to process 2016-Dec-31 - ABN Amro Bank NV.pdf: Failed to open file 'failed_pdfs/2016-Dec-31 - ABN Amro Bank NV.pdf'.\n",
      "📁 Moved to failed_pdfs: 2016-Dec-31 - ABN Amro Bank NV.pdf\n",
      "🔍 Processing 2013-Dec-31 - Roche Holding AG.pdf\n"
     ]
    },
    {
     "name": "stderr",
     "output_type": "stream",
     "text": []
    },
    {
     "name": "stdout",
     "output_type": "stream",
     "text": [
      "✅ Done and deleted: 2013-Dec-31 - Roche Holding AG.pdf\n",
      "🔍 Processing 2022-Dec-31 - Koninklijke Vopak NV.pdf\n"
     ]
    },
    {
     "name": "stderr",
     "output_type": "stream",
     "text": []
    },
    {
     "name": "stdout",
     "output_type": "stream",
     "text": [
      "✅ Done and deleted: 2022-Dec-31 - Koninklijke Vopak NV.pdf\n",
      "🔍 Processing 2017-Dec-31 - SAP SE.pdf\n"
     ]
    },
    {
     "name": "stderr",
     "output_type": "stream",
     "text": [
      "📦 Processing PDFs:  66%|██████▌   | 488/742 [3:16:32<1:52:34, 26.59s/it]"
     ]
    },
    {
     "name": "stdout",
     "output_type": "stream",
     "text": [
      "✅ Done and deleted: 2017-Dec-31 - SAP SE.pdf\n",
      "🔍 Processing 2015-Dec-31 - Bilfinger SE.pdf\n"
     ]
    },
    {
     "name": "stderr",
     "output_type": "stream",
     "text": []
    },
    {
     "name": "stdout",
     "output_type": "stream",
     "text": [
      "MuPDF error: library error: FT_New_Memory_Face(AAAAAC+TheSerif-W3Light): unknown file format\n",
      "\n"
     ]
    },
    {
     "name": "stderr",
     "output_type": "stream",
     "text": [
      "📦 Processing PDFs:  66%|██████▌   | 489/742 [3:20:19<2:53:39, 41.18s/it]"
     ]
    },
    {
     "name": "stdout",
     "output_type": "stream",
     "text": [
      "✅ Done and deleted: 2015-Dec-31 - Bilfinger SE.pdf\n",
      "🔍 Processing 2016-Dec-31 - Lotus Bakeries NV.pdf\n"
     ]
    },
    {
     "name": "stderr",
     "output_type": "stream",
     "text": []
    },
    {
     "name": "stdout",
     "output_type": "stream",
     "text": [
      "✅ Done and deleted: 2016-Dec-31 - Lotus Bakeries NV.pdf\n",
      "🔍 Processing 2019-Dec-31 - Evonik Industries AG.pdf\n"
     ]
    },
    {
     "name": "stderr",
     "output_type": "stream",
     "text": []
    },
    {
     "name": "stdout",
     "output_type": "stream",
     "text": [
      "MuPDF error: library error: FT_New_Memory_Face(AAAABP+EvonikProkyon-Light): unknown file format\n",
      "\n"
     ]
    },
    {
     "name": "stderr",
     "output_type": "stream",
     "text": [
      "📦 Processing PDFs:  66%|██████▌   | 491/742 [3:23:32<3:31:51, 50.64s/it]"
     ]
    },
    {
     "name": "stdout",
     "output_type": "stream",
     "text": [
      "✅ Done and deleted: 2019-Dec-31 - Evonik Industries AG.pdf\n",
      "🔍 Processing 2014-Dec-31 - Koninklijke KPN NV.pdf\n"
     ]
    },
    {
     "name": "stderr",
     "output_type": "stream",
     "text": []
    },
    {
     "name": "stdout",
     "output_type": "stream",
     "text": [
      "✅ Done and deleted: 2014-Dec-31 - Koninklijke KPN NV.pdf\n",
      "🔍 Processing 2021-Dec-31 - Renault SA.pdf\n"
     ]
    },
    {
     "name": "stderr",
     "output_type": "stream",
     "text": []
    },
    {
     "name": "stdout",
     "output_type": "stream",
     "text": [
      "✅ Done and deleted: 2021-Dec-31 - Renault SA.pdf\n",
      "🔍 Processing 2017-Dec-31 - Orange SA.pdf\n"
     ]
    },
    {
     "name": "stderr",
     "output_type": "stream",
     "text": []
    },
    {
     "name": "stdout",
     "output_type": "stream",
     "text": [
      "MuPDF error: format error: object is not a stream\n",
      "\n"
     ]
    },
    {
     "name": "stderr",
     "output_type": "stream",
     "text": []
    },
    {
     "name": "stdout",
     "output_type": "stream",
     "text": [
      "MuPDF error: format error: object is not a stream\n",
      "\n"
     ]
    },
    {
     "name": "stderr",
     "output_type": "stream",
     "text": []
    },
    {
     "name": "stdout",
     "output_type": "stream",
     "text": [
      "MuPDF error: format error: object is not a stream\n",
      "\n"
     ]
    },
    {
     "name": "stderr",
     "output_type": "stream",
     "text": []
    },
    {
     "name": "stdout",
     "output_type": "stream",
     "text": [
      "MuPDF error: format error: object is not a stream\n",
      "\n"
     ]
    },
    {
     "name": "stderr",
     "output_type": "stream",
     "text": []
    },
    {
     "name": "stdout",
     "output_type": "stream",
     "text": [
      "MuPDF error: library error: FT_New_Memory_Face(AAAABM+HelveticaNeue-Roman): unknown file format\n",
      "\n"
     ]
    },
    {
     "name": "stderr",
     "output_type": "stream",
     "text": []
    }
   ],
   "source": [
    "# 🛠 Required packages:\n",
    "# pip install pymupdf pytesseract pillow tqdm\n",
    "\n",
    "import fitz  # PyMuPDF\n",
    "import pytesseract\n",
    "from PIL import Image\n",
    "from tqdm import tqdm\n",
    "from pathlib import Path\n",
    "import shutil\n",
    "import io\n",
    "import gc\n",
    "\n",
    "# 📁 Define folders\n",
    "input_folder = Path(\"failed_pdfs\")\n",
    "output_folder = Path(\"txt_final\")\n",
    "failed_folder = Path(\"failed_pdfs1\")\n",
    "\n",
    "output_folder.mkdir(parents=True, exist_ok=True)\n",
    "failed_folder.mkdir(parents=True, exist_ok=True)\n",
    "\n",
    "# 🧠 OCR with PyMuPDF\n",
    "def ocr_with_fitz(pdf_path, txt_path):\n",
    "    try:\n",
    "        print(f\"🔍 Processing {pdf_path.name}\")\n",
    "        doc = fitz.open(pdf_path)\n",
    "        full_text = \"\"\n",
    "\n",
    "        for page in tqdm(doc, desc=f\"OCR: {pdf_path.name}\", leave=False):\n",
    "            pix = page.get_pixmap(dpi=300)\n",
    "            img = Image.open(io.BytesIO(pix.tobytes()))\n",
    "            text = pytesseract.image_to_string(img)\n",
    "            full_text += text\n",
    "            del img, pix, page\n",
    "            gc.collect()\n",
    "\n",
    "        with open(txt_path, \"w\", encoding=\"utf-8\") as f:\n",
    "            f.write(full_text)\n",
    "\n",
    "        pdf_path.unlink()  # delete after success\n",
    "        print(f\"✅ Done and deleted: {pdf_path.name}\")\n",
    "\n",
    "    except Exception as e:\n",
    "        print(f\"❌ Failed to process {pdf_path.name}: {e}\")\n",
    "        try:\n",
    "            shutil.move(str(pdf_path), failed_folder / pdf_path.name)\n",
    "            print(f\"📁 Moved to failed_pdfs: {pdf_path.name}\")\n",
    "        except Exception as move_error:\n",
    "            print(f\"⚠️ Could not move failed file: {move_error}\")\n",
    "\n",
    "# 🔁 Process all PDFs\n",
    "pdf_files = list(input_folder.glob(\"*.pdf\"))\n",
    "print(f\"📚 Found {len(pdf_files)} PDF(s) in {input_folder}\")\n",
    "\n",
    "for pdf_file in tqdm(pdf_files, desc=\"📦 Processing PDFs\"):\n",
    "    txt_file = output_folder / f\"{pdf_file.stem}.txt\"\n",
    "    ocr_with_fitz(pdf_file, txt_file)\n",
    "\n",
    "print(\"\\n✅ All PDFs processed using PyMuPDF.\")"
   ]
  }
 ],
 "metadata": {
  "kernelspec": {
   "display_name": "Python 3",
   "language": "python",
   "name": "python3"
  },
  "language_info": {
   "codemirror_mode": {
    "name": "ipython",
    "version": 3
   },
   "file_extension": ".py",
   "mimetype": "text/x-python",
   "name": "python",
   "nbconvert_exporter": "python",
   "pygments_lexer": "ipython3",
   "version": "3.12.1"
  }
 },
 "nbformat": 4,
 "nbformat_minor": 2
}
