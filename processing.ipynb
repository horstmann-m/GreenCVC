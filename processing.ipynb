{
 "cells": [
  {
   "cell_type": "markdown",
   "metadata": {},
   "source": []
  },
  {
   "cell_type": "code",
   "execution_count": 4,
   "metadata": {},
   "outputs": [
    {
     "name": "stdout",
     "output_type": "stream",
     "text": [
      "\n",
      "✅ Done. Deleted 0 file(s).\n"
     ]
    }
   ],
   "source": [
    "from pathlib import Path\n",
    "\n",
    "# Define folders\n",
    "pdf_folder = Path(\"failed_pdfs\")\n",
    "txt_folder = Path(\"txt_final\")\n",
    "\n",
    "# Get list of .txt base names\n",
    "txt_basenames = {txt.stem for txt in txt_folder.glob(\"*.txt\")}\n",
    "\n",
    "# Loop over PDFs and delete if corresponding TXT exists\n",
    "deleted_count = 0\n",
    "for pdf in pdf_folder.glob(\"*.pdf\"):\n",
    "    if pdf.stem in txt_basenames:\n",
    "        print(f\"🗑 Deleting {pdf.name} (already processed)\")\n",
    "        pdf.unlink()\n",
    "        deleted_count += 1\n",
    "\n",
    "print(f\"\\n✅ Done. Deleted {deleted_count} file(s).\")"
   ]
  },
  {
   "cell_type": "markdown",
   "metadata": {},
   "source": []
  },
  {
   "cell_type": "code",
   "execution_count": 3,
   "metadata": {},
   "outputs": [
    {
     "name": "stdout",
     "output_type": "stream",
     "text": [
      "📚 Found 0 PDF(s) in proc_final\n"
     ]
    },
    {
     "name": "stderr",
     "output_type": "stream",
     "text": [
      "📦 Processing PDFs: 0it [00:00, ?it/s]"
     ]
    },
    {
     "name": "stdout",
     "output_type": "stream",
     "text": [
      "\n",
      "✅ All PDFs processed.\n"
     ]
    },
    {
     "name": "stderr",
     "output_type": "stream",
     "text": [
      "\n"
     ]
    }
   ],
   "source": [
    "# 🛠 Required packages:\n",
    "# pip install pytesseract pdf2image pillow tqdm\n",
    "\n",
    "import pytesseract\n",
    "from pdf2image import convert_from_path\n",
    "from tqdm import tqdm\n",
    "from pathlib import Path\n",
    "import shutil\n",
    "import gc  # For garbage collection\n",
    "\n",
    "# 📁 Define folders\n",
    "input_folder = Path(\"proc_final\")            # Folder with input PDFs\n",
    "output_folder = Path(\"txt_final\")            # Output folder for TXT files\n",
    "failed_folder = Path(\"failed_pdfs\")          # Optional: store failed PDFs\n",
    "\n",
    "output_folder.mkdir(parents=True, exist_ok=True)\n",
    "failed_folder.mkdir(parents=True, exist_ok=True)\n",
    "\n",
    "# 🧠 OCR Function\n",
    "def ocr_pdf_to_txt(pdf_path, txt_path):\n",
    "    try:\n",
    "        print(f\"🔍 Processing {pdf_path.name}\")\n",
    "        # Convert PDF to list of page images\n",
    "        pages = convert_from_path(pdf_path)\n",
    "\n",
    "        if not pages:\n",
    "            print(f\"⚠️ No pages found in {pdf_path.name}. Skipping.\")\n",
    "            return\n",
    "\n",
    "        with open(txt_path, \"w\", encoding=\"utf-8\") as out:\n",
    "            for page_number, page in enumerate(\n",
    "                tqdm(pages, desc=f\"OCR: {pdf_path.name}\", leave=False), start=1\n",
    "            ):\n",
    "                text = pytesseract.image_to_string(page)\n",
    "                out.write(f\"\\n\\n--- Page {page_number} ---\\n\\n\")\n",
    "                out.write(text)\n",
    "                del page\n",
    "                gc.collect()\n",
    "\n",
    "    except Exception as e:\n",
    "        print(f\"❌ Failed to process {pdf_path.name}: {e}\")\n",
    "        try:\n",
    "            shutil.move(str(pdf_path), failed_folder / pdf_path.name)\n",
    "            print(f\"📁 Moved to failed_pdfs: {pdf_path.name}\")\n",
    "        except Exception as move_error:\n",
    "            print(f\"⚠️ Could not move failed file: {move_error}\")\n",
    "\n",
    "# 🔁 Loop through all PDFs\n",
    "pdf_files = list(input_folder.glob(\"*.pdf\"))\n",
    "print(f\"📚 Found {len(pdf_files)} PDF(s) in {input_folder}\")\n",
    "\n",
    "for pdf_file in tqdm(pdf_files, desc=\"📦 Processing PDFs\"):\n",
    "    txt_file = output_folder / f\"{pdf_file.stem}.txt\"\n",
    "    ocr_pdf_to_txt(pdf_file, txt_file)\n",
    "\n",
    "print(\"\\n✅ All PDFs processed.\")"
   ]
  },
  {
   "cell_type": "markdown",
   "metadata": {},
   "source": [
    "2nd try ocr"
   ]
  },
  {
   "cell_type": "code",
   "execution_count": 6,
   "metadata": {},
   "outputs": [
    {
     "name": "stdout",
     "output_type": "stream",
     "text": [
      "📚 Found 27 PDF(s) in failed_pdfs2\n"
     ]
    },
    {
     "name": "stderr",
     "output_type": "stream",
     "text": [
      "📦 Processing PDFs: 100%|██████████| 27/27 [00:00<00:00, 247.14it/s]"
     ]
    },
    {
     "name": "stdout",
     "output_type": "stream",
     "text": [
      "🔍 Processing 2016-Dec-31 - Volvo AB.pdf\n",
      "❌ Failed to process 2016-Dec-31 - Volvo AB.pdf: File could not be opened: Failed to open file 'failed_pdfs2/2016-Dec-31 - Volvo AB.pdf'.\n",
      "📁 Moved to failed_pdfs: 2016-Dec-31 - Volvo AB.pdf\n",
      "🔍 Processing 2017-Dec-31 - Henkel AG & Co KGaA.pdf\n",
      "❌ Failed to process 2017-Dec-31 - Henkel AG & Co KGaA.pdf: File could not be opened: Failed to open file 'failed_pdfs2/2017-Dec-31 - Henkel AG & Co KGaA.pdf'.\n",
      "📁 Moved to failed_pdfs: 2017-Dec-31 - Henkel AG & Co KGaA.pdf\n",
      "🔍 Processing 2018-Dec-31 - Repsol SA.pdf\n",
      "❌ Failed to process 2018-Dec-31 - Repsol SA.pdf: File could not be opened: Failed to open file 'failed_pdfs2/2018-Dec-31 - Repsol SA.pdf'.\n",
      "📁 Moved to failed_pdfs: 2018-Dec-31 - Repsol SA.pdf\n",
      "🔍 Processing 2018-Dec-31 - Nestle SA.pdf\n",
      "❌ Failed to process 2018-Dec-31 - Nestle SA.pdf: File could not be opened: Failed to open file 'failed_pdfs2/2018-Dec-31 - Nestle SA.pdf'.\n",
      "📁 Moved to failed_pdfs: 2018-Dec-31 - Nestle SA.pdf\n",
      "🔍 Processing 2015-Aug-31 - Sodexo SA 1.pdf\n",
      "❌ Failed to process 2015-Aug-31 - Sodexo SA 1.pdf: File could not be opened: Failed to open file 'failed_pdfs2/2015-Aug-31 - Sodexo SA 1.pdf'.\n",
      "📁 Moved to failed_pdfs: 2015-Aug-31 - Sodexo SA 1.pdf\n",
      "🔍 Processing 2017-Dec-31 - Beiersdorf AG.pdf\n",
      "❌ Failed to process 2017-Dec-31 - Beiersdorf AG.pdf: File could not be opened: Failed to open file 'failed_pdfs2/2017-Dec-31 - Beiersdorf AG.pdf'.\n",
      "📁 Moved to failed_pdfs: 2017-Dec-31 - Beiersdorf AG.pdf\n",
      "🔍 Processing 2020-Dec-31 - Television Francaise 1 SA.pdf\n",
      "❌ Failed to process 2020-Dec-31 - Television Francaise 1 SA.pdf: File could not be opened: Failed to open file 'failed_pdfs2/2020-Dec-31 - Television Francaise 1 SA.pdf'.\n",
      "📁 Moved to failed_pdfs: 2020-Dec-31 - Television Francaise 1 SA.pdf\n",
      "🔍 Processing 2015-Dec-31 - Compagnie de Saint Gobain....pdf\n",
      "❌ Failed to process 2015-Dec-31 - Compagnie de Saint Gobain....pdf: File could not be opened: Failed to open file 'failed_pdfs2/2015-Dec-31 - Compagnie de Saint Gobain....pdf'.\n",
      "📁 Moved to failed_pdfs: 2015-Dec-31 - Compagnie de Saint Gobain....pdf\n",
      "🔍 Processing 2014-Dec-31 - ABN Amro Bank NV.pdf\n",
      "❌ Failed to process 2014-Dec-31 - ABN Amro Bank NV.pdf: File could not be opened: Failed to open file 'failed_pdfs2/2014-Dec-31 - ABN Amro Bank NV.pdf'.\n",
      "📁 Moved to failed_pdfs: 2014-Dec-31 - ABN Amro Bank NV.pdf\n",
      "🔍 Processing 2018-Dec-31 - Allianz SE.pdf\n",
      "❌ Failed to process 2018-Dec-31 - Allianz SE.pdf: File could not be opened: Failed to open file 'failed_pdfs2/2018-Dec-31 - Allianz SE.pdf'.\n",
      "📁 Moved to failed_pdfs: 2018-Dec-31 - Allianz SE.pdf\n",
      "🔍 Processing 2014-Dec-31 - Swisscom AG.pdf\n",
      "❌ Failed to process 2014-Dec-31 - Swisscom AG.pdf: File could not be opened: Failed to open file 'failed_pdfs2/2014-Dec-31 - Swisscom AG.pdf'.\n",
      "📁 Moved to failed_pdfs: 2014-Dec-31 - Swisscom AG.pdf\n",
      "🔍 Processing 2022-Dec-31 - Engie SA.pdf\n",
      "❌ Failed to process 2022-Dec-31 - Engie SA.pdf: File could not be opened: Failed to open file 'failed_pdfs2/2022-Dec-31 - Engie SA.pdf'.\n",
      "📁 Moved to failed_pdfs: 2022-Dec-31 - Engie SA.pdf\n",
      "🔍 Processing 2018-Dec-31 - Bilfinger SE.pdf\n",
      "❌ Failed to process 2018-Dec-31 - Bilfinger SE.pdf: File could not be opened: Failed to open file 'failed_pdfs2/2018-Dec-31 - Bilfinger SE.pdf'.\n",
      "📁 Moved to failed_pdfs: 2018-Dec-31 - Bilfinger SE.pdf\n",
      "🔍 Processing 2019-Dec-31 - Bilfinger SE.pdf\n",
      "❌ Failed to process 2019-Dec-31 - Bilfinger SE.pdf: File could not be opened: Failed to open file 'failed_pdfs2/2019-Dec-31 - Bilfinger SE.pdf'.\n",
      "📁 Moved to failed_pdfs: 2019-Dec-31 - Bilfinger SE.pdf\n",
      "🔍 Processing 2015-Dec-31 - RWE AG.pdf\n",
      "❌ Failed to process 2015-Dec-31 - RWE AG.pdf: File could not be opened: Failed to open file 'failed_pdfs2/2015-Dec-31 - RWE AG.pdf'.\n",
      "📁 Moved to failed_pdfs: 2015-Dec-31 - RWE AG.pdf\n",
      "🔍 Processing 2014-Dec-31 - Deutsche Telekom AG.pdf\n",
      "❌ Failed to process 2014-Dec-31 - Deutsche Telekom AG.pdf: File could not be opened: Failed to open file 'failed_pdfs2/2014-Dec-31 - Deutsche Telekom AG.pdf'.\n",
      "📁 Moved to failed_pdfs: 2014-Dec-31 - Deutsche Telekom AG.pdf\n",
      "🔍 Processing 2021-Dec-31 - Prosiebensat 1 Media SE.pdf\n",
      "❌ Failed to process 2021-Dec-31 - Prosiebensat 1 Media SE.pdf: File could not be opened: Failed to open file 'failed_pdfs2/2021-Dec-31 - Prosiebensat 1 Media SE.pdf'.\n",
      "📁 Moved to failed_pdfs: 2021-Dec-31 - Prosiebensat 1 Media SE.pdf\n",
      "🔍 Processing 2021-Dec-31 - Koninklijke KPN NV.pdf\n",
      "❌ Failed to process 2021-Dec-31 - Koninklijke KPN NV.pdf: File could not be opened: Failed to open file 'failed_pdfs2/2021-Dec-31 - Koninklijke KPN NV.pdf'.\n",
      "📁 Moved to failed_pdfs: 2021-Dec-31 - Koninklijke KPN NV.pdf\n",
      "🔍 Processing 2020-Dec-31 - Nordea Bank Abp.pdf\n",
      "❌ Failed to process 2020-Dec-31 - Nordea Bank Abp.pdf: File could not be opened: Failed to open file 'failed_pdfs2/2020-Dec-31 - Nordea Bank Abp.pdf'.\n",
      "📁 Moved to failed_pdfs: 2020-Dec-31 - Nordea Bank Abp.pdf\n",
      "🔍 Processing 2014-Dec-31 - Safran SA.pdf\n",
      "❌ Failed to process 2014-Dec-31 - Safran SA.pdf: File could not be opened: Failed to open file 'failed_pdfs2/2014-Dec-31 - Safran SA.pdf'.\n",
      "📁 Moved to failed_pdfs: 2014-Dec-31 - Safran SA.pdf\n",
      "🔍 Processing 2018-Dec-31 - Koninklijke Philips NV.pdf\n",
      "❌ Failed to process 2018-Dec-31 - Koninklijke Philips NV.pdf: File could not be opened: Failed to open file 'failed_pdfs2/2018-Dec-31 - Koninklijke Philips NV.pdf'.\n",
      "📁 Moved to failed_pdfs: 2018-Dec-31 - Koninklijke Philips NV.pdf\n",
      "🔍 Processing 2022 siemens gamesa.pdf\n",
      "❌ Failed to process 2022 siemens gamesa.pdf: File could not be opened: Failed to open file 'failed_pdfs2/2022 siemens gamesa.pdf'.\n",
      "📁 Moved to failed_pdfs: 2022 siemens gamesa.pdf\n",
      "🔍 Processing 2022 siemens gamesa:energy.pdf\n",
      "❌ Failed to process 2022 siemens gamesa:energy.pdf: File could not be opened: Failed to open file 'failed_pdfs2/2022 siemens gamesa:energy.pdf'.\n",
      "📁 Moved to failed_pdfs: 2022 siemens gamesa:energy.pdf\n",
      "🔍 Processing 2015-Dec-31 - Scor SE.pdf\n",
      "❌ Failed to process 2015-Dec-31 - Scor SE.pdf: File could not be opened: Failed to open file 'failed_pdfs2/2015-Dec-31 - Scor SE.pdf'.\n",
      "📁 Moved to failed_pdfs: 2015-Dec-31 - Scor SE.pdf\n",
      "🔍 Processing 2016-Dec-31 - Electricite De France SA 1.pdf\n",
      "❌ Failed to process 2016-Dec-31 - Electricite De France SA 1.pdf: File could not be opened: Failed to open file 'failed_pdfs2/2016-Dec-31 - Electricite De France SA 1.pdf'.\n",
      "📁 Moved to failed_pdfs: 2016-Dec-31 - Electricite De France SA 1.pdf\n",
      "🔍 Processing 2021 novartis.pdf\n",
      "❌ Failed to process 2021 novartis.pdf: File could not be opened: Failed to open file 'failed_pdfs2/2021 novartis.pdf'.\n",
      "📁 Moved to failed_pdfs: 2021 novartis.pdf\n",
      "🔍 Processing 2016-Dec-31 - ABN Amro Bank NV.pdf\n",
      "❌ Failed to process 2016-Dec-31 - ABN Amro Bank NV.pdf: File could not be opened: Failed to open file 'failed_pdfs2/2016-Dec-31 - ABN Amro Bank NV.pdf'.\n",
      "📁 Moved to failed_pdfs: 2016-Dec-31 - ABN Amro Bank NV.pdf\n",
      "\n",
      "✅ All PDFs processed using PyMuPDF.\n"
     ]
    },
    {
     "name": "stderr",
     "output_type": "stream",
     "text": [
      "\n"
     ]
    }
   ],
   "source": [
    "# 🛠 Required packages:\n",
    "# pip install pymupdf pytesseract pillow tqdm\n",
    "\n",
    "import fitz  # PyMuPDF\n",
    "import pytesseract\n",
    "from PIL import Image\n",
    "from tqdm import tqdm\n",
    "from pathlib import Path\n",
    "import shutil\n",
    "import io\n",
    "import gc\n",
    "\n",
    "# 📁 Define folders\n",
    "input_folder = Path(\"failed_pdfs2\")\n",
    "output_folder = Path(\"txt_final\")\n",
    "failed_folder = Path(\"failed_pdfs3\")\n",
    "\n",
    "output_folder.mkdir(parents=True, exist_ok=True)\n",
    "failed_folder.mkdir(parents=True, exist_ok=True)\n",
    "\n",
    "# 🧠 OCR with PyMuPDF\n",
    "def ocr_with_fitz(pdf_path, txt_path):\n",
    "    try:\n",
    "        print(f\"🔍 Processing {pdf_path.name}\")\n",
    "\n",
    "        # Try to open the file\n",
    "        try:\n",
    "            doc = fitz.open(pdf_path)\n",
    "        except Exception as open_error:\n",
    "            raise RuntimeError(f\"File could not be opened: {open_error}\")\n",
    "\n",
    "        # Check for encryption\n",
    "        if doc.is_encrypted:\n",
    "            raise RuntimeError(\"PDF is encrypted and cannot be processed\")\n",
    "\n",
    "        # Check for zero pages\n",
    "        if doc.page_count == 0:\n",
    "            raise RuntimeError(\"PDF has 0 pages\")\n",
    "\n",
    "        full_text = \"\"\n",
    "        for page in tqdm(doc, desc=f\"OCR: {pdf_path.name}\", leave=False):\n",
    "            try:\n",
    "                pix = page.get_pixmap(dpi=300)\n",
    "                img = Image.open(io.BytesIO(pix.tobytes()))\n",
    "                text = pytesseract.image_to_string(img)\n",
    "                full_text += text\n",
    "                del img, pix, page\n",
    "                gc.collect()\n",
    "            except Exception as page_error:\n",
    "                print(f\"⚠️ Failed to process page: {page_error}\")\n",
    "\n",
    "        # Save text\n",
    "        with open(txt_path, \"w\", encoding=\"utf-8\") as f:\n",
    "            f.write(full_text)\n",
    "\n",
    "        # Delete after success\n",
    "        pdf_path.unlink()\n",
    "        print(f\"✅ Done and deleted: {pdf_path.name}\")\n",
    "\n",
    "    except Exception as e:\n",
    "        print(f\"❌ Failed to process {pdf_path.name}: {e}\")\n",
    "        try:\n",
    "            shutil.move(str(pdf_path), failed_folder / pdf_path.name)\n",
    "            print(f\"📁 Moved to failed_pdfs: {pdf_path.name}\")\n",
    "        except Exception as move_error:\n",
    "            print(f\"⚠️ Could not move failed file: {move_error}\")\n",
    "        with open(\"hard_failed_pdfs.txt\", \"a\", encoding=\"utf-8\") as log:\n",
    "            log.write(f\"{pdf_path.name}: {e}\\n\")\n",
    "\n",
    "# 🔁 Process all PDFs\n",
    "pdf_files = list(input_folder.glob(\"*.pdf\"))\n",
    "print(f\"📚 Found {len(pdf_files)} PDF(s) in {input_folder}\")\n",
    "\n",
    "for pdf_file in tqdm(pdf_files, desc=\"📦 Processing PDFs\"):\n",
    "    txt_file = output_folder / f\"{pdf_file.stem}.txt\"\n",
    "    ocr_with_fitz(pdf_file, txt_file)\n",
    "\n",
    "print(\"\\n✅ All PDFs processed using PyMuPDF.\")"
   ]
  }
 ],
 "metadata": {
  "kernelspec": {
   "display_name": "Python 3",
   "language": "python",
   "name": "python3"
  },
  "language_info": {
   "codemirror_mode": {
    "name": "ipython",
    "version": 3
   },
   "file_extension": ".py",
   "mimetype": "text/x-python",
   "name": "python",
   "nbconvert_exporter": "python",
   "pygments_lexer": "ipython3",
   "version": "3.12.1"
  }
 },
 "nbformat": 4,
 "nbformat_minor": 2
}
